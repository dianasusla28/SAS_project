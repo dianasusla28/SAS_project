{
  "nbformat": 4,
  "nbformat_minor": 0,
  "metadata": {
    "colab": {
      "name": "SAS_Susla.ipynb",
      "provenance": [],
      "collapsed_sections": [
        "_NAObA8HAQuR",
        "N_fAAfKxP9m7",
        "S0lOrrhNofk5",
        "HHjHA2aKsSYT",
        "r4kjp84TUJth",
        "m2LJVcFKqyG-",
        "d_GtRrWQGACv"
      ]
    },
    "kernelspec": {
      "name": "python3",
      "display_name": "Python 3"
    },
    "language_info": {
      "name": "python"
    }
  },
  "cells": [
    {
      "cell_type": "markdown",
      "metadata": {
        "id": "JtuSaohbAv0E"
      },
      "source": [
        "#Загрузка"
      ]
    },
    {
      "cell_type": "code",
      "metadata": {
        "id": "K9w0LQp1bmJY"
      },
      "source": [
        "# -*- coding: utf8 -*-\n",
        "import pandas as pd\n",
        "import numpy as np\n",
        "import math\n",
        "from copy import copy\n",
        "import matplotlib\n",
        "import matplotlib.pyplot as plt\n",
        "import warnings\n",
        "from google.colab import drive\n",
        "from google.colab import files\n",
        "from sklearn.ensemble import RandomForestClassifier\n",
        "from sklearn.tree import DecisionTreeClassifier\n",
        "import xgboost as xgb\n",
        "from lightgbm import LGBMClassifier\n",
        "from sklearn.metrics import f1_score\n",
        "from sklearn.metrics import accuracy_score\n",
        "from sklearn.metrics import roc_auc_score\n",
        "from sklearn.preprocessing import StandardScaler\n",
        "from sklearn.preprocessing import OneHotEncoder\n",
        "from sklearn.pipeline import Pipeline\n",
        "from sklearn.compose import ColumnTransformer\n",
        "from sklearn.metrics import classification_report\n",
        "\n",
        "warnings.simplefilter(\"ignore\")"
      ],
      "execution_count": null,
      "outputs": []
    },
    {
      "cell_type": "code",
      "metadata": {
        "id": "-tsjclekgHc3"
      },
      "source": [
        "drive.mount('/content/gdrive')"
      ],
      "execution_count": null,
      "outputs": []
    },
    {
      "cell_type": "code",
      "metadata": {
        "id": "v4TuSQ-wxUks"
      },
      "source": [
        "df = pd.read_csv('/content/gdrive/My Drive/sas_data.csv', sep = ';')"
      ],
      "execution_count": null,
      "outputs": []
    },
    {
      "cell_type": "code",
      "metadata": {
        "id": "8KkIXkyl8Mq7"
      },
      "source": [
        "def load():\n",
        "    #возвращает исходные данные\n",
        "    data = pd.read_csv('/content/gdrive/My Drive/sas_data/project.csv', sep = ',')\n",
        "    return data"
      ],
      "execution_count": null,
      "outputs": []
    },
    {
      "cell_type": "code",
      "metadata": {
        "id": "fnb3yVN1gNRZ"
      },
      "source": [
        "def load_full():\n",
        "    #возвращает уже заполненные данные\n",
        "    #data = pd.read_csv('/content/gdrive/My Drive/sas_data/full_data.csv', sep = ',')\n",
        "    data = pd.read_csv('/content/gdrive/My Drive/sas_data/data_redemp.csv', sep = ',')\n",
        "    data.drop('Unnamed: 0', axis=1, inplace=True)\n",
        "    return data"
      ],
      "execution_count": null,
      "outputs": []
    },
    {
      "cell_type": "code",
      "metadata": {
        "id": "TqUwELtpm6Rb"
      },
      "source": [
        "def load_final():\n",
        "    #возвращает заполненные данные c новыми столбцами\n",
        "    data = pd.read_csv('/content/gdrive/My Drive/sas_data/data_100.csv', sep = ',')\n",
        "    data.drop('Unnamed: 0', axis=1, inplace=True)\n",
        "    return data"
      ],
      "execution_count": null,
      "outputs": []
    },
    {
      "cell_type": "markdown",
      "metadata": {
        "id": "_NAObA8HAQuR"
      },
      "source": [
        "#Вспомогательные функции"
      ]
    },
    {
      "cell_type": "code",
      "metadata": {
        "id": "rsFXjWzvHF3g"
      },
      "source": [
        "def drop_columns(data):\n",
        "    data.drop(['ID_SKU', 'ГодДатыЗаказа', 'НомерСтроки', 'СуммаУслуг', 'МагазинЗаказа'], axis=1, inplace=True)\n",
        "    #в столбце МагазинЗаказа более 99% пропусков\n",
        "    #НомерСтроки не несет в себе полезной информации\n",
        "    #Год заказа для всех товаров одинаковый, так что тоже нет пользы\n",
        "    return data"
      ],
      "execution_count": null,
      "outputs": []
    },
    {
      "cell_type": "code",
      "metadata": {
        "id": "QxIFTiReGOKH"
      },
      "source": [
        "def convert_features_to_valid_datatype(data, num_features):\n",
        "  #Преобразуем числовые признаки к нужному типу данных\n",
        "\n",
        "  data[num_features] = data[num_features].astype(str)\n",
        "\n",
        "  for c in num_features:\n",
        "      data[c] = data[c].apply(lambda el: el.replace(',', '.'))\n",
        "\n",
        "  for c in num_features:\n",
        "      data[c] = data[c].apply(lambda el: el.replace(' ', ''))\n",
        "\n",
        "  data[num_features] = data[num_features].astype(float)\n",
        "  return data"
      ],
      "execution_count": null,
      "outputs": []
    },
    {
      "cell_type": "code",
      "metadata": {
        "id": "FrjOCPl6aMBD"
      },
      "source": [
        "#Заполнение пропусков\n",
        "\n",
        "def fill_data(data):\n",
        "\n",
        "    #Заполнение пропусков в столбце 'Причина отмены'\n",
        "    data.loc[((data['ПричинаОтмены'].isnull()) & (data['Отменено'] == 'Нет')), 'ПричинаОтмены'] = 'не отменено'\n",
        "    data.loc[((data['ПричинаОтмены'].isnull()) & (data['Отменено'] == 'Да')), 'ПричинаОтмены'] = 'не указано'\n",
        "\n",
        "    #Заполнение пропусков по почте и клиенту\n",
        "    data.loc[(data['ЭлектроннаяПочта_new'].isnull()), 'ЭлектроннаяПочта_new'] = 'нет данных'\n",
        "    data.loc[(data['Клиент'].isnull()), 'Клиент'] = 'нет данных'\n",
        "\n",
        "    #Посмотрим на \"гео\" всех пропущенных позиций в столбце \"Регион\"\n",
        "    data.loc[(data['Регион'].isnull()), 'Регион'] = 'Регионы'\n",
        "    data.drop('Гео', axis=1, inplace=True)\n",
        "\n",
        "    data.loc[(data['ДатаДоставки'].isnull()) & (data['Отменено'] == 'Да'), 'ДатаДоставки'] = 'Заказ отменен'\n",
        "    data.loc[(data['МетодДоставки'].isnull())  & (data['Отменено'] == 'Да'), 'МетодДоставки'] = 'Заказ отменен'\n",
        "    data.loc[(data['ФормаОплаты'].isnull())  & (data['Отменено'] == 'Да'), 'ФормаОплаты'] = 'Заказ отменен' \n",
        "\n",
        "    #Для столбца 'ТипТовара' пропуски наблюдаются только в строках, отвечающих за Доставку, поэтому заполним его соответствующе\n",
        "    data.loc[(data['ТипТовара'].isnull())  & (data['Номенклатура'] == 'Доставка'), 'ТипТовара'] = 'Доставка'\n",
        "\n",
        "    #Заполним столбец с кодом пунктов выдачи заказов(пвз)\n",
        "    #data.loc[data['ПВЗ_код'].isnull(), 'НовыйСтатус'].unique()\n",
        "    #как видно, ПВЗ_код пустой для товаров, которые не дошли до ПВЗ\n",
        "    data.loc[data['ПВЗ_код'].isnull(), 'ПВЗ_код'] = 'Не доставлено в ПВЗ'\n",
        "\n",
        "    #Те строки, где пропуски в столбцах группа2, группа3 и группа4 - это доставка\n",
        "    #Заполним их новым значением - Доставка\n",
        "    data.loc[(data['Группа2'].isnull()) & (data['Номенклатура'] == 'Доставка'), 'Группа2'] = 'Доставка'\n",
        "    data.loc[(data['Группа3'].isnull()) & (data['Номенклатура'] == 'Доставка'), 'Группа3'] = 'Доставка'\n",
        "    data.loc[(data['Группа4'].isnull()) & (data['Номенклатура'] == 'Доставка'), 'Группа4'] = 'Доставка'\n",
        "\n",
        "    #Заполним оставшиеся пропуски в признаке \"Группа4\", для этого продублируем туда значения из признака \"Группа3\" \n",
        "    #(так между разными товарами будет хоть какая-то разница по этому признаку, чем если бы мы заполняли все наны одинаково)\n",
        "    data.loc[(data['Группа4'].isnull()) & (data['Номенклатура'] != 'Доставка'), 'Группа4'] = data.loc[(data['Группа4'].isnull()) & (data['Номенклатура'] != 'Доставка'), 'Группа3']\n",
        "    \n",
        "    #Заполнение пропусков в столбце 'Цена Закупки'\n",
        "    #Пропуски, соответствующие доставке, заполним 0\n",
        "    #Для остальных строк посмотрим, известна ли цена на позиции с такой же номенклатурой\n",
        "    #Если известна, тогда возьмем среднее значение\n",
        "    data.loc[(data['ЦенаЗакупки'].isnull()) & (data['Номенклатура'] == 'Доставка'), 'ЦенаЗакупки'] = 0\n",
        "    arr = data.loc[data['ЦенаЗакупки'].isnull(), 'Номенклатура'].unique()\n",
        "    arr = np.delete(arr, 0)\n",
        "    for i in arr:\n",
        "        val = data.loc[(data['Номенклатура'] == i) & (data['ЦенаЗакупки'].notnull())]['ЦенаЗакупки'].unique()\n",
        "        if (len(val) >= 1):\n",
        "            data.loc[(data['ЦенаЗакупки'].isnull()) & (data['Номенклатура'] == i), 'ЦенаЗакупки'] = np.mean(val)\n",
        "\n",
        "    #Если цена товара с такой же номенклатурой неизвестна, тогда посмотрим на среднюю цену закупки товаров той же группы4\n",
        "    d = data.loc[data['ЦенаЗакупки'].isnull()]['Группа4'].unique()\n",
        "    for el in d:\n",
        "        cost = data[(data['Группа4'] == el) & (data['ЦенаЗакупки'].notnull())]['ЦенаЗакупки'].unique()\n",
        "        if (len(cost) != 0):\n",
        "            data.loc[(data['ЦенаЗакупки'].isnull()) & (data['Группа4'] == el), 'ЦенаЗакупки'] = np.mean(cost)\n",
        "    \n",
        "    #Заполним пропуски в столбце 'Маржа' как разницу суммы строки и цены закупки\n",
        "    ind = data[(data['Маржа'].isnull())].index\n",
        "    data.loc[ind, 'Маржа'] = data.loc[ind, 'СуммаСтроки'] - data.loc[ind, 'ЦенаЗакупки']\n",
        "\n",
        "    return data"
      ],
      "execution_count": null,
      "outputs": []
    },
    {
      "cell_type": "code",
      "metadata": {
        "id": "k3E-vpWEkGoz"
      },
      "source": [
        "def any_gaps(data): #проверка на наличие пропусков\n",
        "    null_array = data.isnull().sum()\n",
        "    if null_array.sum() == 0:\n",
        "        print('Пропусков не осталось.')\n",
        "    else:\n",
        "        print('Остались пропуски в колонках:')\n",
        "        for i in range(len(null_array)):\n",
        "            if null_array[i] != 0:\n",
        "                print('\\t', data.columns[i], null_array[i])"
      ],
      "execution_count": null,
      "outputs": []
    },
    {
      "cell_type": "markdown",
      "metadata": {
        "id": "N_fAAfKxP9m7"
      },
      "source": [
        "#Подготовка данных"
      ]
    },
    {
      "cell_type": "code",
      "metadata": {
        "id": "8T5xdsQgGWap"
      },
      "source": [
        "#разделим признаки на числовые и категориальные\n",
        "\n",
        "num_features = ['СуммаЗаказаНаСайте', 'СуммаДокумента', 'Цена', 'СуммаСтроки', 'ЦенаЗакупки', 'Маржа', 'СуммаУслуг', 'СуммаДоставки']\n",
        "\n",
        "cat_features = ['Дата', 'ДатаДоставки', 'НомерЗаказаНаСайте', 'НовыйСтатус', 'МетодДоставки',\n",
        "'ФормаОплаты', 'Регион', 'Группа2', 'Группа3', 'Группа4', 'Тип', 'Номенклатура',\n",
        "'ТипТовара', 'Отменено', 'ПричинаОтмены', 'Количество', 'МесяцДатыЗаказа', 'ПВЗ_код',\n",
        "'Статус', 'КоличествоПроданоКлиенту', 'ДатаЗаказаНаСайте', 'Телефон_new',\n",
        "'ЭлектроннаяПочта_new', 'Клиент', 'ГородМагазина']"
      ],
      "execution_count": null,
      "outputs": []
    },
    {
      "cell_type": "code",
      "metadata": {
        "id": "oKv4qlqEHxjI"
      },
      "source": [
        "df = load()"
      ],
      "execution_count": null,
      "outputs": []
    },
    {
      "cell_type": "code",
      "metadata": {
        "id": "LJf3PRheGI2B"
      },
      "source": [
        "df = convert_features_to_valid_datatype(df, num_features)"
      ],
      "execution_count": null,
      "outputs": []
    },
    {
      "cell_type": "code",
      "metadata": {
        "colab": {
          "base_uri": "https://localhost:8080/"
        },
        "id": "k221h6MeO4Rk",
        "outputId": "e330ed6c-3273-435c-8e58-ea67c11d9f78"
      },
      "source": [
        "#Посчитаем количество пропусков и уникальных значений для каждого из столбцов.\n",
        "\n",
        "names = ['Кол-во уникальных значений', 'Процент уникальных значений', 'Кол-во пропусков', 'Процент пропусков']\n",
        "res = pd.DataFrame(index = df.columns, columns=names)\n",
        "\n",
        "res['Кол-во уникальных значений'] = df.nunique().values\n",
        "#количество уникальных значений считается без учета NaN\n",
        "res['Процент уникальных значений'] = round(res['Кол-во уникальных значений'] * 100 / df.shape[0], 2)\n",
        "\n",
        "res['Кол-во пропусков'] = df.isna().sum().values\n",
        "res['Процент пропусков'] = round(res['Кол-во пропусков'] * 100 / df.shape[0], 2)\n",
        "\n",
        "res"
      ],
      "execution_count": null,
      "outputs": [
        {
          "output_type": "execute_result",
          "data": {
            "text/html": [
              "<div>\n",
              "<style scoped>\n",
              "    .dataframe tbody tr th:only-of-type {\n",
              "        vertical-align: middle;\n",
              "    }\n",
              "\n",
              "    .dataframe tbody tr th {\n",
              "        vertical-align: top;\n",
              "    }\n",
              "\n",
              "    .dataframe thead th {\n",
              "        text-align: right;\n",
              "    }\n",
              "</style>\n",
              "<table border=\"1\" class=\"dataframe\">\n",
              "  <thead>\n",
              "    <tr style=\"text-align: right;\">\n",
              "      <th></th>\n",
              "      <th>Кол-во уникальных значений</th>\n",
              "      <th>Процент уникальных значений</th>\n",
              "      <th>Кол-во пропусков</th>\n",
              "      <th>Процент пропусков</th>\n",
              "    </tr>\n",
              "  </thead>\n",
              "  <tbody>\n",
              "    <tr>\n",
              "      <th>Дата</th>\n",
              "      <td>26061</td>\n",
              "      <td>3.27</td>\n",
              "      <td>0</td>\n",
              "      <td>0.00</td>\n",
              "    </tr>\n",
              "    <tr>\n",
              "      <th>ДатаДоставки</th>\n",
              "      <td>107</td>\n",
              "      <td>0.01</td>\n",
              "      <td>682</td>\n",
              "      <td>0.09</td>\n",
              "    </tr>\n",
              "    <tr>\n",
              "      <th>НомерЗаказаНаСайте</th>\n",
              "      <td>170355</td>\n",
              "      <td>21.37</td>\n",
              "      <td>0</td>\n",
              "      <td>0.00</td>\n",
              "    </tr>\n",
              "    <tr>\n",
              "      <th>НовыйСтатус</th>\n",
              "      <td>14</td>\n",
              "      <td>0.00</td>\n",
              "      <td>0</td>\n",
              "      <td>0.00</td>\n",
              "    </tr>\n",
              "    <tr>\n",
              "      <th>СуммаЗаказаНаСайте</th>\n",
              "      <td>15391</td>\n",
              "      <td>1.93</td>\n",
              "      <td>0</td>\n",
              "      <td>0.00</td>\n",
              "    </tr>\n",
              "    <tr>\n",
              "      <th>СуммаДокумента</th>\n",
              "      <td>14909</td>\n",
              "      <td>1.87</td>\n",
              "      <td>0</td>\n",
              "      <td>0.00</td>\n",
              "    </tr>\n",
              "    <tr>\n",
              "      <th>МетодДоставки</th>\n",
              "      <td>6</td>\n",
              "      <td>0.00</td>\n",
              "      <td>54</td>\n",
              "      <td>0.01</td>\n",
              "    </tr>\n",
              "    <tr>\n",
              "      <th>ФормаОплаты</th>\n",
              "      <td>2</td>\n",
              "      <td>0.00</td>\n",
              "      <td>55</td>\n",
              "      <td>0.01</td>\n",
              "    </tr>\n",
              "    <tr>\n",
              "      <th>Регион</th>\n",
              "      <td>491</td>\n",
              "      <td>0.06</td>\n",
              "      <td>4919</td>\n",
              "      <td>0.62</td>\n",
              "    </tr>\n",
              "    <tr>\n",
              "      <th>Группа2</th>\n",
              "      <td>13</td>\n",
              "      <td>0.00</td>\n",
              "      <td>157628</td>\n",
              "      <td>19.77</td>\n",
              "    </tr>\n",
              "    <tr>\n",
              "      <th>Группа3</th>\n",
              "      <td>97</td>\n",
              "      <td>0.01</td>\n",
              "      <td>157628</td>\n",
              "      <td>19.77</td>\n",
              "    </tr>\n",
              "    <tr>\n",
              "      <th>Группа4</th>\n",
              "      <td>435</td>\n",
              "      <td>0.05</td>\n",
              "      <td>183146</td>\n",
              "      <td>22.97</td>\n",
              "    </tr>\n",
              "    <tr>\n",
              "      <th>Тип</th>\n",
              "      <td>5</td>\n",
              "      <td>0.00</td>\n",
              "      <td>0</td>\n",
              "      <td>0.00</td>\n",
              "    </tr>\n",
              "    <tr>\n",
              "      <th>Номенклатура</th>\n",
              "      <td>85568</td>\n",
              "      <td>10.73</td>\n",
              "      <td>0</td>\n",
              "      <td>0.00</td>\n",
              "    </tr>\n",
              "    <tr>\n",
              "      <th>ТипТовара</th>\n",
              "      <td>2</td>\n",
              "      <td>0.00</td>\n",
              "      <td>157628</td>\n",
              "      <td>19.77</td>\n",
              "    </tr>\n",
              "    <tr>\n",
              "      <th>Отменено</th>\n",
              "      <td>2</td>\n",
              "      <td>0.00</td>\n",
              "      <td>0</td>\n",
              "      <td>0.00</td>\n",
              "    </tr>\n",
              "    <tr>\n",
              "      <th>ПричинаОтмены</th>\n",
              "      <td>32</td>\n",
              "      <td>0.00</td>\n",
              "      <td>720360</td>\n",
              "      <td>90.36</td>\n",
              "    </tr>\n",
              "    <tr>\n",
              "      <th>Количество</th>\n",
              "      <td>90</td>\n",
              "      <td>0.01</td>\n",
              "      <td>0</td>\n",
              "      <td>0.00</td>\n",
              "    </tr>\n",
              "    <tr>\n",
              "      <th>Цена</th>\n",
              "      <td>12183</td>\n",
              "      <td>1.53</td>\n",
              "      <td>0</td>\n",
              "      <td>0.00</td>\n",
              "    </tr>\n",
              "    <tr>\n",
              "      <th>СуммаСтроки</th>\n",
              "      <td>13045</td>\n",
              "      <td>1.64</td>\n",
              "      <td>0</td>\n",
              "      <td>0.00</td>\n",
              "    </tr>\n",
              "    <tr>\n",
              "      <th>ЦенаЗакупки</th>\n",
              "      <td>27522</td>\n",
              "      <td>3.45</td>\n",
              "      <td>160096</td>\n",
              "      <td>20.08</td>\n",
              "    </tr>\n",
              "    <tr>\n",
              "      <th>МесяцДатыЗаказа</th>\n",
              "      <td>2</td>\n",
              "      <td>0.00</td>\n",
              "      <td>0</td>\n",
              "      <td>0.00</td>\n",
              "    </tr>\n",
              "    <tr>\n",
              "      <th>ГодДатыЗаказа</th>\n",
              "      <td>1</td>\n",
              "      <td>0.00</td>\n",
              "      <td>0</td>\n",
              "      <td>0.00</td>\n",
              "    </tr>\n",
              "    <tr>\n",
              "      <th>ПВЗ_код</th>\n",
              "      <td>3</td>\n",
              "      <td>0.00</td>\n",
              "      <td>201425</td>\n",
              "      <td>25.27</td>\n",
              "    </tr>\n",
              "    <tr>\n",
              "      <th>Статус</th>\n",
              "      <td>5</td>\n",
              "      <td>0.00</td>\n",
              "      <td>0</td>\n",
              "      <td>0.00</td>\n",
              "    </tr>\n",
              "    <tr>\n",
              "      <th>Гео</th>\n",
              "      <td>3</td>\n",
              "      <td>0.00</td>\n",
              "      <td>0</td>\n",
              "      <td>0.00</td>\n",
              "    </tr>\n",
              "    <tr>\n",
              "      <th>Маржа</th>\n",
              "      <td>42796</td>\n",
              "      <td>5.37</td>\n",
              "      <td>160096</td>\n",
              "      <td>20.08</td>\n",
              "    </tr>\n",
              "    <tr>\n",
              "      <th>СуммаУслуг</th>\n",
              "      <td>96</td>\n",
              "      <td>0.01</td>\n",
              "      <td>0</td>\n",
              "      <td>0.00</td>\n",
              "    </tr>\n",
              "    <tr>\n",
              "      <th>СуммаДоставки</th>\n",
              "      <td>96</td>\n",
              "      <td>0.01</td>\n",
              "      <td>0</td>\n",
              "      <td>0.00</td>\n",
              "    </tr>\n",
              "    <tr>\n",
              "      <th>НомерСтроки</th>\n",
              "      <td>123</td>\n",
              "      <td>0.02</td>\n",
              "      <td>0</td>\n",
              "      <td>0.00</td>\n",
              "    </tr>\n",
              "    <tr>\n",
              "      <th>КоличествоПроданоКлиенту</th>\n",
              "      <td>85</td>\n",
              "      <td>0.01</td>\n",
              "      <td>0</td>\n",
              "      <td>0.00</td>\n",
              "    </tr>\n",
              "    <tr>\n",
              "      <th>ДатаЗаказаНаСайте</th>\n",
              "      <td>67</td>\n",
              "      <td>0.01</td>\n",
              "      <td>0</td>\n",
              "      <td>0.00</td>\n",
              "    </tr>\n",
              "    <tr>\n",
              "      <th>Телефон_new</th>\n",
              "      <td>116477</td>\n",
              "      <td>14.61</td>\n",
              "      <td>0</td>\n",
              "      <td>0.00</td>\n",
              "    </tr>\n",
              "    <tr>\n",
              "      <th>ЭлектроннаяПочта_new</th>\n",
              "      <td>6418</td>\n",
              "      <td>0.81</td>\n",
              "      <td>13297</td>\n",
              "      <td>1.67</td>\n",
              "    </tr>\n",
              "    <tr>\n",
              "      <th>Клиент</th>\n",
              "      <td>5465</td>\n",
              "      <td>0.69</td>\n",
              "      <td>160</td>\n",
              "      <td>0.02</td>\n",
              "    </tr>\n",
              "    <tr>\n",
              "      <th>ID_SKU</th>\n",
              "      <td>102548</td>\n",
              "      <td>12.86</td>\n",
              "      <td>0</td>\n",
              "      <td>0.00</td>\n",
              "    </tr>\n",
              "    <tr>\n",
              "      <th>ГородМагазина</th>\n",
              "      <td>66</td>\n",
              "      <td>0.01</td>\n",
              "      <td>0</td>\n",
              "      <td>0.00</td>\n",
              "    </tr>\n",
              "    <tr>\n",
              "      <th>МагазинЗаказа</th>\n",
              "      <td>90</td>\n",
              "      <td>0.01</td>\n",
              "      <td>792328</td>\n",
              "      <td>99.39</td>\n",
              "    </tr>\n",
              "  </tbody>\n",
              "</table>\n",
              "</div>"
            ],
            "text/plain": [
              "                          Кол-во уникальных значений  ...  Процент пропусков\n",
              "Дата                                           26061  ...               0.00\n",
              "ДатаДоставки                                     107  ...               0.09\n",
              "НомерЗаказаНаСайте                            170355  ...               0.00\n",
              "НовыйСтатус                                       14  ...               0.00\n",
              "СуммаЗаказаНаСайте                             15391  ...               0.00\n",
              "СуммаДокумента                                 14909  ...               0.00\n",
              "МетодДоставки                                      6  ...               0.01\n",
              "ФормаОплаты                                        2  ...               0.01\n",
              "Регион                                           491  ...               0.62\n",
              "Группа2                                           13  ...              19.77\n",
              "Группа3                                           97  ...              19.77\n",
              "Группа4                                          435  ...              22.97\n",
              "Тип                                                5  ...               0.00\n",
              "Номенклатура                                   85568  ...               0.00\n",
              "ТипТовара                                          2  ...              19.77\n",
              "Отменено                                           2  ...               0.00\n",
              "ПричинаОтмены                                     32  ...              90.36\n",
              "Количество                                        90  ...               0.00\n",
              "Цена                                           12183  ...               0.00\n",
              "СуммаСтроки                                    13045  ...               0.00\n",
              "ЦенаЗакупки                                    27522  ...              20.08\n",
              "МесяцДатыЗаказа                                    2  ...               0.00\n",
              "ГодДатыЗаказа                                      1  ...               0.00\n",
              "ПВЗ_код                                            3  ...              25.27\n",
              "Статус                                             5  ...               0.00\n",
              "Гео                                                3  ...               0.00\n",
              "Маржа                                          42796  ...              20.08\n",
              "СуммаУслуг                                        96  ...               0.00\n",
              "СуммаДоставки                                     96  ...               0.00\n",
              "НомерСтроки                                      123  ...               0.00\n",
              "КоличествоПроданоКлиенту                          85  ...               0.00\n",
              "ДатаЗаказаНаСайте                                 67  ...               0.00\n",
              "Телефон_new                                   116477  ...               0.00\n",
              "ЭлектроннаяПочта_new                            6418  ...               1.67\n",
              "Клиент                                          5465  ...               0.02\n",
              "ID_SKU                                        102548  ...               0.00\n",
              "ГородМагазина                                     66  ...               0.00\n",
              "МагазинЗаказа                                     90  ...              99.39\n",
              "\n",
              "[38 rows x 4 columns]"
            ]
          },
          "metadata": {
            "tags": []
          },
          "execution_count": 10
        }
      ]
    },
    {
      "cell_type": "code",
      "metadata": {
        "id": "S4IdUuJXH0Lu"
      },
      "source": [
        "df = drop_columns(df)"
      ],
      "execution_count": null,
      "outputs": []
    },
    {
      "cell_type": "markdown",
      "metadata": {
        "id": "we3hTz8LETg7"
      },
      "source": [
        "Заполним пропуски."
      ]
    },
    {
      "cell_type": "code",
      "metadata": {
        "id": "xKoRiuqYjt7X"
      },
      "source": [
        "df = fill_data(df)"
      ],
      "execution_count": null,
      "outputs": []
    },
    {
      "cell_type": "code",
      "metadata": {
        "id": "bUrgpyA9mwKg",
        "colab": {
          "base_uri": "https://localhost:8080/"
        },
        "outputId": "8a03f52e-226b-47af-dad5-860d15ac80cd"
      },
      "source": [
        "any_gaps(df)"
      ],
      "execution_count": null,
      "outputs": [
        {
          "output_type": "stream",
          "text": [
            "Остались пропуски в колонках:\n",
            "\t ДатаДоставки 7\n",
            "\t МетодДоставки 5\n",
            "\t ФормаОплаты 5\n",
            "\t ЦенаЗакупки 6\n",
            "\t Маржа 6\n"
          ],
          "name": "stdout"
        }
      ]
    },
    {
      "cell_type": "code",
      "metadata": {
        "id": "7uMiC7-mDehx"
      },
      "source": [
        "#Удалим оставшиеся строки\n",
        "\n",
        "del_ind = df.loc[(df['ДатаДоставки'].isnull())].index\n",
        "df.drop(del_ind, axis = 0, inplace = True)\n",
        "del_ind = df.loc[(df['ЦенаЗакупки'].isnull())].index\n",
        "df.drop(del_ind, axis = 0, inplace = True)\n",
        "df = df.reset_index()\n",
        "df.drop('index', axis = 1, inplace = True)"
      ],
      "execution_count": null,
      "outputs": []
    },
    {
      "cell_type": "code",
      "metadata": {
        "colab": {
          "base_uri": "https://localhost:8080/"
        },
        "id": "YYcAkFSVDgjI",
        "outputId": "5e5bffff-3c86-41e7-89a3-308e35192f1e"
      },
      "source": [
        "any_gaps(df)"
      ],
      "execution_count": null,
      "outputs": [
        {
          "output_type": "stream",
          "text": [
            "Пропусков не осталось.\n"
          ],
          "name": "stdout"
        }
      ]
    },
    {
      "cell_type": "code",
      "metadata": {
        "id": "iJxd9kaODAmY",
        "colab": {
          "base_uri": "https://localhost:8080/"
        },
        "outputId": "4afea5b5-2038-4205-d197-fabf940e6691"
      },
      "source": [
        "df.drop"
      ],
      "execution_count": null,
      "outputs": [
        {
          "output_type": "execute_result",
          "data": {
            "text/plain": [
              "<bound method DataFrame.drop of                     Дата     ДатаДоставки  ...    Клиент ГородМагазина\n",
              "0        01.07.2017 0:00  06.07.2017 0:00  ...   Татьяна             0\n",
              "1        01.07.2017 0:00  06.07.2017 0:00  ...   Татьяна             0\n",
              "2        01.07.2017 0:00  06.07.2017 0:00  ...   Татьяна             0\n",
              "3        01.07.2017 0:00  06.07.2017 0:00  ...   Татьяна             0\n",
              "4        01.07.2017 0:00  06.07.2017 0:00  ...   Татьяна             0\n",
              "...                  ...              ...  ...       ...           ...\n",
              "797174  31.08.2017 23:42  06.09.2017 0:00  ...  Виктория             0\n",
              "797175  31.08.2017 23:42  06.09.2017 0:00  ...  Виктория             0\n",
              "797176  31.08.2017 23:42  06.09.2017 0:00  ...  Виктория             0\n",
              "797177  31.08.2017 23:42  06.09.2017 0:00  ...  Виктория             0\n",
              "797178  31.08.2017 23:42  06.09.2017 0:00  ...  Виктория             0\n",
              "\n",
              "[797179 rows x 32 columns]>"
            ]
          },
          "metadata": {
            "tags": []
          },
          "execution_count": 16
        }
      ]
    },
    {
      "cell_type": "code",
      "metadata": {
        "id": "bVnhgu0oEkmX"
      },
      "source": [
        "df.to_csv('full_data.csv')"
      ],
      "execution_count": null,
      "outputs": []
    },
    {
      "cell_type": "markdown",
      "metadata": {
        "id": "S0lOrrhNofk5"
      },
      "source": [
        "#Выкупленность товара"
      ]
    },
    {
      "cell_type": "code",
      "metadata": {
        "id": "sFIOObhooegP"
      },
      "source": [
        "#df = load_full()"
      ],
      "execution_count": null,
      "outputs": []
    },
    {
      "cell_type": "markdown",
      "metadata": {
        "id": "-mDLU4iWx8ow"
      },
      "source": [
        "Будем определять выкупленность товара по следующим признакам:\n",
        "\n",
        "*   Новый статус (= доставлен)\n",
        "*   Отменено (= нет)\n",
        "*   Количество ($\\neq 0$)\n",
        "*   Количество продано клиенту ($\\neq 0$)\n",
        "\n",
        "Если количество товаров совпадает с количеством, проданным клиенту, тогда товар выкуплен полностью. Если же данные параметры не равны, тогда товар считается выкупленным частично. Для таких случаев посчитаем долю выкупленного товара."
      ]
    },
    {
      "cell_type": "code",
      "metadata": {
        "id": "lg0ldZjar1n5"
      },
      "source": [
        "df['Выкуплен ли товар полностью'] = [0]*df.shape[0]\n",
        "df['Выкуплен ли товар частично'] = [0]*df.shape[0]\n",
        "df['Отношение кол-ва проданных товаров к заказанным'] = [0]*df.shape[0]"
      ],
      "execution_count": null,
      "outputs": []
    },
    {
      "cell_type": "code",
      "metadata": {
        "id": "EJYPFKAhxAfK"
      },
      "source": [
        "index_1 = df[(df['НовыйСтатус'] == 'Доставлен') & (df['Отменено'] == 'Нет') & \n",
        "             (df['КоличествоПроданоКлиенту'] == df['Количество']) & (df['КоличествоПроданоКлиенту'] != 0)].index\n",
        "             \n",
        "df.loc[index_1, 'Выкуплен ли товар полностью'] = 1"
      ],
      "execution_count": null,
      "outputs": []
    },
    {
      "cell_type": "code",
      "metadata": {
        "id": "ZlB7S-3TxLeX"
      },
      "source": [
        "index_2 = df[(df['НовыйСтатус'] == 'Доставлен') & (df['Отменено'] == 'Нет') &\n",
        "             (df['КоличествоПроданоКлиенту'] != df['Количество']) & (df['Количество'] != 0) & (df['КоличествоПроданоКлиенту'] != 0)].index\n",
        "\n",
        "df.loc[index_2, 'Выкуплен ли товар частично'] = 1\n",
        "df.loc[index_2, 'Отношение кол-ва проданных товаров к заказанным'] = df.loc[index_2]['КоличествоПроданоКлиенту']/df.loc[index_2]['Количество']"
      ],
      "execution_count": null,
      "outputs": []
    },
    {
      "cell_type": "code",
      "metadata": {
        "id": "oNtN_3yIFZjR"
      },
      "source": [
        "df.to_csv('data_redemp.csv')"
      ],
      "execution_count": null,
      "outputs": []
    },
    {
      "cell_type": "markdown",
      "metadata": {
        "id": "HHjHA2aKsSYT"
      },
      "source": [
        "#Уникальный идентификатор клиента"
      ]
    },
    {
      "cell_type": "code",
      "metadata": {
        "id": "FpNlGY_PS5uY"
      },
      "source": [
        "df = load_full()"
      ],
      "execution_count": null,
      "outputs": []
    },
    {
      "cell_type": "markdown",
      "metadata": {
        "id": "NCeuV_Katxa4"
      },
      "source": [
        "Предположительно, телефон является уникальным иднтификатором клиента. Проверим, так ли это. "
      ]
    },
    {
      "cell_type": "code",
      "metadata": {
        "colab": {
          "base_uri": "https://localhost:8080/"
        },
        "id": "ttbgzXwdsS1M",
        "outputId": "38380fbe-1654-437c-972a-3a33a0762b5e"
      },
      "source": [
        "df.groupby('Телефон_new').count()[['НомерЗаказаНаСайте']]"
      ],
      "execution_count": null,
      "outputs": [
        {
          "output_type": "execute_result",
          "data": {
            "text/html": [
              "<div>\n",
              "<style scoped>\n",
              "    .dataframe tbody tr th:only-of-type {\n",
              "        vertical-align: middle;\n",
              "    }\n",
              "\n",
              "    .dataframe tbody tr th {\n",
              "        vertical-align: top;\n",
              "    }\n",
              "\n",
              "    .dataframe thead th {\n",
              "        text-align: right;\n",
              "    }\n",
              "</style>\n",
              "<table border=\"1\" class=\"dataframe\">\n",
              "  <thead>\n",
              "    <tr style=\"text-align: right;\">\n",
              "      <th></th>\n",
              "      <th>НомерЗаказаНаСайте</th>\n",
              "    </tr>\n",
              "    <tr>\n",
              "      <th>Телефон_new</th>\n",
              "      <th></th>\n",
              "    </tr>\n",
              "  </thead>\n",
              "  <tbody>\n",
              "    <tr>\n",
              "      <th>0</th>\n",
              "      <td>2081</td>\n",
              "    </tr>\n",
              "    <tr>\n",
              "      <th>49574954-56524849545119</th>\n",
              "      <td>2</td>\n",
              "    </tr>\n",
              "    <tr>\n",
              "      <th>51534957-48525550515032</th>\n",
              "      <td>3</td>\n",
              "    </tr>\n",
              "    <tr>\n",
              "      <th>51535448-48484848484830</th>\n",
              "      <td>6</td>\n",
              "    </tr>\n",
              "    <tr>\n",
              "      <th>51555348-48484848484830</th>\n",
              "      <td>2</td>\n",
              "    </tr>\n",
              "    <tr>\n",
              "      <th>...</th>\n",
              "      <td>...</td>\n",
              "    </tr>\n",
              "    <tr>\n",
              "      <th>57545355-53485748575799</th>\n",
              "      <td>1</td>\n",
              "    </tr>\n",
              "    <tr>\n",
              "      <th>57545549-57544957525799</th>\n",
              "      <td>4</td>\n",
              "    </tr>\n",
              "    <tr>\n",
              "      <th>57555555-55564848524890</th>\n",
              "      <td>2</td>\n",
              "    </tr>\n",
              "    <tr>\n",
              "      <th>57565356-51485355535496</th>\n",
              "      <td>2</td>\n",
              "    </tr>\n",
              "    <tr>\n",
              "      <th>57575757-54565749495698</th>\n",
              "      <td>2</td>\n",
              "    </tr>\n",
              "  </tbody>\n",
              "</table>\n",
              "<p>116477 rows × 1 columns</p>\n",
              "</div>"
            ],
            "text/plain": [
              "                         НомерЗаказаНаСайте\n",
              "Телефон_new                                \n",
              "0                                      2081\n",
              "49574954-56524849545119                   2\n",
              "51534957-48525550515032                   3\n",
              "51535448-48484848484830                   6\n",
              "51555348-48484848484830                   2\n",
              "...                                     ...\n",
              "57545355-53485748575799                   1\n",
              "57545549-57544957525799                   4\n",
              "57555555-55564848524890                   2\n",
              "57565356-51485355535496                   2\n",
              "57575757-54565749495698                   2\n",
              "\n",
              "[116477 rows x 1 columns]"
            ]
          },
          "metadata": {
            "tags": []
          },
          "execution_count": 22
        }
      ]
    },
    {
      "cell_type": "markdown",
      "metadata": {
        "id": "-NQjsngwtRAp"
      },
      "source": [
        "Для 2081 клиента телефон отсутствует. Для них в качестве идентификатора можно использовать почту (если она не пустая)."
      ]
    },
    {
      "cell_type": "code",
      "metadata": {
        "colab": {
          "base_uri": "https://localhost:8080/"
        },
        "id": "SWD3gq-6tQQk",
        "outputId": "cecc3aa9-c143-4b42-8a64-3e6015706187"
      },
      "source": [
        "df[(df['Телефон_new'] == '0') & (df['ЭлектроннаяПочта_new'] == 'нет данных')]"
      ],
      "execution_count": null,
      "outputs": [
        {
          "output_type": "execute_result",
          "data": {
            "text/html": [
              "<div>\n",
              "<style scoped>\n",
              "    .dataframe tbody tr th:only-of-type {\n",
              "        vertical-align: middle;\n",
              "    }\n",
              "\n",
              "    .dataframe tbody tr th {\n",
              "        vertical-align: top;\n",
              "    }\n",
              "\n",
              "    .dataframe thead th {\n",
              "        text-align: right;\n",
              "    }\n",
              "</style>\n",
              "<table border=\"1\" class=\"dataframe\">\n",
              "  <thead>\n",
              "    <tr style=\"text-align: right;\">\n",
              "      <th></th>\n",
              "      <th>Дата</th>\n",
              "      <th>ДатаДоставки</th>\n",
              "      <th>НомерЗаказаНаСайте</th>\n",
              "      <th>НовыйСтатус</th>\n",
              "      <th>СуммаЗаказаНаСайте</th>\n",
              "      <th>СуммаДокумента</th>\n",
              "      <th>МетодДоставки</th>\n",
              "      <th>ФормаОплаты</th>\n",
              "      <th>Регион</th>\n",
              "      <th>Группа2</th>\n",
              "      <th>Группа3</th>\n",
              "      <th>Группа4</th>\n",
              "      <th>Тип</th>\n",
              "      <th>Номенклатура</th>\n",
              "      <th>ТипТовара</th>\n",
              "      <th>Отменено</th>\n",
              "      <th>ПричинаОтмены</th>\n",
              "      <th>Количество</th>\n",
              "      <th>Цена</th>\n",
              "      <th>СуммаСтроки</th>\n",
              "      <th>ЦенаЗакупки</th>\n",
              "      <th>МесяцДатыЗаказа</th>\n",
              "      <th>ПВЗ_код</th>\n",
              "      <th>Статус</th>\n",
              "      <th>Маржа</th>\n",
              "      <th>СуммаДоставки</th>\n",
              "      <th>КоличествоПроданоКлиенту</th>\n",
              "      <th>ДатаЗаказаНаСайте</th>\n",
              "      <th>Телефон_new</th>\n",
              "      <th>ЭлектроннаяПочта_new</th>\n",
              "      <th>Клиент</th>\n",
              "      <th>ГородМагазина</th>\n",
              "      <th>Выкуплен ли товар полностью</th>\n",
              "      <th>Выкуплен ли товар частично</th>\n",
              "      <th>Отношение кол-ва проданных товаров к заказанным</th>\n",
              "    </tr>\n",
              "  </thead>\n",
              "  <tbody>\n",
              "    <tr>\n",
              "      <th>23229</th>\n",
              "      <td>03.07.2017 10:11</td>\n",
              "      <td>05.07.2017 0:00</td>\n",
              "      <td>5046029_TR</td>\n",
              "      <td>Доставлен</td>\n",
              "      <td>4411.0</td>\n",
              "      <td>4411.0</td>\n",
              "      <td>Магазины</td>\n",
              "      <td>Безналичная</td>\n",
              "      <td>Москва</td>\n",
              "      <td>ТЕКСТИЛЬ, ТРИКОТАЖ</td>\n",
              "      <td>ДЕТСКАЯ ОДЕЖДА (2-6 лет)</td>\n",
              "      <td>комплекты</td>\n",
              "      <td>ОДЕЖДА</td>\n",
              "      <td>SILVERSUN, КОМПЛЕКТ (футболка+капри), (желт), ...</td>\n",
              "      <td>МГТ</td>\n",
              "      <td>Нет</td>\n",
              "      <td>не отменено</td>\n",
              "      <td>1</td>\n",
              "      <td>699.0</td>\n",
              "      <td>699.0</td>\n",
              "      <td>495.00</td>\n",
              "      <td>7</td>\n",
              "      <td>23111</td>\n",
              "      <td>Доставлен</td>\n",
              "      <td>204.00</td>\n",
              "      <td>49.0</td>\n",
              "      <td>1</td>\n",
              "      <td>03.07.2017 0:00</td>\n",
              "      <td>0</td>\n",
              "      <td>нет данных</td>\n",
              "      <td>гость</td>\n",
              "      <td>0</td>\n",
              "      <td>1</td>\n",
              "      <td>0</td>\n",
              "      <td>0.0</td>\n",
              "    </tr>\n",
              "    <tr>\n",
              "      <th>23230</th>\n",
              "      <td>03.07.2017 10:11</td>\n",
              "      <td>05.07.2017 0:00</td>\n",
              "      <td>5046029_TR</td>\n",
              "      <td>Доставлен</td>\n",
              "      <td>4411.0</td>\n",
              "      <td>4411.0</td>\n",
              "      <td>Магазины</td>\n",
              "      <td>Безналичная</td>\n",
              "      <td>Москва</td>\n",
              "      <td>ТЕКСТИЛЬ, ТРИКОТАЖ</td>\n",
              "      <td>ДЕТСКАЯ ОДЕЖДА (2-6 лет)</td>\n",
              "      <td>комплекты</td>\n",
              "      <td>ОДЕЖДА</td>\n",
              "      <td>SILVERSUN, КОМПЛЕКТ (майка+шорты), (роз), р.104</td>\n",
              "      <td>МГТ</td>\n",
              "      <td>Нет</td>\n",
              "      <td>не отменено</td>\n",
              "      <td>1</td>\n",
              "      <td>799.0</td>\n",
              "      <td>799.0</td>\n",
              "      <td>540.00</td>\n",
              "      <td>7</td>\n",
              "      <td>23111</td>\n",
              "      <td>Доставлен</td>\n",
              "      <td>259.00</td>\n",
              "      <td>49.0</td>\n",
              "      <td>1</td>\n",
              "      <td>03.07.2017 0:00</td>\n",
              "      <td>0</td>\n",
              "      <td>нет данных</td>\n",
              "      <td>гость</td>\n",
              "      <td>0</td>\n",
              "      <td>1</td>\n",
              "      <td>0</td>\n",
              "      <td>0.0</td>\n",
              "    </tr>\n",
              "    <tr>\n",
              "      <th>23231</th>\n",
              "      <td>03.07.2017 10:11</td>\n",
              "      <td>05.07.2017 0:00</td>\n",
              "      <td>5046029_TR</td>\n",
              "      <td>Доставлен</td>\n",
              "      <td>4411.0</td>\n",
              "      <td>4411.0</td>\n",
              "      <td>Магазины</td>\n",
              "      <td>Безналичная</td>\n",
              "      <td>Москва</td>\n",
              "      <td>ТЕКСТИЛЬ, ТРИКОТАЖ</td>\n",
              "      <td>ГОЛОВНЫЕ УБОРЫ, ВАРЕЖКИ, ПЕРЧАТКИ</td>\n",
              "      <td>головные уборы</td>\n",
              "      <td>ОДЕЖДА</td>\n",
              "      <td>MAGROF, БЕЙСБОЛКА (роз), р. 52</td>\n",
              "      <td>МГТ</td>\n",
              "      <td>Нет</td>\n",
              "      <td>не отменено</td>\n",
              "      <td>1</td>\n",
              "      <td>269.0</td>\n",
              "      <td>269.0</td>\n",
              "      <td>184.26</td>\n",
              "      <td>7</td>\n",
              "      <td>23111</td>\n",
              "      <td>Доставлен</td>\n",
              "      <td>84.74</td>\n",
              "      <td>49.0</td>\n",
              "      <td>1</td>\n",
              "      <td>03.07.2017 0:00</td>\n",
              "      <td>0</td>\n",
              "      <td>нет данных</td>\n",
              "      <td>гость</td>\n",
              "      <td>0</td>\n",
              "      <td>1</td>\n",
              "      <td>0</td>\n",
              "      <td>0.0</td>\n",
              "    </tr>\n",
              "    <tr>\n",
              "      <th>23232</th>\n",
              "      <td>03.07.2017 10:11</td>\n",
              "      <td>05.07.2017 0:00</td>\n",
              "      <td>5046029_TR</td>\n",
              "      <td>Доставлен</td>\n",
              "      <td>4411.0</td>\n",
              "      <td>4411.0</td>\n",
              "      <td>Магазины</td>\n",
              "      <td>Безналичная</td>\n",
              "      <td>Москва</td>\n",
              "      <td>ТЕКСТИЛЬ, ТРИКОТАЖ</td>\n",
              "      <td>ДЕТСКОЕ БЕЛЬЁ</td>\n",
              "      <td>домашние комплекты</td>\n",
              "      <td>ОДЕЖДА</td>\n",
              "      <td>CORNETTE, ПИЖАМА Ice cream, р. 98-104, Польша</td>\n",
              "      <td>МГТ</td>\n",
              "      <td>Нет</td>\n",
              "      <td>не отменено</td>\n",
              "      <td>1</td>\n",
              "      <td>899.0</td>\n",
              "      <td>899.0</td>\n",
              "      <td>370.90</td>\n",
              "      <td>7</td>\n",
              "      <td>23111</td>\n",
              "      <td>Доставлен</td>\n",
              "      <td>528.10</td>\n",
              "      <td>49.0</td>\n",
              "      <td>1</td>\n",
              "      <td>03.07.2017 0:00</td>\n",
              "      <td>0</td>\n",
              "      <td>нет данных</td>\n",
              "      <td>гость</td>\n",
              "      <td>0</td>\n",
              "      <td>1</td>\n",
              "      <td>0</td>\n",
              "      <td>0.0</td>\n",
              "    </tr>\n",
              "    <tr>\n",
              "      <th>23233</th>\n",
              "      <td>03.07.2017 10:11</td>\n",
              "      <td>05.07.2017 0:00</td>\n",
              "      <td>5046029_TR</td>\n",
              "      <td>Доставлен</td>\n",
              "      <td>4411.0</td>\n",
              "      <td>4411.0</td>\n",
              "      <td>Магазины</td>\n",
              "      <td>Безналичная</td>\n",
              "      <td>Москва</td>\n",
              "      <td>ТЕКСТИЛЬ, ТРИКОТАЖ</td>\n",
              "      <td>ДЕТСКОЕ БЕЛЬЁ</td>\n",
              "      <td>трусы</td>\n",
              "      <td>ОДЕЖДА</td>\n",
              "      <td>TIGER, ТРУСЫ (фиолет), р. 98-104</td>\n",
              "      <td>МГТ</td>\n",
              "      <td>Нет</td>\n",
              "      <td>не отменено</td>\n",
              "      <td>2</td>\n",
              "      <td>149.0</td>\n",
              "      <td>298.0</td>\n",
              "      <td>95.40</td>\n",
              "      <td>7</td>\n",
              "      <td>23111</td>\n",
              "      <td>Доставлен</td>\n",
              "      <td>107.20</td>\n",
              "      <td>49.0</td>\n",
              "      <td>2</td>\n",
              "      <td>03.07.2017 0:00</td>\n",
              "      <td>0</td>\n",
              "      <td>нет данных</td>\n",
              "      <td>гость</td>\n",
              "      <td>0</td>\n",
              "      <td>1</td>\n",
              "      <td>0</td>\n",
              "      <td>0.0</td>\n",
              "    </tr>\n",
              "    <tr>\n",
              "      <th>...</th>\n",
              "      <td>...</td>\n",
              "      <td>...</td>\n",
              "      <td>...</td>\n",
              "      <td>...</td>\n",
              "      <td>...</td>\n",
              "      <td>...</td>\n",
              "      <td>...</td>\n",
              "      <td>...</td>\n",
              "      <td>...</td>\n",
              "      <td>...</td>\n",
              "      <td>...</td>\n",
              "      <td>...</td>\n",
              "      <td>...</td>\n",
              "      <td>...</td>\n",
              "      <td>...</td>\n",
              "      <td>...</td>\n",
              "      <td>...</td>\n",
              "      <td>...</td>\n",
              "      <td>...</td>\n",
              "      <td>...</td>\n",
              "      <td>...</td>\n",
              "      <td>...</td>\n",
              "      <td>...</td>\n",
              "      <td>...</td>\n",
              "      <td>...</td>\n",
              "      <td>...</td>\n",
              "      <td>...</td>\n",
              "      <td>...</td>\n",
              "      <td>...</td>\n",
              "      <td>...</td>\n",
              "      <td>...</td>\n",
              "      <td>...</td>\n",
              "      <td>...</td>\n",
              "      <td>...</td>\n",
              "      <td>...</td>\n",
              "    </tr>\n",
              "    <tr>\n",
              "      <th>766967</th>\n",
              "      <td>29.08.2017 18:23</td>\n",
              "      <td>02.09.2017 0:00</td>\n",
              "      <td>5403018_TR</td>\n",
              "      <td>Отменен</td>\n",
              "      <td>1101.0</td>\n",
              "      <td>300.0</td>\n",
              "      <td>Курьерская</td>\n",
              "      <td>Наличная</td>\n",
              "      <td>Москва</td>\n",
              "      <td>ТЕКСТИЛЬ, ТРИКОТАЖ</td>\n",
              "      <td>ПОСТЕЛЬНОЕ БЕЛЬЕ</td>\n",
              "      <td>пеленки</td>\n",
              "      <td>ОДЕЖДА</td>\n",
              "      <td>ЗВЕЗДОЧКА, ПЕЛЕНКА (трикотаж), (80*120 см)</td>\n",
              "      <td>МГТ</td>\n",
              "      <td>Да</td>\n",
              "      <td>1.1 Тест, контрольная закупка</td>\n",
              "      <td>1</td>\n",
              "      <td>179.0</td>\n",
              "      <td>179.0</td>\n",
              "      <td>115.00</td>\n",
              "      <td>8</td>\n",
              "      <td>23111</td>\n",
              "      <td>Отменен</td>\n",
              "      <td>64.00</td>\n",
              "      <td>300.0</td>\n",
              "      <td>0</td>\n",
              "      <td>29.08.2017 0:00</td>\n",
              "      <td>0</td>\n",
              "      <td>нет данных</td>\n",
              "      <td>Гость</td>\n",
              "      <td>0</td>\n",
              "      <td>0</td>\n",
              "      <td>0</td>\n",
              "      <td>0.0</td>\n",
              "    </tr>\n",
              "    <tr>\n",
              "      <th>766978</th>\n",
              "      <td>29.08.2017 20:13</td>\n",
              "      <td>02.09.2017 0:00</td>\n",
              "      <td>5403084_TR</td>\n",
              "      <td>Отменен</td>\n",
              "      <td>28361.0</td>\n",
              "      <td>150.0</td>\n",
              "      <td>Курьерская</td>\n",
              "      <td>Наличная</td>\n",
              "      <td>Владимир</td>\n",
              "      <td>ДЕТСКОЕ ПИТАНИЕ</td>\n",
              "      <td>НАПИТКИ</td>\n",
              "      <td>соки</td>\n",
              "      <td>ППКП</td>\n",
              "      <td>ФРУТОНЯНЯ, НЕКТАР банановый с мяк., (500мл)</td>\n",
              "      <td>МГТ</td>\n",
              "      <td>Да</td>\n",
              "      <td>1.1 Тест, контрольная закупка</td>\n",
              "      <td>5</td>\n",
              "      <td>32.0</td>\n",
              "      <td>160.0</td>\n",
              "      <td>31.79</td>\n",
              "      <td>8</td>\n",
              "      <td>Не доставлено в ПВЗ</td>\n",
              "      <td>Отменен</td>\n",
              "      <td>1.05</td>\n",
              "      <td>150.0</td>\n",
              "      <td>5</td>\n",
              "      <td>29.08.2017 0:00</td>\n",
              "      <td>0</td>\n",
              "      <td>нет данных</td>\n",
              "      <td>Гость</td>\n",
              "      <td>0</td>\n",
              "      <td>0</td>\n",
              "      <td>0</td>\n",
              "      <td>0.0</td>\n",
              "    </tr>\n",
              "    <tr>\n",
              "      <th>766979</th>\n",
              "      <td>29.08.2017 20:13</td>\n",
              "      <td>02.09.2017 0:00</td>\n",
              "      <td>5403084_TR</td>\n",
              "      <td>Отменен</td>\n",
              "      <td>28361.0</td>\n",
              "      <td>150.0</td>\n",
              "      <td>Курьерская</td>\n",
              "      <td>Наличная</td>\n",
              "      <td>Владимир</td>\n",
              "      <td>ДЕТСКОЕ ПИТАНИЕ</td>\n",
              "      <td>ПЮРЕ</td>\n",
              "      <td>пюре овощные</td>\n",
              "      <td>ППКП</td>\n",
              "      <td>ГЕРБЕР, ПЮРЕ брокколи, с 4 мес., (130г)</td>\n",
              "      <td>МГТ</td>\n",
              "      <td>Да</td>\n",
              "      <td>1.1 Тест, контрольная закупка</td>\n",
              "      <td>11</td>\n",
              "      <td>51.0</td>\n",
              "      <td>561.0</td>\n",
              "      <td>47.50</td>\n",
              "      <td>8</td>\n",
              "      <td>Не доставлено в ПВЗ</td>\n",
              "      <td>Отменен</td>\n",
              "      <td>38.50</td>\n",
              "      <td>150.0</td>\n",
              "      <td>11</td>\n",
              "      <td>29.08.2017 0:00</td>\n",
              "      <td>0</td>\n",
              "      <td>нет данных</td>\n",
              "      <td>Гость</td>\n",
              "      <td>0</td>\n",
              "      <td>0</td>\n",
              "      <td>0</td>\n",
              "      <td>0.0</td>\n",
              "    </tr>\n",
              "    <tr>\n",
              "      <th>766980</th>\n",
              "      <td>29.08.2017 20:13</td>\n",
              "      <td>02.09.2017 0:00</td>\n",
              "      <td>5403084_TR</td>\n",
              "      <td>Отменен</td>\n",
              "      <td>28361.0</td>\n",
              "      <td>150.0</td>\n",
              "      <td>Курьерская</td>\n",
              "      <td>Наличная</td>\n",
              "      <td>Владимир</td>\n",
              "      <td>Доставка</td>\n",
              "      <td>Доставка</td>\n",
              "      <td>Доставка</td>\n",
              "      <td>ИНОЕ</td>\n",
              "      <td>Доставка</td>\n",
              "      <td>Доставка</td>\n",
              "      <td>Нет</td>\n",
              "      <td>не отменено</td>\n",
              "      <td>1</td>\n",
              "      <td>150.0</td>\n",
              "      <td>150.0</td>\n",
              "      <td>0.00</td>\n",
              "      <td>8</td>\n",
              "      <td>Не доставлено в ПВЗ</td>\n",
              "      <td>Отменен</td>\n",
              "      <td>150.00</td>\n",
              "      <td>150.0</td>\n",
              "      <td>1</td>\n",
              "      <td>29.08.2017 0:00</td>\n",
              "      <td>0</td>\n",
              "      <td>нет данных</td>\n",
              "      <td>Гость</td>\n",
              "      <td>0</td>\n",
              "      <td>0</td>\n",
              "      <td>0</td>\n",
              "      <td>0.0</td>\n",
              "    </tr>\n",
              "    <tr>\n",
              "      <th>766981</th>\n",
              "      <td>29.08.2017 20:13</td>\n",
              "      <td>02.09.2017 0:00</td>\n",
              "      <td>5403084_TR</td>\n",
              "      <td>Отменен</td>\n",
              "      <td>28361.0</td>\n",
              "      <td>150.0</td>\n",
              "      <td>Курьерская</td>\n",
              "      <td>Наличная</td>\n",
              "      <td>Владимир</td>\n",
              "      <td>КРУПНОГАБАРИТНЫЙ ТОВАР</td>\n",
              "      <td>КОЛЯСКИ</td>\n",
              "      <td>КОЛЯСКИ ЕВРОПА</td>\n",
              "      <td>КГТ</td>\n",
              "      <td>CHICCO, КОЛЯСКА-трансформер Urban Plus</td>\n",
              "      <td>КГТ</td>\n",
              "      <td>Да</td>\n",
              "      <td>1.1 Тест, контрольная закупка</td>\n",
              "      <td>1</td>\n",
              "      <td>24500.0</td>\n",
              "      <td>24500.0</td>\n",
              "      <td>19336.62</td>\n",
              "      <td>8</td>\n",
              "      <td>Не доставлено в ПВЗ</td>\n",
              "      <td>Отменен</td>\n",
              "      <td>5163.38</td>\n",
              "      <td>150.0</td>\n",
              "      <td>1</td>\n",
              "      <td>29.08.2017 0:00</td>\n",
              "      <td>0</td>\n",
              "      <td>нет данных</td>\n",
              "      <td>Гость</td>\n",
              "      <td>0</td>\n",
              "      <td>0</td>\n",
              "      <td>0</td>\n",
              "      <td>0.0</td>\n",
              "    </tr>\n",
              "  </tbody>\n",
              "</table>\n",
              "<p>207 rows × 35 columns</p>\n",
              "</div>"
            ],
            "text/plain": [
              "                    Дата  ... Отношение кол-ва проданных товаров к заказанным\n",
              "23229   03.07.2017 10:11  ...                                             0.0\n",
              "23230   03.07.2017 10:11  ...                                             0.0\n",
              "23231   03.07.2017 10:11  ...                                             0.0\n",
              "23232   03.07.2017 10:11  ...                                             0.0\n",
              "23233   03.07.2017 10:11  ...                                             0.0\n",
              "...                  ...  ...                                             ...\n",
              "766967  29.08.2017 18:23  ...                                             0.0\n",
              "766978  29.08.2017 20:13  ...                                             0.0\n",
              "766979  29.08.2017 20:13  ...                                             0.0\n",
              "766980  29.08.2017 20:13  ...                                             0.0\n",
              "766981  29.08.2017 20:13  ...                                             0.0\n",
              "\n",
              "[207 rows x 35 columns]"
            ]
          },
          "metadata": {
            "tags": []
          },
          "execution_count": 23
        }
      ]
    },
    {
      "cell_type": "markdown",
      "metadata": {
        "id": "5lj-Gd8G09RB"
      },
      "source": [
        "Следовательно, будем использовать почту для оставшихся клиентов."
      ]
    },
    {
      "cell_type": "code",
      "metadata": {
        "id": "NnTGOSQs1D10"
      },
      "source": [
        "ind = df[df['Телефон_new'] == '0'].index\n",
        "df.loc[ind, 'Телефон_new'] = df.loc[ind, 'ЭлектроннаяПочта_new']"
      ],
      "execution_count": null,
      "outputs": []
    },
    {
      "cell_type": "markdown",
      "metadata": {
        "id": "WYOIjIBgT4G_"
      },
      "source": [
        "Теперь телефон можно считать уникальным идентификатором клиента."
      ]
    },
    {
      "cell_type": "markdown",
      "metadata": {
        "id": "r4kjp84TUJth"
      },
      "source": [
        "#Пересчет выручки и маржи"
      ]
    },
    {
      "cell_type": "markdown",
      "metadata": {
        "id": "5QiNii9gYIxP"
      },
      "source": [
        "**Количество  VS  Количество продано клиенту**"
      ]
    },
    {
      "cell_type": "markdown",
      "metadata": {
        "id": "F_uOvI2DTIDC"
      },
      "source": [
        "Посмотрим для начала на столбцы 'Количество' и 'Количество продано клиенту'."
      ]
    },
    {
      "cell_type": "code",
      "metadata": {
        "colab": {
          "base_uri": "https://localhost:8080/"
        },
        "id": "7diZJLJ4SH9i",
        "outputId": "dd02fe00-deae-45f0-c242-17687c51663e"
      },
      "source": [
        "print('Количество = Количество продано клиенту в', round(len(df[df['Количество'] == df['КоличествоПроданоКлиенту']])/len(df)*100, 2), '% случаев.')\n",
        "print('Количество > Количество продано клиенту в', round(len(df[df['Количество'] > df['КоличествоПроданоКлиенту']])/len(df)*100, 2), '% случаев.')\n",
        "print('Количество < Количество продано клиенту в', round(len(df[df['Количество'] < df['КоличествоПроданоКлиенту']])/len(df)*100, 2), '% случаев.')"
      ],
      "execution_count": null,
      "outputs": [
        {
          "output_type": "stream",
          "text": [
            "Количество = Количество продано клиенту в 83.75 % случаев.\n",
            "Количество > Количество продано клиенту в 13.47 % случаев.\n",
            "Количество < Количество продано клиенту в 2.77 % случаев.\n"
          ],
          "name": "stdout"
        }
      ]
    },
    {
      "cell_type": "code",
      "metadata": {
        "colab": {
          "base_uri": "https://localhost:8080/"
        },
        "id": "KFs04PSJUQ51",
        "outputId": "83f5941b-daab-4224-a95e-b4c3736a134f"
      },
      "source": [
        "df[(df['Количество'] < df['КоличествоПроданоКлиенту']) & (df['НовыйСтатус'] == 'Доставлен') & (df['Отменено'] == 'Нет')]"
      ],
      "execution_count": null,
      "outputs": [
        {
          "output_type": "execute_result",
          "data": {
            "text/html": [
              "<div>\n",
              "<style scoped>\n",
              "    .dataframe tbody tr th:only-of-type {\n",
              "        vertical-align: middle;\n",
              "    }\n",
              "\n",
              "    .dataframe tbody tr th {\n",
              "        vertical-align: top;\n",
              "    }\n",
              "\n",
              "    .dataframe thead th {\n",
              "        text-align: right;\n",
              "    }\n",
              "</style>\n",
              "<table border=\"1\" class=\"dataframe\">\n",
              "  <thead>\n",
              "    <tr style=\"text-align: right;\">\n",
              "      <th></th>\n",
              "      <th>Дата</th>\n",
              "      <th>ДатаДоставки</th>\n",
              "      <th>НомерЗаказаНаСайте</th>\n",
              "      <th>НовыйСтатус</th>\n",
              "      <th>СуммаЗаказаНаСайте</th>\n",
              "      <th>СуммаДокумента</th>\n",
              "      <th>МетодДоставки</th>\n",
              "      <th>ФормаОплаты</th>\n",
              "      <th>Регион</th>\n",
              "      <th>Группа2</th>\n",
              "      <th>Группа3</th>\n",
              "      <th>Группа4</th>\n",
              "      <th>Тип</th>\n",
              "      <th>Номенклатура</th>\n",
              "      <th>ТипТовара</th>\n",
              "      <th>Отменено</th>\n",
              "      <th>ПричинаОтмены</th>\n",
              "      <th>Количество</th>\n",
              "      <th>Цена</th>\n",
              "      <th>СуммаСтроки</th>\n",
              "      <th>ЦенаЗакупки</th>\n",
              "      <th>МесяцДатыЗаказа</th>\n",
              "      <th>ПВЗ_код</th>\n",
              "      <th>Статус</th>\n",
              "      <th>Маржа</th>\n",
              "      <th>СуммаДоставки</th>\n",
              "      <th>КоличествоПроданоКлиенту</th>\n",
              "      <th>ДатаЗаказаНаСайте</th>\n",
              "      <th>Телефон_new</th>\n",
              "      <th>ЭлектроннаяПочта_new</th>\n",
              "      <th>Клиент</th>\n",
              "      <th>ГородМагазина</th>\n",
              "      <th>Выкуплен ли товар полностью</th>\n",
              "      <th>Выкуплен ли товар частично</th>\n",
              "      <th>Отношение кол-ва проданных товаров к заказанным</th>\n",
              "    </tr>\n",
              "  </thead>\n",
              "  <tbody>\n",
              "  </tbody>\n",
              "</table>\n",
              "</div>"
            ],
            "text/plain": [
              "Empty DataFrame\n",
              "Columns: [Дата, ДатаДоставки, НомерЗаказаНаСайте, НовыйСтатус, СуммаЗаказаНаСайте, СуммаДокумента, МетодДоставки, ФормаОплаты, Регион, Группа2, Группа3, Группа4, Тип, Номенклатура, ТипТовара, Отменено, ПричинаОтмены, Количество, Цена, СуммаСтроки, ЦенаЗакупки, МесяцДатыЗаказа, ПВЗ_код, Статус, Маржа, СуммаДоставки, КоличествоПроданоКлиенту, ДатаЗаказаНаСайте, Телефон_new, ЭлектроннаяПочта_new, Клиент, ГородМагазина, Выкуплен ли товар полностью, Выкуплен ли товар частично, Отношение кол-ва проданных товаров к заказанным]\n",
              "Index: []"
            ]
          },
          "metadata": {
            "tags": []
          },
          "execution_count": 26
        }
      ]
    },
    {
      "cell_type": "markdown",
      "metadata": {
        "id": "yBq-NJsSWTGX"
      },
      "source": [
        "Выявлено примерно 3% случаев, когда 'Количество' < 'Количество продано клиенту'. Такая ситуация кажется ошибочной, поскольку нельзя продать больше, чем клиент заказал. Среди этих 3% все позиции отменены/не доставлены."
      ]
    },
    {
      "cell_type": "code",
      "metadata": {
        "id": "1hgcwHvfCDvt"
      },
      "source": [
        "ind = df[(df['Количество'] < df['КоличествоПроданоКлиенту'])].index\n",
        "df.loc[ind, 'Количество'] = df.loc[ind, 'КоличествоПроданоКлиенту']"
      ],
      "execution_count": null,
      "outputs": []
    },
    {
      "cell_type": "markdown",
      "metadata": {
        "id": "cQ5GRi3VYUa3"
      },
      "source": [
        "**Выручка**"
      ]
    },
    {
      "cell_type": "markdown",
      "metadata": {
        "id": "U_Fjb-Bzb3hm"
      },
      "source": [
        "Выручка = цена товара * кол-во проданного товара * флаг выкупленности товара"
      ]
    },
    {
      "cell_type": "code",
      "metadata": {
        "id": "z1I0KKa9TRT6"
      },
      "source": [
        "df.loc[:, 'Выручка(new)'] = df.loc[:, 'Цена'] * df.loc[:, 'КоличествоПроданоКлиенту'] * (df.loc[:,'Выкуплен ли товар полностью'] + df.loc[:,'Выкуплен ли товар частично'])"
      ],
      "execution_count": null,
      "outputs": []
    },
    {
      "cell_type": "markdown",
      "metadata": {
        "id": "dZ-d4VkNUchy"
      },
      "source": [
        "**Маржа**"
      ]
    },
    {
      "cell_type": "markdown",
      "metadata": {
        "id": "NMFPayj7VYTS"
      },
      "source": [
        "Маржа = выручка - цена закупки * количество\n",
        "\n",
        "(в данном случае учитывается именно количество, так как в случае отмены или возврата деньги, выплаченные магазином поставщику, не возвращаются, как и товары)\n",
        "\n"
      ]
    },
    {
      "cell_type": "code",
      "metadata": {
        "id": "KmUEPnQ-Ucr9"
      },
      "source": [
        "df.loc[:, 'Маржа(new)'] = df.loc[:, 'Выручка(new)'] - df.loc[:, 'ЦенаЗакупки'] * df.loc[:, 'КоличествоПроданоКлиенту'] * (df.loc[:,'Выкуплен ли товар полностью'] + df.loc[:,'Выкуплен ли товар частично'])"
      ],
      "execution_count": null,
      "outputs": []
    },
    {
      "cell_type": "code",
      "metadata": {
        "id": "zL0LUX7DWs8r"
      },
      "source": [
        "df.to_csv('data_100.csv')"
      ],
      "execution_count": null,
      "outputs": []
    },
    {
      "cell_type": "markdown",
      "metadata": {
        "id": "m2LJVcFKqyG-"
      },
      "source": [
        "#Визуализация"
      ]
    },
    {
      "cell_type": "code",
      "metadata": {
        "id": "gi-vLuEXQjX6"
      },
      "source": [
        "#colors = ['lightcoral', 'skyblue', 'sandybrown', 'thistle', 'silver', 'lightpink', 'cadetblue', 'darkkhaki', 'goldenrod', 'plum']"
      ],
      "execution_count": null,
      "outputs": []
    },
    {
      "cell_type": "code",
      "metadata": {
        "id": "y6mc0cx25ENY"
      },
      "source": [
        "#df = load_full()"
      ],
      "execution_count": null,
      "outputs": []
    },
    {
      "cell_type": "code",
      "metadata": {
        "colab": {
          "base_uri": "https://localhost:8080/"
        },
        "id": "-JJaEI2AEQNo",
        "outputId": "9cb439d5-48f6-4002-ef63-988ca4aac35e"
      },
      "source": [
        "df['МесяцДатыЗаказа'].unique()"
      ],
      "execution_count": null,
      "outputs": [
        {
          "output_type": "execute_result",
          "data": {
            "text/plain": [
              "array([7, 8])"
            ]
          },
          "metadata": {
            "tags": []
          },
          "execution_count": 14
        }
      ]
    },
    {
      "cell_type": "code",
      "metadata": {
        "id": "vUqWf6HmNdwH"
      },
      "source": [
        "month = ['июль', 'август']"
      ],
      "execution_count": null,
      "outputs": []
    },
    {
      "cell_type": "code",
      "metadata": {
        "colab": {
          "base_uri": "https://localhost:8080/",
          "height": 282
        },
        "id": "xzjMRqw4MoD7",
        "outputId": "2088444d-141b-436b-c9e4-2a341a0b94db"
      },
      "source": [
        "#Распределение кол-ва заказов по месяцам\n",
        "plt.figure()\n",
        "count_jul = len(df[df['МесяцДатыЗаказа'] == 7]['НомерЗаказаНаСайте'].unique())\n",
        "count_aug = len(df[df['МесяцДатыЗаказа'] == 8]['НомерЗаказаНаСайте'].unique())\n",
        "plt.bar(month, [count_jul, count_aug], width=0.3, color = 'plum')\n",
        "plt.title('Распределение кол-ва заказов по месяцам', fontsize = 14)\n",
        "plt.show()"
      ],
      "execution_count": null,
      "outputs": [
        {
          "output_type": "display_data",
          "data": {
            "image/png": "[encoded data removed]",
            "text/plain": [
              "<Figure size 432x288 with 1 Axes>"
            ]
          },
          "metadata": {
            "tags": [],
            "needs_background": "light"
          }
        }
      ]
    },
    {
      "cell_type": "code",
      "metadata": {
        "id": "QBGAAUAtVqQf",
        "colab": {
          "base_uri": "https://localhost:8080/",
          "height": 282
        },
        "outputId": "002d45ee-75f5-4b09-b047-9a1d2d1ec0e0"
      },
      "source": [
        "#Распределение кол-ва уникальных клиентов по месяцам\n",
        "plt.figure()\n",
        "count_jul = len(df[df['МесяцДатыЗаказа'] == 7]['Телефон_new'].unique())\n",
        "count_aug = len(df[df['МесяцДатыЗаказа'] == 8]['Телефон_new'].unique())\n",
        "plt.bar(month, [count_jul, count_aug], width=0.3, color = 'lightsteelblue')\n",
        "plt.title('Распределение кол-ва уникальных клиентов по месяцам', fontsize = 14)\n",
        "plt.show()"
      ],
      "execution_count": null,
      "outputs": [
        {
          "output_type": "display_data",
          "data": {
            "image/png": "[encoded data removed]",
            "text/plain": [
              "<Figure size 432x288 with 1 Axes>"
            ]
          },
          "metadata": {
            "tags": [],
            "needs_background": "light"
          }
        }
      ]
    },
    {
      "cell_type": "code",
      "metadata": {
        "colab": {
          "base_uri": "https://localhost:8080/",
          "height": 265
        },
        "id": "b0goirXEvG91",
        "outputId": "48734541-ac2d-47c1-945d-35dba7440f56"
      },
      "source": [
        "reg = ['Москва', 'Санкт-Петербург', 'Остальные']\n",
        "plt.figure()\n",
        "count_msk = df[df['Регион'] == reg[0]]['Выручка(new)'].sum()\n",
        "count_sp = df[df['Регион'] == reg[1]]['Выручка(new)'].sum()\n",
        "count_oth = df[df['Регион'] == reg[2]]['Выручка(new)'].sum()\n",
        "plt.pie([count_msk, count_sp, count_oth], labels = reg, autopct='%1.1f%%', colors = ['darkkhaki', 'lightcoral', 'black'])\n",
        "plt.title('Распределение выручки по регионам', fontsize = 14)\n",
        "plt.show()"
      ],
      "execution_count": null,
      "outputs": [
        {
          "output_type": "display_data",
          "data": {
            "image/png": "[encoded data removed]",
            "text/plain": [
              "<Figure size 432x288 with 1 Axes>"
            ]
          },
          "metadata": {
            "tags": []
          }
        }
      ]
    },
    {
      "cell_type": "code",
      "metadata": {
        "id": "v058umMN-4em",
        "colab": {
          "base_uri": "https://localhost:8080/",
          "height": 265
        },
        "outputId": "dca1ef66-9356-43be-d625-f0434ef17bd6"
      },
      "source": [
        "reg = ['Москва', 'Санкт-Петербург', 'Остальные']\n",
        "plt.figure()\n",
        "count_msk = df[df['Регион'] == reg[0]]['Маржа(new)'].sum()\n",
        "count_sp = df[df['Регион'] == reg[1]]['Маржа(new)'].sum()\n",
        "count_oth = df[df['Регион'] == reg[2]]['Маржа(new)'].sum()\n",
        "plt.pie([count_msk, count_sp, count_oth], labels = reg, autopct='%1.1f%%', colors = ['darkkhaki', 'lightcoral', 'black'])\n",
        "plt.title('Распределение маржи по регионам', fontsize = 14)\n",
        "plt.show()"
      ],
      "execution_count": null,
      "outputs": [
        {
          "output_type": "display_data",
          "data": {
            "image/png": "[encoded data removed]",
            "text/plain": [
              "<Figure size 432x288 with 1 Axes>"
            ]
          },
          "metadata": {
            "tags": []
          }
        }
      ]
    },
    {
      "cell_type": "code",
      "metadata": {
        "id": "pwhulqmZq6ir"
      },
      "source": [
        "#Посмотрим на причины, по которым отменяют заказы\n",
        "df['ПричинаОтмены'].value_counts()"
      ],
      "execution_count": null,
      "outputs": []
    },
    {
      "cell_type": "markdown",
      "metadata": {
        "id": "V-gi8Wn9Ifq3"
      },
      "source": [
        "#Разделение данных на обучающую и тестовую выборки"
      ]
    },
    {
      "cell_type": "code",
      "metadata": {
        "id": "ZEAiG1BWLFQ2"
      },
      "source": [
        "df_jul = copy(df[df['МесяцДатыЗаказа'] == 7])\n",
        "df_aug = copy(df[df['МесяцДатыЗаказа'] == 8])"
      ],
      "execution_count": null,
      "outputs": []
    },
    {
      "cell_type": "markdown",
      "metadata": {
        "id": "d_GtRrWQGACv"
      },
      "source": [
        "#Группировка по клиентам"
      ]
    },
    {
      "cell_type": "code",
      "metadata": {
        "id": "HMKJyprgtK1d"
      },
      "source": [
        "names = ['Информация о клиенте(телефон/почта)', 'Дата первого заказа', 'Дата последнего заказа', 'Кол-во заказов', 'Кол-во выкупленных заказов', 'Среднее кол-во товаров в чеке', \n",
        "         'Выручка по всем заказам', 'Выручка по выкупленным заказам', 'Cредняя выручка по выкупленным заказам', \n",
        "         'Маржа по всем заказам', 'Маржа по выкупленным заказам', 'Средняя маржа по выкупленным заказам']"
      ],
      "execution_count": null,
      "outputs": []
    },
    {
      "cell_type": "markdown",
      "metadata": {
        "id": "jWsIY-QJq2Vc"
      },
      "source": [
        "**Обучающая выборка**"
      ]
    },
    {
      "cell_type": "code",
      "metadata": {
        "id": "WDUS3dI9GtAR"
      },
      "source": [
        "ident_jul = df_jul['Телефон_new'].unique()"
      ],
      "execution_count": null,
      "outputs": []
    },
    {
      "cell_type": "code",
      "metadata": {
        "colab": {
          "base_uri": "https://localhost:8080/"
        },
        "id": "KWReKLHssSXd",
        "outputId": "09ee95f4-6dff-4a58-9ab7-aab48bcc0019"
      },
      "source": [
        "len(ident_jul)"
      ],
      "execution_count": null,
      "outputs": [
        {
          "output_type": "execute_result",
          "data": {
            "text/plain": [
              "61759"
            ]
          },
          "metadata": {
            "tags": []
          },
          "execution_count": 21
        }
      ]
    },
    {
      "cell_type": "code",
      "metadata": {
        "id": "0HxM_7f7F-9f"
      },
      "source": [
        "clients_jul = pd.DataFrame(columns=names)"
      ],
      "execution_count": null,
      "outputs": []
    },
    {
      "cell_type": "code",
      "metadata": {
        "id": "poScfS2FGhWj"
      },
      "source": [
        "for i in range(0, len(ident_jul)):\n",
        "    telefon = ident_jul[i]\n",
        "    clients_jul.loc[i, 'Информация о клиенте(телефон/почта)'] = telefon\n",
        "\n",
        "    date = df_jul[df_jul['Телефон_new'] == telefon]['ДатаЗаказаНаСайте'].unique()\n",
        "    clients_jul.loc[i, 'Дата первого заказа'] = date[0]\n",
        "    if len(date) > 1:\n",
        "        clients_jul.loc[i, 'Дата последнего заказа'] = date[len(date) - 1]\n",
        "    else:\n",
        "        clients_jul.loc[i, 'Дата последнего заказа'] = date[0]\n",
        "\n",
        "    clients_jul.loc[i, 'Кол-во заказов'] = len(df_jul[(df_jul['Телефон_new'] == telefon)]['НомерЗаказаНаСайте'].unique())\n",
        "    clients_jul.loc[i, 'Кол-во выкупленных заказов'] = len(df_jul[(df_jul['Телефон_new'] == telefon) & ((df_jul['Выкуплен ли товар полностью'] == 1) | (df_jul['Выкуплен ли товар частично'] == 1))]['НомерЗаказаНаСайте'].unique())\n",
        "    clients_jul.loc[i, 'Среднее кол-во товаров в чеке'] = len(df_jul[df_jul['Телефон_new'] == telefon]) / clients_jul.loc[i, 'Кол-во заказов']\n",
        "\n",
        "    clients_jul.loc[i, 'Выручка по всем заказам'] = df_jul[df_jul['Телефон_new'] == telefon]['Выручка(new)'].sum()\n",
        "    clients_jul.loc[i, 'Выручка по выкупленным заказам'] = df_jul[(df_jul['Телефон_new'] == telefon) & ((df_jul['Выкуплен ли товар полностью'] == 1) | (df_jul['Выкуплен ли товар частично'] == 1))]['Выручка(new)'].sum()\n",
        "    if (clients_jul.loc[i, 'Кол-во выкупленных заказов'] > 0):\n",
        "        clients_jul.loc[i, 'Cредняя выручка по выкупленным заказам'] = df_jul[(df_jul['Телефон_new'] == telefon) & ((df_jul['Выкуплен ли товар полностью'] == 1) | (df_jul['Выкуплен ли товар частично'] == 1))]['Выручка(new)'].mean()\n",
        "    else:\n",
        "        clients_jul.loc[i, 'Cредняя выручка по выкупленным заказам'] = 0\n",
        "\n",
        "\n",
        "    clients_jul.loc[i, 'Маржа по всем заказам'] = df_jul[df_jul['Телефон_new'] == telefon]['Маржа(new)'].sum()\n",
        "    clients_jul.loc[i, 'Маржа по выкупленным заказам'] = df_jul[(df_jul['Телефон_new'] == telefon) & ((df_jul['Выкуплен ли товар полностью'] == 1) | (df_jul['Выкуплен ли товар частично'] == 1))]['Маржа(new)'].sum()\n",
        "    if (clients_jul.loc[i, 'Кол-во выкупленных заказов'] > 0):\n",
        "        clients_jul.loc[i, 'Средняя маржа по выкупленным заказам'] = df_jul[(df_jul['Телефон_new'] == telefon) & ((df_jul['Выкуплен ли товар полностью'] == 1) | (df_jul['Выкуплен ли товар частично'] == 1))]['Маржа(new)'].mean()\n",
        "    else:\n",
        "        clients_jul.loc[i, 'Средняя маржа по выкупленным заказам'] = 0"
      ],
      "execution_count": null,
      "outputs": []
    },
    {
      "cell_type": "markdown",
      "metadata": {
        "id": "tviSlp3ptC7C"
      },
      "source": [
        "**Тестовая выборка**"
      ]
    },
    {
      "cell_type": "code",
      "metadata": {
        "id": "eVfVlxRis39u"
      },
      "source": [
        "ident_aug = df_aug['Телефон_new'].unique()"
      ],
      "execution_count": null,
      "outputs": []
    },
    {
      "cell_type": "code",
      "metadata": {
        "colab": {
          "base_uri": "https://localhost:8080/"
        },
        "id": "Dtw-bcP-s4HI",
        "outputId": "3c0a12f8-5ae5-4e38-cdf7-757873b75fa0"
      },
      "source": [
        "len(ident_aug)"
      ],
      "execution_count": null,
      "outputs": [
        {
          "output_type": "execute_result",
          "data": {
            "text/plain": [
              "68162"
            ]
          },
          "metadata": {
            "tags": []
          },
          "execution_count": 34
        }
      ]
    },
    {
      "cell_type": "code",
      "metadata": {
        "id": "bBKXebBlvRTL"
      },
      "source": [
        "clients_aug = pd.DataFrame(columns=names)"
      ],
      "execution_count": null,
      "outputs": []
    },
    {
      "cell_type": "code",
      "metadata": {
        "id": "FmnNh6RtvUIS",
        "colab": {
          "base_uri": "https://localhost:8080/"
        },
        "outputId": "9da82e4b-d2f8-4e74-dcfe-754d22731876"
      },
      "source": [
        "for i in range(0, len(ident_aug)):\n",
        "    if i % 1000 == 0:\n",
        "        print('Обработано', i, 'клиентов')\n",
        "    telefon = ident_aug[i]\n",
        "    clients_aug.loc[i, 'Информация о клиенте(телефон/почта)'] = telefon\n",
        "\n",
        "    date = df_aug[df_aug['Телефон_new'] == telefon]['ДатаЗаказаНаСайте'].unique()\n",
        "    clients_aug.loc[i, 'Дата первого заказа'] = date[0]\n",
        "    if len(date) > 1:\n",
        "        clients_aug.loc[i, 'Дата последнего заказа'] = date[len(date) - 1]\n",
        "    else:\n",
        "        clients_aug.loc[i, 'Дата последнего заказа'] = date[0]\n",
        "\n",
        "    clients_aug.loc[i, 'Кол-во заказов'] = len(df_aug[(df_aug['Телефон_new'] == telefon)]['НомерЗаказаНаСайте'].unique())\n",
        "    clients_aug.loc[i, 'Кол-во выкупленных заказов'] = len(df_aug[(df_aug['Телефон_new'] == telefon) & ((df_aug['Выкуплен ли товар полностью'] == 1) | (df_aug['Выкуплен ли товар частично'] == 1))]['НомерЗаказаНаСайте'].unique())\n",
        "    clients_aug.loc[i, 'Среднее кол-во товаров в чеке'] = len(df_aug[df_aug['Телефон_new'] == telefon]) / clients_aug.loc[i, 'Кол-во заказов']\n",
        "\n",
        "    clients_aug.loc[i, 'Выручка по всем заказам'] = df_aug[df_aug['Телефон_new'] == telefon]['Выручка(new)'].sum()\n",
        "    clients_aug.loc[i, 'Выручка по выкупленным заказам'] = df_aug[(df_aug['Телефон_new'] == telefon) & ((df_aug['Выкуплен ли товар полностью'] == 1) | (df_aug['Выкуплен ли товар частично'] == 1))]['Выручка(new)'].sum()\n",
        "    if (clients_aug.loc[i, 'Кол-во выкупленных заказов'] > 0):\n",
        "        clients_aug.loc[i, 'Cредняя выручка по выкупленным заказам'] = df_aug[(df_aug['Телефон_new'] == telefon) & ((df_aug['Выкуплен ли товар полностью'] == 1) | (df_aug['Выкуплен ли товар частично'] == 1))]['Выручка(new)'].mean()\n",
        "    else:\n",
        "        clients_aug.loc[i, 'Cредняя выручка по выкупленным заказам'] = 0\n",
        "\n",
        "    clients_aug.loc[i, 'Маржа по всем заказам'] = df_aug[df_aug['Телефон_new'] == telefon]['Маржа(new)'].sum()\n",
        "    clients_aug.loc[i, 'Маржа по выкупленным заказам'] = df_aug[(df_aug['Телефон_new'] == telefon) & ((df_aug['Выкуплен ли товар полностью'] == 1) | (df_aug['Выкуплен ли товар частично'] == 1))]['Маржа(new)'].sum()\n",
        "    if (clients_aug.loc[i, 'Кол-во выкупленных заказов'] > 0):\n",
        "        clients_aug.loc[i, 'Средняя маржа по выкупленным заказам'] = df_aug[(df_aug['Телефон_new'] == telefon) & ((df_aug['Выкуплен ли товар полностью'] == 1) | (df_aug['Выкуплен ли товар частично'] == 1))]['Маржа(new)'].mean()\n",
        "    else:\n",
        "        clients_aug.loc[i, 'Средняя маржа по выкупленным заказам'] = 0"
      ],
      "execution_count": null,
      "outputs": [
        {
          "output_type": "stream",
          "text": [
            "Обработано 0 клиентов\n",
            "Обработано 1000 клиентов\n",
            "Обработано 2000 клиентов\n",
            "Обработано 3000 клиентов\n",
            "Обработано 4000 клиентов\n",
            "Обработано 5000 клиентов\n",
            "Обработано 6000 клиентов\n",
            "Обработано 7000 клиентов\n",
            "Обработано 8000 клиентов\n",
            "Обработано 9000 клиентов\n",
            "Обработано 10000 клиентов\n",
            "Обработано 11000 клиентов\n",
            "Обработано 12000 клиентов\n",
            "Обработано 13000 клиентов\n",
            "Обработано 14000 клиентов\n",
            "Обработано 15000 клиентов\n",
            "Обработано 16000 клиентов\n",
            "Обработано 17000 клиентов\n",
            "Обработано 18000 клиентов\n",
            "Обработано 19000 клиентов\n",
            "Обработано 20000 клиентов\n",
            "Обработано 21000 клиентов\n",
            "Обработано 22000 клиентов\n",
            "Обработано 23000 клиентов\n",
            "Обработано 24000 клиентов\n",
            "Обработано 25000 клиентов\n",
            "Обработано 26000 клиентов\n",
            "Обработано 27000 клиентов\n",
            "Обработано 28000 клиентов\n",
            "Обработано 29000 клиентов\n",
            "Обработано 30000 клиентов\n",
            "Обработано 31000 клиентов\n",
            "Обработано 32000 клиентов\n",
            "Обработано 33000 клиентов\n",
            "Обработано 34000 клиентов\n",
            "Обработано 35000 клиентов\n",
            "Обработано 36000 клиентов\n",
            "Обработано 37000 клиентов\n",
            "Обработано 38000 клиентов\n",
            "Обработано 39000 клиентов\n",
            "Обработано 40000 клиентов\n",
            "Обработано 41000 клиентов\n",
            "Обработано 42000 клиентов\n",
            "Обработано 43000 клиентов\n",
            "Обработано 44000 клиентов\n",
            "Обработано 45000 клиентов\n",
            "Обработано 46000 клиентов\n",
            "Обработано 47000 клиентов\n",
            "Обработано 48000 клиентов\n",
            "Обработано 49000 клиентов\n",
            "Обработано 50000 клиентов\n",
            "Обработано 51000 клиентов\n",
            "Обработано 52000 клиентов\n",
            "Обработано 53000 клиентов\n",
            "Обработано 54000 клиентов\n",
            "Обработано 55000 клиентов\n",
            "Обработано 56000 клиентов\n",
            "Обработано 57000 клиентов\n",
            "Обработано 58000 клиентов\n",
            "Обработано 59000 клиентов\n",
            "Обработано 60000 клиентов\n",
            "Обработано 61000 клиентов\n",
            "Обработано 62000 клиентов\n",
            "Обработано 63000 клиентов\n",
            "Обработано 64000 клиентов\n",
            "Обработано 65000 клиентов\n",
            "Обработано 66000 клиентов\n",
            "Обработано 67000 клиентов\n",
            "Обработано 68000 клиентов\n"
          ],
          "name": "stdout"
        }
      ]
    },
    {
      "cell_type": "markdown",
      "metadata": {
        "id": "HNLZvP1qwOIb"
      },
      "source": [
        "**Целевая переменная**"
      ]
    },
    {
      "cell_type": "code",
      "metadata": {
        "id": "xv8M1Y-RwNbn"
      },
      "source": [
        "for i in range(0, len(ident_jul)):\n",
        "    telefon = ident_jul[i]\n",
        "    if telefon in ident_aug:   \n",
        "        clients_jul.loc[i, 'Вернулся ли клиент в след. месяце'] = 1\n",
        "    else:\n",
        "        clients_jul.loc[i, 'Вернулся ли клиент в след. месяце'] = 0"
      ],
      "execution_count": null,
      "outputs": []
    },
    {
      "cell_type": "code",
      "metadata": {
        "colab": {
          "base_uri": "https://localhost:8080/"
        },
        "id": "6IuVXXyByBiV",
        "outputId": "d58b4ca5-8a38-4553-82e9-e5f3011ac461"
      },
      "source": [
        "clients_aug.to_csv('clients_aug.csv', index=False)\n",
        "files.download(\"clients_aug.csv\")"
      ],
      "execution_count": null,
      "outputs": [
        {
          "output_type": "display_data",
          "data": {
            "application/javascript": [
              "\n",
              "    async function download(id, filename, size) {\n",
              "      if (!google.colab.kernel.accessAllowed) {\n",
              "        return;\n",
              "      }\n",
              "      const div = document.createElement('div');\n",
              "      const label = document.createElement('label');\n",
              "      label.textContent = `Downloading \"${filename}\": `;\n",
              "      div.appendChild(label);\n",
              "      const progress = document.createElement('progress');\n",
              "      progress.max = size;\n",
              "      div.appendChild(progress);\n",
              "      document.body.appendChild(div);\n",
              "\n",
              "      const buffers = [];\n",
              "      let downloaded = 0;\n",
              "\n",
              "      const channel = await google.colab.kernel.comms.open(id);\n",
              "      // Send a message to notify the kernel that we're ready.\n",
              "      channel.send({})\n",
              "\n",
              "      for await (const message of channel.messages) {\n",
              "        // Send a message to notify the kernel that we're ready.\n",
              "        channel.send({})\n",
              "        if (message.buffers) {\n",
              "          for (const buffer of message.buffers) {\n",
              "            buffers.push(buffer);\n",
              "            downloaded += buffer.byteLength;\n",
              "            progress.value = downloaded;\n",
              "          }\n",
              "        }\n",
              "      }\n",
              "      const blob = new Blob(buffers, {type: 'application/binary'});\n",
              "      const a = document.createElement('a');\n",
              "      a.href = window.URL.createObjectURL(blob);\n",
              "      a.download = filename;\n",
              "      div.appendChild(a);\n",
              "      a.click();\n",
              "      div.remove();\n",
              "    }\n",
              "  "
            ],
            "text/plain": [
              "<IPython.core.display.Javascript object>"
            ]
          },
          "metadata": {
            "tags": []
          }
        },
        {
          "output_type": "display_data",
          "data": {
            "application/javascript": [
              "download(\"download_a41d2877-9cd9-4f82-8040-b630f1bd9c0e\", \"clients_aug.csv\", 7233358)"
            ],
            "text/plain": [
              "<IPython.core.display.Javascript object>"
            ]
          },
          "metadata": {
            "tags": []
          }
        }
      ]
    },
    {
      "cell_type": "code",
      "metadata": {
        "colab": {
          "base_uri": "https://localhost:8080/"
        },
        "id": "hKrEQmzTu9Vq",
        "outputId": "0d554dde-6589-4a09-b501-29672a134fc9"
      },
      "source": [
        "clients_aug"
      ],
      "execution_count": null,
      "outputs": [
        {
          "output_type": "execute_result",
          "data": {
            "text/html": [
              "<div>\n",
              "<style scoped>\n",
              "    .dataframe tbody tr th:only-of-type {\n",
              "        vertical-align: middle;\n",
              "    }\n",
              "\n",
              "    .dataframe tbody tr th {\n",
              "        vertical-align: top;\n",
              "    }\n",
              "\n",
              "    .dataframe thead th {\n",
              "        text-align: right;\n",
              "    }\n",
              "</style>\n",
              "<table border=\"1\" class=\"dataframe\">\n",
              "  <thead>\n",
              "    <tr style=\"text-align: right;\">\n",
              "      <th></th>\n",
              "      <th>Информация о клиенте(телефон/почта)</th>\n",
              "      <th>Дата первого заказа</th>\n",
              "      <th>Дата последнего заказа</th>\n",
              "      <th>Кол-во заказов</th>\n",
              "      <th>Кол-во выкупленных заказов</th>\n",
              "      <th>Среднее кол-во товаров в чеке</th>\n",
              "      <th>Выручка по всем заказам</th>\n",
              "      <th>Выручка по выкупленным заказам</th>\n",
              "      <th>Cредняя выручка по выкупленным заказам</th>\n",
              "      <th>Маржа по всем заказам</th>\n",
              "      <th>Маржа по выкупленным заказам</th>\n",
              "      <th>Средняя маржа по выкупленным заказам</th>\n",
              "    </tr>\n",
              "  </thead>\n",
              "  <tbody>\n",
              "    <tr>\n",
              "      <th>0</th>\n",
              "      <td>55574857-54525253565078</td>\n",
              "      <td>31.07.2017 0:00</td>\n",
              "      <td>31.07.2017 0:00</td>\n",
              "      <td>1</td>\n",
              "      <td>0</td>\n",
              "      <td>4</td>\n",
              "      <td>0</td>\n",
              "      <td>0</td>\n",
              "      <td>0</td>\n",
              "      <td>0</td>\n",
              "      <td>0</td>\n",
              "      <td>0</td>\n",
              "    </tr>\n",
              "    <tr>\n",
              "      <th>1</th>\n",
              "      <td>55575054-57525256564978</td>\n",
              "      <td>31.07.2017 0:00</td>\n",
              "      <td>31.07.2017 0:00</td>\n",
              "      <td>1</td>\n",
              "      <td>1</td>\n",
              "      <td>7</td>\n",
              "      <td>1763</td>\n",
              "      <td>1763</td>\n",
              "      <td>251.857</td>\n",
              "      <td>291.4</td>\n",
              "      <td>291.4</td>\n",
              "      <td>41.6286</td>\n",
              "    </tr>\n",
              "    <tr>\n",
              "      <th>2</th>\n",
              "      <td>55575653-49575751545379</td>\n",
              "      <td>31.07.2017 0:00</td>\n",
              "      <td>31.07.2017 0:00</td>\n",
              "      <td>1</td>\n",
              "      <td>0</td>\n",
              "      <td>6</td>\n",
              "      <td>0</td>\n",
              "      <td>0</td>\n",
              "      <td>0</td>\n",
              "      <td>0</td>\n",
              "      <td>0</td>\n",
              "      <td>0</td>\n",
              "    </tr>\n",
              "    <tr>\n",
              "      <th>3</th>\n",
              "      <td>55574851-55535749575173</td>\n",
              "      <td>31.07.2017 0:00</td>\n",
              "      <td>09.08.2017 0:00</td>\n",
              "      <td>3</td>\n",
              "      <td>0</td>\n",
              "      <td>8.33333</td>\n",
              "      <td>0</td>\n",
              "      <td>0</td>\n",
              "      <td>0</td>\n",
              "      <td>0</td>\n",
              "      <td>0</td>\n",
              "      <td>0</td>\n",
              "    </tr>\n",
              "    <tr>\n",
              "      <th>4</th>\n",
              "      <td>55574857-50575453545775</td>\n",
              "      <td>31.07.2017 0:00</td>\n",
              "      <td>08.08.2017 0:00</td>\n",
              "      <td>2</td>\n",
              "      <td>2</td>\n",
              "      <td>2.5</td>\n",
              "      <td>5086</td>\n",
              "      <td>5086</td>\n",
              "      <td>1017.2</td>\n",
              "      <td>1694.68</td>\n",
              "      <td>1694.68</td>\n",
              "      <td>338.936</td>\n",
              "    </tr>\n",
              "    <tr>\n",
              "      <th>...</th>\n",
              "      <td>...</td>\n",
              "      <td>...</td>\n",
              "      <td>...</td>\n",
              "      <td>...</td>\n",
              "      <td>...</td>\n",
              "      <td>...</td>\n",
              "      <td>...</td>\n",
              "      <td>...</td>\n",
              "      <td>...</td>\n",
              "      <td>...</td>\n",
              "      <td>...</td>\n",
              "      <td>...</td>\n",
              "    </tr>\n",
              "    <tr>\n",
              "      <th>68157</th>\n",
              "      <td>55575653-52495348485078</td>\n",
              "      <td>31.08.2017 0:00</td>\n",
              "      <td>31.08.2017 0:00</td>\n",
              "      <td>1</td>\n",
              "      <td>0</td>\n",
              "      <td>4</td>\n",
              "      <td>0</td>\n",
              "      <td>0</td>\n",
              "      <td>0</td>\n",
              "      <td>0</td>\n",
              "      <td>0</td>\n",
              "      <td>0</td>\n",
              "    </tr>\n",
              "    <tr>\n",
              "      <th>68158</th>\n",
              "      <td>55575349-53505051515379</td>\n",
              "      <td>31.08.2017 0:00</td>\n",
              "      <td>31.08.2017 0:00</td>\n",
              "      <td>1</td>\n",
              "      <td>1</td>\n",
              "      <td>6</td>\n",
              "      <td>2336</td>\n",
              "      <td>2336</td>\n",
              "      <td>389.333</td>\n",
              "      <td>207.18</td>\n",
              "      <td>207.18</td>\n",
              "      <td>34.53</td>\n",
              "    </tr>\n",
              "    <tr>\n",
              "      <th>68159</th>\n",
              "      <td>55574954-52495653575371</td>\n",
              "      <td>31.08.2017 0:00</td>\n",
              "      <td>31.08.2017 0:00</td>\n",
              "      <td>1</td>\n",
              "      <td>0</td>\n",
              "      <td>3</td>\n",
              "      <td>0</td>\n",
              "      <td>0</td>\n",
              "      <td>0</td>\n",
              "      <td>0</td>\n",
              "      <td>0</td>\n",
              "      <td>0</td>\n",
              "    </tr>\n",
              "    <tr>\n",
              "      <th>68160</th>\n",
              "      <td>55574957-49485052555076</td>\n",
              "      <td>31.08.2017 0:00</td>\n",
              "      <td>31.08.2017 0:00</td>\n",
              "      <td>1</td>\n",
              "      <td>0</td>\n",
              "      <td>2</td>\n",
              "      <td>0</td>\n",
              "      <td>0</td>\n",
              "      <td>0</td>\n",
              "      <td>0</td>\n",
              "      <td>0</td>\n",
              "      <td>0</td>\n",
              "    </tr>\n",
              "    <tr>\n",
              "      <th>68161</th>\n",
              "      <td>55575655-50555455535477</td>\n",
              "      <td>31.08.2017 0:00</td>\n",
              "      <td>31.08.2017 0:00</td>\n",
              "      <td>1</td>\n",
              "      <td>0</td>\n",
              "      <td>2</td>\n",
              "      <td>0</td>\n",
              "      <td>0</td>\n",
              "      <td>0</td>\n",
              "      <td>0</td>\n",
              "      <td>0</td>\n",
              "      <td>0</td>\n",
              "    </tr>\n",
              "  </tbody>\n",
              "</table>\n",
              "<p>68162 rows × 12 columns</p>\n",
              "</div>"
            ],
            "text/plain": [
              "      Информация о клиенте(телефон/почта)  ... Средняя маржа по выкупленным заказам\n",
              "0                 55574857-54525253565078  ...                                    0\n",
              "1                 55575054-57525256564978  ...                              41.6286\n",
              "2                 55575653-49575751545379  ...                                    0\n",
              "3                 55574851-55535749575173  ...                                    0\n",
              "4                 55574857-50575453545775  ...                              338.936\n",
              "...                                   ...  ...                                  ...\n",
              "68157             55575653-52495348485078  ...                                    0\n",
              "68158             55575349-53505051515379  ...                                34.53\n",
              "68159             55574954-52495653575371  ...                                    0\n",
              "68160             55574957-49485052555076  ...                                    0\n",
              "68161             55575655-50555455535477  ...                                    0\n",
              "\n",
              "[68162 rows x 12 columns]"
            ]
          },
          "metadata": {
            "tags": []
          },
          "execution_count": 41
        }
      ]
    },
    {
      "cell_type": "markdown",
      "metadata": {
        "id": "sBaubSeHy7v3"
      },
      "source": [
        "#Обучение моделей"
      ]
    },
    {
      "cell_type": "code",
      "metadata": {
        "colab": {
          "base_uri": "https://localhost:8080/"
        },
        "id": "3UqmHVVjy-Nf",
        "outputId": "90fe2c62-abcf-42a7-bad4-6f4d1a79fd5c"
      },
      "source": [
        "pip install catboost"
      ],
      "execution_count": null,
      "outputs": [
        {
          "output_type": "stream",
          "text": [
            "Requirement already satisfied: catboost in /usr/local/lib/python3.7/dist-packages (0.26)\n",
            "Requirement already satisfied: matplotlib in /usr/local/lib/python3.7/dist-packages (from catboost) (3.2.2)\n",
            "Requirement already satisfied: six in /usr/local/lib/python3.7/dist-packages (from catboost) (1.15.0)\n",
            "Requirement already satisfied: graphviz in /usr/local/lib/python3.7/dist-packages (from catboost) (0.10.1)\n",
            "Requirement already satisfied: scipy in /usr/local/lib/python3.7/dist-packages (from catboost) (1.4.1)\n",
            "Requirement already satisfied: numpy>=1.16.0 in /usr/local/lib/python3.7/dist-packages (from catboost) (1.19.5)\n",
            "Requirement already satisfied: plotly in /usr/local/lib/python3.7/dist-packages (from catboost) (4.4.1)\n",
            "Requirement already satisfied: pandas>=0.24.0 in /usr/local/lib/python3.7/dist-packages (from catboost) (1.1.5)\n",
            "Requirement already satisfied: pyparsing!=2.0.4,!=2.1.2,!=2.1.6,>=2.0.1 in /usr/local/lib/python3.7/dist-packages (from matplotlib->catboost) (2.4.7)\n",
            "Requirement already satisfied: python-dateutil>=2.1 in /usr/local/lib/python3.7/dist-packages (from matplotlib->catboost) (2.8.1)\n",
            "Requirement already satisfied: cycler>=0.10 in /usr/local/lib/python3.7/dist-packages (from matplotlib->catboost) (0.10.0)\n",
            "Requirement already satisfied: kiwisolver>=1.0.1 in /usr/local/lib/python3.7/dist-packages (from matplotlib->catboost) (1.3.1)\n",
            "Requirement already satisfied: retrying>=1.3.3 in /usr/local/lib/python3.7/dist-packages (from plotly->catboost) (1.3.3)\n",
            "Requirement already satisfied: pytz>=2017.2 in /usr/local/lib/python3.7/dist-packages (from pandas>=0.24.0->catboost) (2018.9)\n"
          ],
          "name": "stdout"
        }
      ]
    },
    {
      "cell_type": "code",
      "metadata": {
        "id": "rrueJYEH7HH2"
      },
      "source": [
        "from catboost import CatBoostClassifier"
      ],
      "execution_count": null,
      "outputs": []
    },
    {
      "cell_type": "code",
      "metadata": {
        "colab": {
          "base_uri": "https://localhost:8080/"
        },
        "id": "eaigNjnlzIee",
        "outputId": "11eef073-016c-4c5d-abdf-e2d9eae196bd"
      },
      "source": [
        "pip install lightgbm"
      ],
      "execution_count": null,
      "outputs": [
        {
          "output_type": "stream",
          "text": [
            "Requirement already satisfied: lightgbm in /usr/local/lib/python3.7/dist-packages (2.2.3)\n",
            "Requirement already satisfied: scipy in /usr/local/lib/python3.7/dist-packages (from lightgbm) (1.4.1)\n",
            "Requirement already satisfied: scikit-learn in /usr/local/lib/python3.7/dist-packages (from lightgbm) (0.22.2.post1)\n",
            "Requirement already satisfied: numpy in /usr/local/lib/python3.7/dist-packages (from lightgbm) (1.19.5)\n",
            "Requirement already satisfied: joblib>=0.11 in /usr/local/lib/python3.7/dist-packages (from scikit-learn->lightgbm) (1.0.1)\n"
          ],
          "name": "stdout"
        }
      ]
    },
    {
      "cell_type": "code",
      "metadata": {
        "id": "LIVHzAi73Zdw"
      },
      "source": [
        "df_train = pd.read_csv('/content/gdrive/My Drive/clients_jul_plus_y.csv')"
      ],
      "execution_count": null,
      "outputs": []
    },
    {
      "cell_type": "code",
      "metadata": {
        "colab": {
          "base_uri": "https://localhost:8080/",
          "height": 637
        },
        "id": "9Ti7FZxv3pOQ",
        "outputId": "cbcf7cb6-8c30-4c51-8433-9be4280d8598"
      },
      "source": [
        "df_train = df_train.drop(columns='Unnamed: 0')\n",
        "df_train"
      ],
      "execution_count": null,
      "outputs": [
        {
          "output_type": "execute_result",
          "data": {
            "text/html": [
              "<div>\n",
              "<style scoped>\n",
              "    .dataframe tbody tr th:only-of-type {\n",
              "        vertical-align: middle;\n",
              "    }\n",
              "\n",
              "    .dataframe tbody tr th {\n",
              "        vertical-align: top;\n",
              "    }\n",
              "\n",
              "    .dataframe thead th {\n",
              "        text-align: right;\n",
              "    }\n",
              "</style>\n",
              "<table border=\"1\" class=\"dataframe\">\n",
              "  <thead>\n",
              "    <tr style=\"text-align: right;\">\n",
              "      <th></th>\n",
              "      <th>Информация о клиенте(телефон/почта)</th>\n",
              "      <th>Дата первого заказа</th>\n",
              "      <th>Дата последнего заказа</th>\n",
              "      <th>Кол-во заказов</th>\n",
              "      <th>Кол-во выкупленных заказов</th>\n",
              "      <th>Среднее кол-во товаров в чеке</th>\n",
              "      <th>Выручка по всем заказам</th>\n",
              "      <th>Выручка по выкупленным заказам</th>\n",
              "      <th>Cредняя выручка по выкупленным заказам</th>\n",
              "      <th>Маржа по всем заказам</th>\n",
              "      <th>Маржа по выкупленным заказам</th>\n",
              "      <th>Средняя маржа по выкупленным заказам</th>\n",
              "      <th>Вернулся ли клиент в след. месяце</th>\n",
              "    </tr>\n",
              "  </thead>\n",
              "  <tbody>\n",
              "    <tr>\n",
              "      <th>0</th>\n",
              "      <td>55574948-52495050484877</td>\n",
              "      <td>30.06.2017 0:00</td>\n",
              "      <td>30.06.2017 0:00</td>\n",
              "      <td>1</td>\n",
              "      <td>1</td>\n",
              "      <td>14.0</td>\n",
              "      <td>1634.0</td>\n",
              "      <td>1634.0</td>\n",
              "      <td>116.714286</td>\n",
              "      <td>546.24</td>\n",
              "      <td>546.24</td>\n",
              "      <td>39.017143</td>\n",
              "      <td>0.0</td>\n",
              "    </tr>\n",
              "    <tr>\n",
              "      <th>1</th>\n",
              "      <td>55575656-49565651494970</td>\n",
              "      <td>30.06.2017 0:00</td>\n",
              "      <td>30.06.2017 0:00</td>\n",
              "      <td>1</td>\n",
              "      <td>1</td>\n",
              "      <td>12.0</td>\n",
              "      <td>1915.0</td>\n",
              "      <td>1915.0</td>\n",
              "      <td>159.583333</td>\n",
              "      <td>88.64</td>\n",
              "      <td>88.64</td>\n",
              "      <td>7.386667</td>\n",
              "      <td>0.0</td>\n",
              "    </tr>\n",
              "    <tr>\n",
              "      <th>2</th>\n",
              "      <td>55575155-54535648525672</td>\n",
              "      <td>30.06.2017 0:00</td>\n",
              "      <td>21.07.2017 0:00</td>\n",
              "      <td>3</td>\n",
              "      <td>1</td>\n",
              "      <td>3.0</td>\n",
              "      <td>1218.0</td>\n",
              "      <td>1218.0</td>\n",
              "      <td>609.000000</td>\n",
              "      <td>68.00</td>\n",
              "      <td>68.00</td>\n",
              "      <td>34.000000</td>\n",
              "      <td>0.0</td>\n",
              "    </tr>\n",
              "    <tr>\n",
              "      <th>3</th>\n",
              "      <td>55575451-55554850515276</td>\n",
              "      <td>30.06.2017 0:00</td>\n",
              "      <td>30.06.2017 0:00</td>\n",
              "      <td>1</td>\n",
              "      <td>0</td>\n",
              "      <td>2.0</td>\n",
              "      <td>0.0</td>\n",
              "      <td>0.0</td>\n",
              "      <td>0.000000</td>\n",
              "      <td>0.00</td>\n",
              "      <td>0.00</td>\n",
              "      <td>0.000000</td>\n",
              "      <td>0.0</td>\n",
              "    </tr>\n",
              "    <tr>\n",
              "      <th>4</th>\n",
              "      <td>55575456-55545450525776</td>\n",
              "      <td>30.06.2017 0:00</td>\n",
              "      <td>30.06.2017 0:00</td>\n",
              "      <td>1</td>\n",
              "      <td>0</td>\n",
              "      <td>2.0</td>\n",
              "      <td>0.0</td>\n",
              "      <td>0.0</td>\n",
              "      <td>0.000000</td>\n",
              "      <td>0.00</td>\n",
              "      <td>0.00</td>\n",
              "      <td>0.000000</td>\n",
              "      <td>1.0</td>\n",
              "    </tr>\n",
              "    <tr>\n",
              "      <th>...</th>\n",
              "      <td>...</td>\n",
              "      <td>...</td>\n",
              "      <td>...</td>\n",
              "      <td>...</td>\n",
              "      <td>...</td>\n",
              "      <td>...</td>\n",
              "      <td>...</td>\n",
              "      <td>...</td>\n",
              "      <td>...</td>\n",
              "      <td>...</td>\n",
              "      <td>...</td>\n",
              "      <td>...</td>\n",
              "      <td>...</td>\n",
              "    </tr>\n",
              "    <tr>\n",
              "      <th>61754</th>\n",
              "      <td>55574857-57515456545673</td>\n",
              "      <td>31.07.2017 0:00</td>\n",
              "      <td>31.07.2017 0:00</td>\n",
              "      <td>1</td>\n",
              "      <td>0</td>\n",
              "      <td>3.0</td>\n",
              "      <td>0.0</td>\n",
              "      <td>0.0</td>\n",
              "      <td>0.000000</td>\n",
              "      <td>0.00</td>\n",
              "      <td>0.00</td>\n",
              "      <td>0.000000</td>\n",
              "      <td>1.0</td>\n",
              "    </tr>\n",
              "    <tr>\n",
              "      <th>61755</th>\n",
              "      <td>55574954-48505253514871</td>\n",
              "      <td>31.07.2017 0:00</td>\n",
              "      <td>31.07.2017 0:00</td>\n",
              "      <td>1</td>\n",
              "      <td>0</td>\n",
              "      <td>4.0</td>\n",
              "      <td>0.0</td>\n",
              "      <td>0.0</td>\n",
              "      <td>0.000000</td>\n",
              "      <td>0.00</td>\n",
              "      <td>0.00</td>\n",
              "      <td>0.000000</td>\n",
              "      <td>1.0</td>\n",
              "    </tr>\n",
              "    <tr>\n",
              "      <th>61756</th>\n",
              "      <td>55575155-52515052495077</td>\n",
              "      <td>31.07.2017 0:00</td>\n",
              "      <td>31.07.2017 0:00</td>\n",
              "      <td>1</td>\n",
              "      <td>1</td>\n",
              "      <td>2.0</td>\n",
              "      <td>2108.0</td>\n",
              "      <td>2108.0</td>\n",
              "      <td>1054.000000</td>\n",
              "      <td>626.00</td>\n",
              "      <td>626.00</td>\n",
              "      <td>313.000000</td>\n",
              "      <td>0.0</td>\n",
              "    </tr>\n",
              "    <tr>\n",
              "      <th>61757</th>\n",
              "      <td>55575054-49535254565073</td>\n",
              "      <td>31.07.2017 0:00</td>\n",
              "      <td>31.07.2017 0:00</td>\n",
              "      <td>1</td>\n",
              "      <td>0</td>\n",
              "      <td>2.0</td>\n",
              "      <td>0.0</td>\n",
              "      <td>0.0</td>\n",
              "      <td>0.000000</td>\n",
              "      <td>0.00</td>\n",
              "      <td>0.00</td>\n",
              "      <td>0.000000</td>\n",
              "      <td>1.0</td>\n",
              "    </tr>\n",
              "    <tr>\n",
              "      <th>61758</th>\n",
              "      <td>55574856-49525048545475</td>\n",
              "      <td>31.07.2017 0:00</td>\n",
              "      <td>31.07.2017 0:00</td>\n",
              "      <td>1</td>\n",
              "      <td>1</td>\n",
              "      <td>2.0</td>\n",
              "      <td>2979.0</td>\n",
              "      <td>2979.0</td>\n",
              "      <td>1489.500000</td>\n",
              "      <td>155.88</td>\n",
              "      <td>155.88</td>\n",
              "      <td>77.940000</td>\n",
              "      <td>1.0</td>\n",
              "    </tr>\n",
              "  </tbody>\n",
              "</table>\n",
              "<p>61759 rows × 13 columns</p>\n",
              "</div>"
            ],
            "text/plain": [
              "      Информация о клиенте(телефон/почта)  ... Вернулся ли клиент в след. месяце\n",
              "0                 55574948-52495050484877  ...                               0.0\n",
              "1                 55575656-49565651494970  ...                               0.0\n",
              "2                 55575155-54535648525672  ...                               0.0\n",
              "3                 55575451-55554850515276  ...                               0.0\n",
              "4                 55575456-55545450525776  ...                               1.0\n",
              "...                                   ...  ...                               ...\n",
              "61754             55574857-57515456545673  ...                               1.0\n",
              "61755             55574954-48505253514871  ...                               1.0\n",
              "61756             55575155-52515052495077  ...                               0.0\n",
              "61757             55575054-49535254565073  ...                               1.0\n",
              "61758             55574856-49525048545475  ...                               1.0\n",
              "\n",
              "[61759 rows x 13 columns]"
            ]
          },
          "metadata": {
            "tags": []
          },
          "execution_count": 60
        }
      ]
    },
    {
      "cell_type": "code",
      "metadata": {
        "id": "P3pnNsdn4DdY"
      },
      "source": [
        "X_train = df_train.drop(columns=['Информация о клиенте(телефон/почта)', 'Вернулся ли клиент в след. месяце'])\n",
        "y_train = df_train['Вернулся ли клиент в след. месяце']"
      ],
      "execution_count": null,
      "outputs": []
    },
    {
      "cell_type": "code",
      "metadata": {
        "id": "CCGAf3GA3zJY"
      },
      "source": [
        "df_test = pd.read_csv('/content/gdrive/My Drive/clients_aug.csv')"
      ],
      "execution_count": null,
      "outputs": []
    },
    {
      "cell_type": "code",
      "metadata": {
        "colab": {
          "base_uri": "https://localhost:8080/",
          "height": 620
        },
        "id": "JWtbhuCa4BgO",
        "outputId": "50f3b2a6-04d0-4832-a1c8-4cb9b5086697"
      },
      "source": [
        "df_test"
      ],
      "execution_count": null,
      "outputs": [
        {
          "output_type": "execute_result",
          "data": {
            "text/html": [
              "<div>\n",
              "<style scoped>\n",
              "    .dataframe tbody tr th:only-of-type {\n",
              "        vertical-align: middle;\n",
              "    }\n",
              "\n",
              "    .dataframe tbody tr th {\n",
              "        vertical-align: top;\n",
              "    }\n",
              "\n",
              "    .dataframe thead th {\n",
              "        text-align: right;\n",
              "    }\n",
              "</style>\n",
              "<table border=\"1\" class=\"dataframe\">\n",
              "  <thead>\n",
              "    <tr style=\"text-align: right;\">\n",
              "      <th></th>\n",
              "      <th>Информация о клиенте(телефон/почта)</th>\n",
              "      <th>Дата первого заказа</th>\n",
              "      <th>Дата последнего заказа</th>\n",
              "      <th>Кол-во заказов</th>\n",
              "      <th>Кол-во выкупленных заказов</th>\n",
              "      <th>Среднее кол-во товаров в чеке</th>\n",
              "      <th>Выручка по всем заказам</th>\n",
              "      <th>Выручка по выкупленным заказам</th>\n",
              "      <th>Cредняя выручка по выкупленным заказам</th>\n",
              "      <th>Маржа по всем заказам</th>\n",
              "      <th>Маржа по выкупленным заказам</th>\n",
              "      <th>Средняя маржа по выкупленным заказам</th>\n",
              "    </tr>\n",
              "  </thead>\n",
              "  <tbody>\n",
              "    <tr>\n",
              "      <th>0</th>\n",
              "      <td>55574857-54525253565078</td>\n",
              "      <td>31.07.2017 0:00</td>\n",
              "      <td>31.07.2017 0:00</td>\n",
              "      <td>1</td>\n",
              "      <td>0</td>\n",
              "      <td>4.000000</td>\n",
              "      <td>0.0</td>\n",
              "      <td>0.0</td>\n",
              "      <td>0.000000</td>\n",
              "      <td>0.00</td>\n",
              "      <td>0.00</td>\n",
              "      <td>0.000000</td>\n",
              "    </tr>\n",
              "    <tr>\n",
              "      <th>1</th>\n",
              "      <td>55575054-57525256564978</td>\n",
              "      <td>31.07.2017 0:00</td>\n",
              "      <td>31.07.2017 0:00</td>\n",
              "      <td>1</td>\n",
              "      <td>1</td>\n",
              "      <td>7.000000</td>\n",
              "      <td>1763.0</td>\n",
              "      <td>1763.0</td>\n",
              "      <td>251.857143</td>\n",
              "      <td>291.40</td>\n",
              "      <td>291.40</td>\n",
              "      <td>41.628571</td>\n",
              "    </tr>\n",
              "    <tr>\n",
              "      <th>2</th>\n",
              "      <td>55575653-49575751545379</td>\n",
              "      <td>31.07.2017 0:00</td>\n",
              "      <td>31.07.2017 0:00</td>\n",
              "      <td>1</td>\n",
              "      <td>0</td>\n",
              "      <td>6.000000</td>\n",
              "      <td>0.0</td>\n",
              "      <td>0.0</td>\n",
              "      <td>0.000000</td>\n",
              "      <td>0.00</td>\n",
              "      <td>0.00</td>\n",
              "      <td>0.000000</td>\n",
              "    </tr>\n",
              "    <tr>\n",
              "      <th>3</th>\n",
              "      <td>55574851-55535749575173</td>\n",
              "      <td>31.07.2017 0:00</td>\n",
              "      <td>09.08.2017 0:00</td>\n",
              "      <td>3</td>\n",
              "      <td>0</td>\n",
              "      <td>8.333333</td>\n",
              "      <td>0.0</td>\n",
              "      <td>0.0</td>\n",
              "      <td>0.000000</td>\n",
              "      <td>0.00</td>\n",
              "      <td>0.00</td>\n",
              "      <td>0.000000</td>\n",
              "    </tr>\n",
              "    <tr>\n",
              "      <th>4</th>\n",
              "      <td>55574857-50575453545775</td>\n",
              "      <td>31.07.2017 0:00</td>\n",
              "      <td>08.08.2017 0:00</td>\n",
              "      <td>2</td>\n",
              "      <td>2</td>\n",
              "      <td>2.500000</td>\n",
              "      <td>5086.0</td>\n",
              "      <td>5086.0</td>\n",
              "      <td>1017.200000</td>\n",
              "      <td>1694.68</td>\n",
              "      <td>1694.68</td>\n",
              "      <td>338.936000</td>\n",
              "    </tr>\n",
              "    <tr>\n",
              "      <th>...</th>\n",
              "      <td>...</td>\n",
              "      <td>...</td>\n",
              "      <td>...</td>\n",
              "      <td>...</td>\n",
              "      <td>...</td>\n",
              "      <td>...</td>\n",
              "      <td>...</td>\n",
              "      <td>...</td>\n",
              "      <td>...</td>\n",
              "      <td>...</td>\n",
              "      <td>...</td>\n",
              "      <td>...</td>\n",
              "    </tr>\n",
              "    <tr>\n",
              "      <th>68157</th>\n",
              "      <td>55575653-52495348485078</td>\n",
              "      <td>31.08.2017 0:00</td>\n",
              "      <td>31.08.2017 0:00</td>\n",
              "      <td>1</td>\n",
              "      <td>0</td>\n",
              "      <td>4.000000</td>\n",
              "      <td>0.0</td>\n",
              "      <td>0.0</td>\n",
              "      <td>0.000000</td>\n",
              "      <td>0.00</td>\n",
              "      <td>0.00</td>\n",
              "      <td>0.000000</td>\n",
              "    </tr>\n",
              "    <tr>\n",
              "      <th>68158</th>\n",
              "      <td>55575349-53505051515379</td>\n",
              "      <td>31.08.2017 0:00</td>\n",
              "      <td>31.08.2017 0:00</td>\n",
              "      <td>1</td>\n",
              "      <td>1</td>\n",
              "      <td>6.000000</td>\n",
              "      <td>2336.0</td>\n",
              "      <td>2336.0</td>\n",
              "      <td>389.333333</td>\n",
              "      <td>207.18</td>\n",
              "      <td>207.18</td>\n",
              "      <td>34.530000</td>\n",
              "    </tr>\n",
              "    <tr>\n",
              "      <th>68159</th>\n",
              "      <td>55574954-52495653575371</td>\n",
              "      <td>31.08.2017 0:00</td>\n",
              "      <td>31.08.2017 0:00</td>\n",
              "      <td>1</td>\n",
              "      <td>0</td>\n",
              "      <td>3.000000</td>\n",
              "      <td>0.0</td>\n",
              "      <td>0.0</td>\n",
              "      <td>0.000000</td>\n",
              "      <td>0.00</td>\n",
              "      <td>0.00</td>\n",
              "      <td>0.000000</td>\n",
              "    </tr>\n",
              "    <tr>\n",
              "      <th>68160</th>\n",
              "      <td>55574957-49485052555076</td>\n",
              "      <td>31.08.2017 0:00</td>\n",
              "      <td>31.08.2017 0:00</td>\n",
              "      <td>1</td>\n",
              "      <td>0</td>\n",
              "      <td>2.000000</td>\n",
              "      <td>0.0</td>\n",
              "      <td>0.0</td>\n",
              "      <td>0.000000</td>\n",
              "      <td>0.00</td>\n",
              "      <td>0.00</td>\n",
              "      <td>0.000000</td>\n",
              "    </tr>\n",
              "    <tr>\n",
              "      <th>68161</th>\n",
              "      <td>55575655-50555455535477</td>\n",
              "      <td>31.08.2017 0:00</td>\n",
              "      <td>31.08.2017 0:00</td>\n",
              "      <td>1</td>\n",
              "      <td>0</td>\n",
              "      <td>2.000000</td>\n",
              "      <td>0.0</td>\n",
              "      <td>0.0</td>\n",
              "      <td>0.000000</td>\n",
              "      <td>0.00</td>\n",
              "      <td>0.00</td>\n",
              "      <td>0.000000</td>\n",
              "    </tr>\n",
              "  </tbody>\n",
              "</table>\n",
              "<p>68162 rows × 12 columns</p>\n",
              "</div>"
            ],
            "text/plain": [
              "      Информация о клиенте(телефон/почта)  ... Средняя маржа по выкупленным заказам\n",
              "0                 55574857-54525253565078  ...                             0.000000\n",
              "1                 55575054-57525256564978  ...                            41.628571\n",
              "2                 55575653-49575751545379  ...                             0.000000\n",
              "3                 55574851-55535749575173  ...                             0.000000\n",
              "4                 55574857-50575453545775  ...                           338.936000\n",
              "...                                   ...  ...                                  ...\n",
              "68157             55575653-52495348485078  ...                             0.000000\n",
              "68158             55575349-53505051515379  ...                            34.530000\n",
              "68159             55574954-52495653575371  ...                             0.000000\n",
              "68160             55574957-49485052555076  ...                             0.000000\n",
              "68161             55575655-50555455535477  ...                             0.000000\n",
              "\n",
              "[68162 rows x 12 columns]"
            ]
          },
          "metadata": {
            "tags": []
          },
          "execution_count": 62
        }
      ]
    },
    {
      "cell_type": "code",
      "metadata": {
        "id": "QuGXxldX4bXs"
      },
      "source": [
        "X_test = df_test.drop(columns='Информация о клиенте(телефон/почта)')"
      ],
      "execution_count": null,
      "outputs": []
    },
    {
      "cell_type": "markdown",
      "metadata": {
        "id": "_1x5lPWa4j3N"
      },
      "source": [
        "Для начала выделим числовые и категориальные переменные"
      ]
    },
    {
      "cell_type": "code",
      "metadata": {
        "id": "Dt9zWOcl4jaw"
      },
      "source": [
        "numeric = ['Среднее кол-во товаров в чеке', 'Выручка по всем заказам', 'Выручка по выкупленным заказам',\n",
        "           'Cредняя выручка по выкупленным заказам', 'Маржа по всем заказам', 'Маржа по выкупленным заказам',\n",
        "           'Средняя маржа по выкупленным заказам']\n",
        "categorical = ['Дата первого заказа', 'Дата последнего заказа', 'Кол-во заказов', 'Кол-во выкупленных заказов']"
      ],
      "execution_count": null,
      "outputs": []
    },
    {
      "cell_type": "code",
      "metadata": {
        "id": "Bum_E_rhz-Eg"
      },
      "source": [
        "column_transformer = ColumnTransformer([\n",
        "    ('scaling', StandardScaler(), numeric),\n",
        "    ('ohe', OneHotEncoder(handle_unknown=\"ignore\"), categorical)\n",
        "])"
      ],
      "execution_count": null,
      "outputs": []
    },
    {
      "cell_type": "code",
      "metadata": {
        "id": "ftitUwJO2wQL"
      },
      "source": [
        "pipeline_1 = Pipeline(steps=[\n",
        "    ('tr', column_transformer),\n",
        "    ('d_t', DecisionTreeClassifier())\n",
        "])\n",
        "\n",
        "m_1 = pipeline_1.fit(X_train, y_train)\n",
        "pred_1_t = m_1.predict(X_test)\n",
        "pred_1_tr = m_1.predict(X_train)\n",
        "pred_1_pr_tr = m_1.predict_proba(X_train)[:, 1]"
      ],
      "execution_count": null,
      "outputs": []
    },
    {
      "cell_type": "code",
      "metadata": {
        "id": "vVcI92oX2xID"
      },
      "source": [
        "pipeline_2 = Pipeline(steps=[\n",
        "    ('tr', column_transformer),\n",
        "    ('r_f', RandomForestClassifier())\n",
        "])\n",
        "\n",
        "m_2 = pipeline_2.fit(X_train, y_train)\n",
        "pred_2_t = m_2.predict(X_test)\n",
        "pred_2_tr = m_2.predict(X_train)\n",
        "pred_2_pr_tr = m_2.predict_proba(X_train)[:, 1]"
      ],
      "execution_count": null,
      "outputs": []
    },
    {
      "cell_type": "code",
      "metadata": {
        "id": "zs9xI0Fv2xNx"
      },
      "source": [
        "pipeline_3 = Pipeline(steps=[\n",
        "    ('tr', column_transformer),\n",
        "    ('xgb', xgb.XGBClassifier())\n",
        "])\n",
        "\n",
        "m_3 = pipeline_3.fit(X_train, y_train)\n",
        "pred_3_t = m_3.predict(X_test)\n",
        "pred_3_tr = m_3.predict(X_train)\n",
        "pred_3_pr_tr = m_3.predict_proba(X_train)[:, 1]"
      ],
      "execution_count": null,
      "outputs": []
    },
    {
      "cell_type": "code",
      "metadata": {
        "colab": {
          "base_uri": "https://localhost:8080/"
        },
        "id": "5ZV0dkJP2xQ0",
        "outputId": "be130b76-b8f1-450c-d999-79392bc964a1"
      },
      "source": [
        "pipeline_4 = Pipeline(steps=[\n",
        "    ('tr', column_transformer),\n",
        "    ('cat', CatBoostClassifier())\n",
        "])\n",
        "\n",
        "m_4 = pipeline_4.fit(X_train, y_train)\n",
        "pred_4_t = m_4.predict(X_test)\n",
        "#pred_4_pr_t = m_4.predict_proba(X_test)[:, 1]\n",
        "pred_4_tr = m_4.predict(X_train)\n",
        "pred_4_pr_tr = m_4.predict_proba(X_train)[:, 1]"
      ],
      "execution_count": null,
      "outputs": [
        {
          "output_type": "stream",
          "text": [
            "Learning rate set to 0.059919\n",
            "0:\tlearn: 0.6661170\ttotal: 34ms\tremaining: 34s\n",
            "1:\tlearn: 0.6425163\ttotal: 59.8ms\tremaining: 29.8s\n",
            "2:\tlearn: 0.6217890\ttotal: 85.9ms\tremaining: 28.5s\n",
            "3:\tlearn: 0.6039432\ttotal: 113ms\tremaining: 28s\n",
            "4:\tlearn: 0.5885943\ttotal: 138ms\tremaining: 27.5s\n",
            "5:\tlearn: 0.5753014\ttotal: 165ms\tremaining: 27.3s\n",
            "6:\tlearn: 0.5645768\ttotal: 194ms\tremaining: 27.6s\n",
            "7:\tlearn: 0.5544448\ttotal: 220ms\tremaining: 27.3s\n",
            "8:\tlearn: 0.5455020\ttotal: 246ms\tremaining: 27.1s\n",
            "9:\tlearn: 0.5374989\ttotal: 271ms\tremaining: 26.9s\n",
            "10:\tlearn: 0.5309924\ttotal: 298ms\tremaining: 26.8s\n",
            "11:\tlearn: 0.5249617\ttotal: 325ms\tremaining: 26.8s\n",
            "12:\tlearn: 0.5201328\ttotal: 350ms\tremaining: 26.6s\n",
            "13:\tlearn: 0.5158790\ttotal: 380ms\tremaining: 26.8s\n",
            "14:\tlearn: 0.5115876\ttotal: 409ms\tremaining: 26.8s\n",
            "15:\tlearn: 0.5078726\ttotal: 434ms\tremaining: 26.7s\n",
            "16:\tlearn: 0.5047110\ttotal: 462ms\tremaining: 26.7s\n",
            "17:\tlearn: 0.5018041\ttotal: 488ms\tremaining: 26.6s\n",
            "18:\tlearn: 0.4994676\ttotal: 526ms\tremaining: 27.2s\n",
            "19:\tlearn: 0.4972939\ttotal: 556ms\tremaining: 27.2s\n",
            "20:\tlearn: 0.4952243\ttotal: 583ms\tremaining: 27.2s\n",
            "21:\tlearn: 0.4935076\ttotal: 614ms\tremaining: 27.3s\n",
            "22:\tlearn: 0.4917906\ttotal: 642ms\tremaining: 27.3s\n",
            "23:\tlearn: 0.4905932\ttotal: 667ms\tremaining: 27.1s\n",
            "24:\tlearn: 0.4894470\ttotal: 690ms\tremaining: 26.9s\n",
            "25:\tlearn: 0.4884787\ttotal: 715ms\tremaining: 26.8s\n",
            "26:\tlearn: 0.4875684\ttotal: 741ms\tremaining: 26.7s\n",
            "27:\tlearn: 0.4865672\ttotal: 767ms\tremaining: 26.6s\n",
            "28:\tlearn: 0.4857972\ttotal: 797ms\tremaining: 26.7s\n",
            "29:\tlearn: 0.4850030\ttotal: 840ms\tremaining: 27.2s\n",
            "30:\tlearn: 0.4843517\ttotal: 868ms\tremaining: 27.1s\n",
            "31:\tlearn: 0.4836739\ttotal: 894ms\tremaining: 27.1s\n",
            "32:\tlearn: 0.4831523\ttotal: 923ms\tremaining: 27s\n",
            "33:\tlearn: 0.4826569\ttotal: 956ms\tremaining: 27.2s\n",
            "34:\tlearn: 0.4821390\ttotal: 983ms\tremaining: 27.1s\n",
            "35:\tlearn: 0.4816651\ttotal: 1.01s\tremaining: 27.2s\n",
            "36:\tlearn: 0.4811937\ttotal: 1.04s\tremaining: 27.2s\n",
            "37:\tlearn: 0.4809275\ttotal: 1.07s\tremaining: 27.1s\n",
            "38:\tlearn: 0.4806407\ttotal: 1.1s\tremaining: 27s\n",
            "39:\tlearn: 0.4802661\ttotal: 1.12s\tremaining: 27s\n",
            "40:\tlearn: 0.4799594\ttotal: 1.16s\tremaining: 27s\n",
            "41:\tlearn: 0.4796987\ttotal: 1.18s\tremaining: 26.9s\n",
            "42:\tlearn: 0.4794075\ttotal: 1.21s\tremaining: 26.9s\n",
            "43:\tlearn: 0.4792413\ttotal: 1.24s\tremaining: 26.9s\n",
            "44:\tlearn: 0.4790626\ttotal: 1.27s\tremaining: 26.9s\n",
            "45:\tlearn: 0.4788916\ttotal: 1.29s\tremaining: 26.8s\n",
            "46:\tlearn: 0.4787308\ttotal: 1.32s\tremaining: 26.7s\n",
            "47:\tlearn: 0.4785331\ttotal: 1.34s\tremaining: 26.7s\n",
            "48:\tlearn: 0.4783680\ttotal: 1.37s\tremaining: 26.6s\n",
            "49:\tlearn: 0.4782023\ttotal: 1.4s\tremaining: 26.6s\n",
            "50:\tlearn: 0.4780512\ttotal: 1.42s\tremaining: 26.5s\n",
            "51:\tlearn: 0.4779244\ttotal: 1.45s\tremaining: 26.5s\n",
            "52:\tlearn: 0.4778131\ttotal: 1.48s\tremaining: 26.5s\n",
            "53:\tlearn: 0.4777096\ttotal: 1.51s\tremaining: 26.4s\n",
            "54:\tlearn: 0.4775787\ttotal: 1.54s\tremaining: 26.5s\n",
            "55:\tlearn: 0.4774228\ttotal: 1.57s\tremaining: 26.5s\n",
            "56:\tlearn: 0.4773356\ttotal: 1.59s\tremaining: 26.4s\n",
            "57:\tlearn: 0.4772111\ttotal: 1.62s\tremaining: 26.3s\n",
            "58:\tlearn: 0.4771047\ttotal: 1.65s\tremaining: 26.3s\n",
            "59:\tlearn: 0.4770145\ttotal: 1.67s\tremaining: 26.2s\n",
            "60:\tlearn: 0.4769156\ttotal: 1.7s\tremaining: 26.2s\n",
            "61:\tlearn: 0.4768072\ttotal: 1.73s\tremaining: 26.1s\n",
            "62:\tlearn: 0.4766646\ttotal: 1.75s\tremaining: 26.1s\n",
            "63:\tlearn: 0.4765969\ttotal: 1.78s\tremaining: 26s\n",
            "64:\tlearn: 0.4764902\ttotal: 1.8s\tremaining: 26s\n",
            "65:\tlearn: 0.4763813\ttotal: 1.83s\tremaining: 25.9s\n",
            "66:\tlearn: 0.4762821\ttotal: 1.85s\tremaining: 25.8s\n",
            "67:\tlearn: 0.4761649\ttotal: 1.88s\tremaining: 25.8s\n",
            "68:\tlearn: 0.4760977\ttotal: 1.91s\tremaining: 25.8s\n",
            "69:\tlearn: 0.4759887\ttotal: 1.94s\tremaining: 25.8s\n",
            "70:\tlearn: 0.4759061\ttotal: 1.97s\tremaining: 25.8s\n",
            "71:\tlearn: 0.4758085\ttotal: 2s\tremaining: 25.7s\n",
            "72:\tlearn: 0.4757320\ttotal: 2.02s\tremaining: 25.7s\n",
            "73:\tlearn: 0.4756603\ttotal: 2.05s\tremaining: 25.6s\n",
            "74:\tlearn: 0.4755738\ttotal: 2.08s\tremaining: 25.7s\n",
            "75:\tlearn: 0.4755102\ttotal: 2.11s\tremaining: 25.6s\n",
            "76:\tlearn: 0.4754509\ttotal: 2.14s\tremaining: 25.6s\n",
            "77:\tlearn: 0.4753981\ttotal: 2.16s\tremaining: 25.6s\n",
            "78:\tlearn: 0.4753386\ttotal: 2.19s\tremaining: 25.5s\n",
            "79:\tlearn: 0.4752723\ttotal: 2.22s\tremaining: 25.6s\n",
            "80:\tlearn: 0.4752188\ttotal: 2.25s\tremaining: 25.5s\n",
            "81:\tlearn: 0.4751586\ttotal: 2.28s\tremaining: 25.5s\n",
            "82:\tlearn: 0.4750974\ttotal: 2.3s\tremaining: 25.4s\n",
            "83:\tlearn: 0.4750411\ttotal: 2.33s\tremaining: 25.4s\n",
            "84:\tlearn: 0.4750032\ttotal: 2.36s\tremaining: 25.4s\n",
            "85:\tlearn: 0.4749553\ttotal: 2.39s\tremaining: 25.4s\n",
            "86:\tlearn: 0.4749080\ttotal: 2.41s\tremaining: 25.3s\n",
            "87:\tlearn: 0.4748716\ttotal: 2.44s\tremaining: 25.3s\n",
            "88:\tlearn: 0.4747808\ttotal: 2.47s\tremaining: 25.2s\n",
            "89:\tlearn: 0.4747101\ttotal: 2.49s\tremaining: 25.2s\n",
            "90:\tlearn: 0.4746728\ttotal: 2.53s\tremaining: 25.3s\n",
            "91:\tlearn: 0.4746364\ttotal: 2.56s\tremaining: 25.2s\n",
            "92:\tlearn: 0.4745742\ttotal: 2.58s\tremaining: 25.2s\n",
            "93:\tlearn: 0.4745221\ttotal: 2.61s\tremaining: 25.1s\n",
            "94:\tlearn: 0.4745031\ttotal: 2.63s\tremaining: 25.1s\n",
            "95:\tlearn: 0.4744456\ttotal: 2.66s\tremaining: 25s\n",
            "96:\tlearn: 0.4743992\ttotal: 2.69s\tremaining: 25s\n",
            "97:\tlearn: 0.4743392\ttotal: 2.71s\tremaining: 25s\n",
            "98:\tlearn: 0.4742973\ttotal: 2.74s\tremaining: 24.9s\n",
            "99:\tlearn: 0.4742661\ttotal: 2.77s\tremaining: 24.9s\n",
            "100:\tlearn: 0.4742177\ttotal: 2.79s\tremaining: 24.9s\n",
            "101:\tlearn: 0.4741627\ttotal: 2.82s\tremaining: 24.8s\n",
            "102:\tlearn: 0.4741071\ttotal: 2.84s\tremaining: 24.8s\n",
            "103:\tlearn: 0.4740527\ttotal: 2.87s\tremaining: 24.7s\n",
            "104:\tlearn: 0.4739473\ttotal: 2.9s\tremaining: 24.7s\n",
            "105:\tlearn: 0.4738983\ttotal: 2.93s\tremaining: 24.7s\n",
            "106:\tlearn: 0.4738222\ttotal: 2.95s\tremaining: 24.7s\n",
            "107:\tlearn: 0.4737489\ttotal: 2.98s\tremaining: 24.6s\n",
            "108:\tlearn: 0.4736711\ttotal: 3.01s\tremaining: 24.6s\n",
            "109:\tlearn: 0.4736110\ttotal: 3.04s\tremaining: 24.6s\n",
            "110:\tlearn: 0.4735566\ttotal: 3.06s\tremaining: 24.5s\n",
            "111:\tlearn: 0.4734907\ttotal: 3.09s\tremaining: 24.5s\n",
            "112:\tlearn: 0.4734373\ttotal: 3.11s\tremaining: 24.4s\n",
            "113:\tlearn: 0.4733952\ttotal: 3.14s\tremaining: 24.4s\n",
            "114:\tlearn: 0.4733590\ttotal: 3.18s\tremaining: 24.4s\n",
            "115:\tlearn: 0.4733091\ttotal: 3.21s\tremaining: 24.4s\n",
            "116:\tlearn: 0.4732453\ttotal: 3.23s\tremaining: 24.4s\n",
            "117:\tlearn: 0.4732178\ttotal: 3.26s\tremaining: 24.4s\n",
            "118:\tlearn: 0.4731862\ttotal: 3.28s\tremaining: 24.3s\n",
            "119:\tlearn: 0.4731387\ttotal: 3.31s\tremaining: 24.3s\n",
            "120:\tlearn: 0.4730982\ttotal: 3.33s\tremaining: 24.2s\n",
            "121:\tlearn: 0.4730474\ttotal: 3.36s\tremaining: 24.2s\n",
            "122:\tlearn: 0.4730105\ttotal: 3.38s\tremaining: 24.1s\n",
            "123:\tlearn: 0.4729471\ttotal: 3.42s\tremaining: 24.1s\n",
            "124:\tlearn: 0.4728940\ttotal: 3.44s\tremaining: 24.1s\n",
            "125:\tlearn: 0.4728499\ttotal: 3.47s\tremaining: 24.1s\n",
            "126:\tlearn: 0.4728160\ttotal: 3.49s\tremaining: 24s\n",
            "127:\tlearn: 0.4727485\ttotal: 3.53s\tremaining: 24.1s\n",
            "128:\tlearn: 0.4727272\ttotal: 3.56s\tremaining: 24s\n",
            "129:\tlearn: 0.4726833\ttotal: 3.58s\tremaining: 24s\n",
            "130:\tlearn: 0.4726393\ttotal: 3.61s\tremaining: 23.9s\n",
            "131:\tlearn: 0.4725953\ttotal: 3.64s\tremaining: 23.9s\n",
            "132:\tlearn: 0.4725532\ttotal: 3.66s\tremaining: 23.9s\n",
            "133:\tlearn: 0.4724781\ttotal: 3.69s\tremaining: 23.8s\n",
            "134:\tlearn: 0.4724166\ttotal: 3.71s\tremaining: 23.8s\n",
            "135:\tlearn: 0.4723828\ttotal: 3.74s\tremaining: 23.7s\n",
            "136:\tlearn: 0.4723442\ttotal: 3.76s\tremaining: 23.7s\n",
            "137:\tlearn: 0.4723187\ttotal: 3.79s\tremaining: 23.6s\n",
            "138:\tlearn: 0.4722653\ttotal: 3.81s\tremaining: 23.6s\n",
            "139:\tlearn: 0.4722298\ttotal: 3.85s\tremaining: 23.6s\n",
            "140:\tlearn: 0.4721396\ttotal: 3.88s\tremaining: 23.6s\n",
            "141:\tlearn: 0.4721173\ttotal: 3.9s\tremaining: 23.6s\n",
            "142:\tlearn: 0.4720850\ttotal: 3.93s\tremaining: 23.5s\n",
            "143:\tlearn: 0.4720540\ttotal: 3.95s\tremaining: 23.5s\n",
            "144:\tlearn: 0.4720186\ttotal: 3.98s\tremaining: 23.5s\n",
            "145:\tlearn: 0.4719877\ttotal: 4s\tremaining: 23.4s\n",
            "146:\tlearn: 0.4719396\ttotal: 4.03s\tremaining: 23.4s\n",
            "147:\tlearn: 0.4719085\ttotal: 4.06s\tremaining: 23.4s\n",
            "148:\tlearn: 0.4718817\ttotal: 4.08s\tremaining: 23.3s\n",
            "149:\tlearn: 0.4718514\ttotal: 4.11s\tremaining: 23.3s\n",
            "150:\tlearn: 0.4718278\ttotal: 4.14s\tremaining: 23.3s\n",
            "151:\tlearn: 0.4717835\ttotal: 4.16s\tremaining: 23.2s\n",
            "152:\tlearn: 0.4717571\ttotal: 4.19s\tremaining: 23.2s\n",
            "153:\tlearn: 0.4717015\ttotal: 4.21s\tremaining: 23.1s\n",
            "154:\tlearn: 0.4716350\ttotal: 4.24s\tremaining: 23.1s\n",
            "155:\tlearn: 0.4715973\ttotal: 4.27s\tremaining: 23.1s\n",
            "156:\tlearn: 0.4715459\ttotal: 4.3s\tremaining: 23.1s\n",
            "157:\tlearn: 0.4714871\ttotal: 4.32s\tremaining: 23s\n",
            "158:\tlearn: 0.4714283\ttotal: 4.35s\tremaining: 23s\n",
            "159:\tlearn: 0.4713873\ttotal: 4.37s\tremaining: 22.9s\n",
            "160:\tlearn: 0.4713333\ttotal: 4.4s\tremaining: 22.9s\n",
            "161:\tlearn: 0.4712525\ttotal: 4.42s\tremaining: 22.9s\n",
            "162:\tlearn: 0.4711930\ttotal: 4.45s\tremaining: 22.8s\n",
            "163:\tlearn: 0.4711294\ttotal: 4.48s\tremaining: 22.8s\n",
            "164:\tlearn: 0.4710836\ttotal: 4.5s\tremaining: 22.8s\n",
            "165:\tlearn: 0.4710417\ttotal: 4.54s\tremaining: 22.8s\n",
            "166:\tlearn: 0.4709886\ttotal: 4.57s\tremaining: 22.8s\n",
            "167:\tlearn: 0.4709528\ttotal: 4.59s\tremaining: 22.8s\n",
            "168:\tlearn: 0.4709098\ttotal: 4.62s\tremaining: 22.7s\n",
            "169:\tlearn: 0.4708703\ttotal: 4.64s\tremaining: 22.7s\n",
            "170:\tlearn: 0.4708447\ttotal: 4.67s\tremaining: 22.6s\n",
            "171:\tlearn: 0.4707942\ttotal: 4.7s\tremaining: 22.6s\n",
            "172:\tlearn: 0.4707330\ttotal: 4.72s\tremaining: 22.6s\n",
            "173:\tlearn: 0.4706810\ttotal: 4.75s\tremaining: 22.6s\n",
            "174:\tlearn: 0.4706408\ttotal: 4.78s\tremaining: 22.5s\n",
            "175:\tlearn: 0.4706132\ttotal: 4.8s\tremaining: 22.5s\n",
            "176:\tlearn: 0.4705668\ttotal: 4.83s\tremaining: 22.4s\n",
            "177:\tlearn: 0.4705506\ttotal: 4.86s\tremaining: 22.4s\n",
            "178:\tlearn: 0.4705166\ttotal: 4.88s\tremaining: 22.4s\n",
            "179:\tlearn: 0.4705048\ttotal: 4.91s\tremaining: 22.4s\n",
            "180:\tlearn: 0.4704607\ttotal: 4.94s\tremaining: 22.3s\n",
            "181:\tlearn: 0.4704106\ttotal: 4.96s\tremaining: 22.3s\n",
            "182:\tlearn: 0.4703636\ttotal: 4.99s\tremaining: 22.3s\n",
            "183:\tlearn: 0.4703133\ttotal: 5.01s\tremaining: 22.2s\n",
            "184:\tlearn: 0.4702473\ttotal: 5.04s\tremaining: 22.2s\n",
            "185:\tlearn: 0.4701848\ttotal: 5.07s\tremaining: 22.2s\n",
            "186:\tlearn: 0.4701193\ttotal: 5.09s\tremaining: 22.2s\n",
            "187:\tlearn: 0.4700610\ttotal: 5.13s\tremaining: 22.1s\n",
            "188:\tlearn: 0.4699937\ttotal: 5.15s\tremaining: 22.1s\n",
            "189:\tlearn: 0.4699563\ttotal: 5.18s\tremaining: 22.1s\n",
            "190:\tlearn: 0.4698796\ttotal: 5.2s\tremaining: 22s\n",
            "191:\tlearn: 0.4698225\ttotal: 5.23s\tremaining: 22s\n",
            "192:\tlearn: 0.4698009\ttotal: 5.25s\tremaining: 22s\n",
            "193:\tlearn: 0.4697550\ttotal: 5.28s\tremaining: 21.9s\n",
            "194:\tlearn: 0.4697242\ttotal: 5.31s\tremaining: 21.9s\n",
            "195:\tlearn: 0.4696528\ttotal: 5.34s\tremaining: 21.9s\n",
            "196:\tlearn: 0.4696276\ttotal: 5.37s\tremaining: 21.9s\n",
            "197:\tlearn: 0.4695801\ttotal: 5.39s\tremaining: 21.8s\n",
            "198:\tlearn: 0.4695266\ttotal: 5.42s\tremaining: 21.8s\n",
            "199:\tlearn: 0.4694762\ttotal: 5.44s\tremaining: 21.8s\n",
            "200:\tlearn: 0.4694193\ttotal: 5.47s\tremaining: 21.7s\n",
            "201:\tlearn: 0.4693651\ttotal: 5.49s\tremaining: 21.7s\n",
            "202:\tlearn: 0.4693143\ttotal: 5.52s\tremaining: 21.7s\n",
            "203:\tlearn: 0.4692700\ttotal: 5.55s\tremaining: 21.7s\n",
            "204:\tlearn: 0.4692347\ttotal: 5.58s\tremaining: 21.6s\n",
            "205:\tlearn: 0.4692301\ttotal: 5.6s\tremaining: 21.6s\n",
            "206:\tlearn: 0.4691495\ttotal: 5.63s\tremaining: 21.6s\n",
            "207:\tlearn: 0.4691136\ttotal: 5.65s\tremaining: 21.5s\n",
            "208:\tlearn: 0.4690604\ttotal: 5.68s\tremaining: 21.5s\n",
            "209:\tlearn: 0.4690338\ttotal: 5.71s\tremaining: 21.5s\n",
            "210:\tlearn: 0.4689889\ttotal: 5.73s\tremaining: 21.4s\n",
            "211:\tlearn: 0.4689718\ttotal: 5.76s\tremaining: 21.4s\n",
            "212:\tlearn: 0.4688888\ttotal: 5.79s\tremaining: 21.4s\n",
            "213:\tlearn: 0.4688150\ttotal: 5.81s\tremaining: 21.4s\n",
            "214:\tlearn: 0.4687867\ttotal: 5.84s\tremaining: 21.3s\n",
            "215:\tlearn: 0.4687282\ttotal: 5.86s\tremaining: 21.3s\n",
            "216:\tlearn: 0.4686617\ttotal: 5.9s\tremaining: 21.3s\n",
            "217:\tlearn: 0.4686485\ttotal: 5.92s\tremaining: 21.3s\n",
            "218:\tlearn: 0.4685880\ttotal: 5.95s\tremaining: 21.2s\n",
            "219:\tlearn: 0.4685663\ttotal: 5.98s\tremaining: 21.2s\n",
            "220:\tlearn: 0.4685095\ttotal: 6s\tremaining: 21.2s\n",
            "221:\tlearn: 0.4684659\ttotal: 6.03s\tremaining: 21.1s\n",
            "222:\tlearn: 0.4684550\ttotal: 6.05s\tremaining: 21.1s\n",
            "223:\tlearn: 0.4684348\ttotal: 6.08s\tremaining: 21.1s\n",
            "224:\tlearn: 0.4683697\ttotal: 6.1s\tremaining: 21s\n",
            "225:\tlearn: 0.4683165\ttotal: 6.13s\tremaining: 21s\n",
            "226:\tlearn: 0.4682390\ttotal: 6.15s\tremaining: 21s\n",
            "227:\tlearn: 0.4682219\ttotal: 6.18s\tremaining: 20.9s\n",
            "228:\tlearn: 0.4681266\ttotal: 6.21s\tremaining: 20.9s\n",
            "229:\tlearn: 0.4680754\ttotal: 6.23s\tremaining: 20.9s\n",
            "230:\tlearn: 0.4679859\ttotal: 6.26s\tremaining: 20.8s\n",
            "231:\tlearn: 0.4679415\ttotal: 6.29s\tremaining: 20.8s\n",
            "232:\tlearn: 0.4678840\ttotal: 6.32s\tremaining: 20.8s\n",
            "233:\tlearn: 0.4678173\ttotal: 6.34s\tremaining: 20.8s\n",
            "234:\tlearn: 0.4677549\ttotal: 6.37s\tremaining: 20.7s\n",
            "235:\tlearn: 0.4676705\ttotal: 6.4s\tremaining: 20.7s\n",
            "236:\tlearn: 0.4676053\ttotal: 6.43s\tremaining: 20.7s\n",
            "237:\tlearn: 0.4675579\ttotal: 6.45s\tremaining: 20.7s\n",
            "238:\tlearn: 0.4675058\ttotal: 6.48s\tremaining: 20.6s\n",
            "239:\tlearn: 0.4674426\ttotal: 6.5s\tremaining: 20.6s\n",
            "240:\tlearn: 0.4674369\ttotal: 6.54s\tremaining: 20.6s\n",
            "241:\tlearn: 0.4674320\ttotal: 6.57s\tremaining: 20.6s\n",
            "242:\tlearn: 0.4673671\ttotal: 6.59s\tremaining: 20.5s\n",
            "243:\tlearn: 0.4673626\ttotal: 6.62s\tremaining: 20.5s\n",
            "244:\tlearn: 0.4673587\ttotal: 6.64s\tremaining: 20.5s\n",
            "245:\tlearn: 0.4672854\ttotal: 6.67s\tremaining: 20.4s\n",
            "246:\tlearn: 0.4672333\ttotal: 6.69s\tremaining: 20.4s\n",
            "247:\tlearn: 0.4671804\ttotal: 6.72s\tremaining: 20.4s\n",
            "248:\tlearn: 0.4671236\ttotal: 6.75s\tremaining: 20.3s\n",
            "249:\tlearn: 0.4670703\ttotal: 6.77s\tremaining: 20.3s\n",
            "250:\tlearn: 0.4670005\ttotal: 6.8s\tremaining: 20.3s\n",
            "251:\tlearn: 0.4669288\ttotal: 6.83s\tremaining: 20.3s\n",
            "252:\tlearn: 0.4668728\ttotal: 6.85s\tremaining: 20.2s\n",
            "253:\tlearn: 0.4668143\ttotal: 6.88s\tremaining: 20.2s\n",
            "254:\tlearn: 0.4667607\ttotal: 6.91s\tremaining: 20.2s\n",
            "255:\tlearn: 0.4667071\ttotal: 6.93s\tremaining: 20.1s\n",
            "256:\tlearn: 0.4666185\ttotal: 6.96s\tremaining: 20.1s\n",
            "257:\tlearn: 0.4665430\ttotal: 6.99s\tremaining: 20.1s\n",
            "258:\tlearn: 0.4665021\ttotal: 7.01s\tremaining: 20.1s\n",
            "259:\tlearn: 0.4664479\ttotal: 7.04s\tremaining: 20s\n",
            "260:\tlearn: 0.4663767\ttotal: 7.07s\tremaining: 20s\n",
            "261:\tlearn: 0.4663105\ttotal: 7.09s\tremaining: 20s\n",
            "262:\tlearn: 0.4662333\ttotal: 7.12s\tremaining: 20s\n",
            "263:\tlearn: 0.4661728\ttotal: 7.15s\tremaining: 19.9s\n",
            "264:\tlearn: 0.4661285\ttotal: 7.17s\tremaining: 19.9s\n",
            "265:\tlearn: 0.4660895\ttotal: 7.2s\tremaining: 19.9s\n",
            "266:\tlearn: 0.4660316\ttotal: 7.22s\tremaining: 19.8s\n",
            "267:\tlearn: 0.4659769\ttotal: 7.26s\tremaining: 19.8s\n",
            "268:\tlearn: 0.4659138\ttotal: 7.28s\tremaining: 19.8s\n",
            "269:\tlearn: 0.4658825\ttotal: 7.31s\tremaining: 19.8s\n",
            "270:\tlearn: 0.4658204\ttotal: 7.33s\tremaining: 19.7s\n",
            "271:\tlearn: 0.4657591\ttotal: 7.36s\tremaining: 19.7s\n",
            "272:\tlearn: 0.4657055\ttotal: 7.38s\tremaining: 19.7s\n",
            "273:\tlearn: 0.4656699\ttotal: 7.41s\tremaining: 19.6s\n",
            "274:\tlearn: 0.4656043\ttotal: 7.44s\tremaining: 19.6s\n",
            "275:\tlearn: 0.4655224\ttotal: 7.47s\tremaining: 19.6s\n",
            "276:\tlearn: 0.4654718\ttotal: 7.49s\tremaining: 19.6s\n",
            "277:\tlearn: 0.4654184\ttotal: 7.52s\tremaining: 19.5s\n",
            "278:\tlearn: 0.4653746\ttotal: 7.55s\tremaining: 19.5s\n",
            "279:\tlearn: 0.4653712\ttotal: 7.57s\tremaining: 19.5s\n",
            "280:\tlearn: 0.4653138\ttotal: 7.6s\tremaining: 19.4s\n",
            "281:\tlearn: 0.4653107\ttotal: 7.63s\tremaining: 19.4s\n",
            "282:\tlearn: 0.4652563\ttotal: 7.65s\tremaining: 19.4s\n",
            "283:\tlearn: 0.4652056\ttotal: 7.68s\tremaining: 19.4s\n",
            "284:\tlearn: 0.4651497\ttotal: 7.71s\tremaining: 19.4s\n",
            "285:\tlearn: 0.4650971\ttotal: 7.74s\tremaining: 19.3s\n",
            "286:\tlearn: 0.4650532\ttotal: 7.77s\tremaining: 19.3s\n",
            "287:\tlearn: 0.4650042\ttotal: 7.79s\tremaining: 19.3s\n",
            "288:\tlearn: 0.4649565\ttotal: 7.82s\tremaining: 19.2s\n",
            "289:\tlearn: 0.4649087\ttotal: 7.85s\tremaining: 19.2s\n",
            "290:\tlearn: 0.4648529\ttotal: 7.87s\tremaining: 19.2s\n",
            "291:\tlearn: 0.4648031\ttotal: 7.9s\tremaining: 19.2s\n",
            "292:\tlearn: 0.4647657\ttotal: 7.92s\tremaining: 19.1s\n",
            "293:\tlearn: 0.4647219\ttotal: 7.95s\tremaining: 19.1s\n",
            "294:\tlearn: 0.4646933\ttotal: 7.98s\tremaining: 19.1s\n",
            "295:\tlearn: 0.4646415\ttotal: 8.01s\tremaining: 19s\n",
            "296:\tlearn: 0.4646076\ttotal: 8.03s\tremaining: 19s\n",
            "297:\tlearn: 0.4645603\ttotal: 8.06s\tremaining: 19s\n",
            "298:\tlearn: 0.4645106\ttotal: 8.09s\tremaining: 19s\n",
            "299:\tlearn: 0.4644659\ttotal: 8.12s\tremaining: 18.9s\n",
            "300:\tlearn: 0.4644093\ttotal: 8.14s\tremaining: 18.9s\n",
            "301:\tlearn: 0.4643638\ttotal: 8.17s\tremaining: 18.9s\n",
            "302:\tlearn: 0.4643150\ttotal: 8.2s\tremaining: 18.9s\n",
            "303:\tlearn: 0.4642861\ttotal: 8.22s\tremaining: 18.8s\n",
            "304:\tlearn: 0.4642247\ttotal: 8.24s\tremaining: 18.8s\n",
            "305:\tlearn: 0.4641588\ttotal: 8.27s\tremaining: 18.8s\n",
            "306:\tlearn: 0.4641057\ttotal: 8.29s\tremaining: 18.7s\n",
            "307:\tlearn: 0.4641021\ttotal: 8.32s\tremaining: 18.7s\n",
            "308:\tlearn: 0.4640504\ttotal: 8.35s\tremaining: 18.7s\n",
            "309:\tlearn: 0.4639762\ttotal: 8.38s\tremaining: 18.7s\n",
            "310:\tlearn: 0.4639369\ttotal: 8.41s\tremaining: 18.6s\n",
            "311:\tlearn: 0.4638692\ttotal: 8.43s\tremaining: 18.6s\n",
            "312:\tlearn: 0.4638130\ttotal: 8.46s\tremaining: 18.6s\n",
            "313:\tlearn: 0.4637664\ttotal: 8.48s\tremaining: 18.5s\n",
            "314:\tlearn: 0.4637086\ttotal: 8.51s\tremaining: 18.5s\n",
            "315:\tlearn: 0.4637053\ttotal: 8.55s\tremaining: 18.5s\n",
            "316:\tlearn: 0.4636700\ttotal: 8.58s\tremaining: 18.5s\n",
            "317:\tlearn: 0.4636224\ttotal: 8.6s\tremaining: 18.4s\n",
            "318:\tlearn: 0.4635590\ttotal: 8.63s\tremaining: 18.4s\n",
            "319:\tlearn: 0.4634778\ttotal: 8.65s\tremaining: 18.4s\n",
            "320:\tlearn: 0.4634751\ttotal: 8.68s\tremaining: 18.4s\n",
            "321:\tlearn: 0.4634396\ttotal: 8.71s\tremaining: 18.3s\n",
            "322:\tlearn: 0.4633882\ttotal: 8.73s\tremaining: 18.3s\n",
            "323:\tlearn: 0.4633114\ttotal: 8.76s\tremaining: 18.3s\n",
            "324:\tlearn: 0.4632725\ttotal: 8.79s\tremaining: 18.3s\n",
            "325:\tlearn: 0.4632309\ttotal: 8.81s\tremaining: 18.2s\n",
            "326:\tlearn: 0.4631914\ttotal: 8.84s\tremaining: 18.2s\n",
            "327:\tlearn: 0.4631458\ttotal: 8.87s\tremaining: 18.2s\n",
            "328:\tlearn: 0.4631431\ttotal: 8.9s\tremaining: 18.1s\n",
            "329:\tlearn: 0.4630877\ttotal: 8.92s\tremaining: 18.1s\n",
            "330:\tlearn: 0.4630337\ttotal: 8.95s\tremaining: 18.1s\n",
            "331:\tlearn: 0.4630314\ttotal: 8.98s\tremaining: 18.1s\n",
            "332:\tlearn: 0.4629989\ttotal: 9s\tremaining: 18s\n",
            "333:\tlearn: 0.4629232\ttotal: 9.03s\tremaining: 18s\n",
            "334:\tlearn: 0.4628737\ttotal: 9.05s\tremaining: 18s\n",
            "335:\tlearn: 0.4628105\ttotal: 9.09s\tremaining: 18s\n",
            "336:\tlearn: 0.4627404\ttotal: 9.11s\tremaining: 17.9s\n",
            "337:\tlearn: 0.4626808\ttotal: 9.14s\tremaining: 17.9s\n",
            "338:\tlearn: 0.4626293\ttotal: 9.16s\tremaining: 17.9s\n",
            "339:\tlearn: 0.4625657\ttotal: 9.19s\tremaining: 17.8s\n",
            "340:\tlearn: 0.4625160\ttotal: 9.22s\tremaining: 17.8s\n",
            "341:\tlearn: 0.4624646\ttotal: 9.24s\tremaining: 17.8s\n",
            "342:\tlearn: 0.4624184\ttotal: 9.27s\tremaining: 17.8s\n",
            "343:\tlearn: 0.4623658\ttotal: 9.3s\tremaining: 17.7s\n",
            "344:\tlearn: 0.4623334\ttotal: 9.32s\tremaining: 17.7s\n",
            "345:\tlearn: 0.4622957\ttotal: 9.35s\tremaining: 17.7s\n",
            "346:\tlearn: 0.4622502\ttotal: 9.38s\tremaining: 17.6s\n",
            "347:\tlearn: 0.4622200\ttotal: 9.4s\tremaining: 17.6s\n",
            "348:\tlearn: 0.4621929\ttotal: 9.43s\tremaining: 17.6s\n",
            "349:\tlearn: 0.4621347\ttotal: 9.46s\tremaining: 17.6s\n",
            "350:\tlearn: 0.4620527\ttotal: 9.48s\tremaining: 17.5s\n",
            "351:\tlearn: 0.4619944\ttotal: 9.51s\tremaining: 17.5s\n",
            "352:\tlearn: 0.4619149\ttotal: 9.54s\tremaining: 17.5s\n",
            "353:\tlearn: 0.4618837\ttotal: 9.57s\tremaining: 17.5s\n",
            "354:\tlearn: 0.4618269\ttotal: 9.6s\tremaining: 17.4s\n",
            "355:\tlearn: 0.4618012\ttotal: 9.63s\tremaining: 17.4s\n",
            "356:\tlearn: 0.4617551\ttotal: 9.65s\tremaining: 17.4s\n",
            "357:\tlearn: 0.4617120\ttotal: 9.68s\tremaining: 17.4s\n",
            "358:\tlearn: 0.4616606\ttotal: 9.7s\tremaining: 17.3s\n",
            "359:\tlearn: 0.4616221\ttotal: 9.73s\tremaining: 17.3s\n",
            "360:\tlearn: 0.4615675\ttotal: 9.75s\tremaining: 17.3s\n",
            "361:\tlearn: 0.4615339\ttotal: 9.78s\tremaining: 17.2s\n",
            "362:\tlearn: 0.4614933\ttotal: 9.81s\tremaining: 17.2s\n",
            "363:\tlearn: 0.4614341\ttotal: 9.84s\tremaining: 17.2s\n",
            "364:\tlearn: 0.4613961\ttotal: 9.87s\tremaining: 17.2s\n",
            "365:\tlearn: 0.4613513\ttotal: 9.89s\tremaining: 17.1s\n",
            "366:\tlearn: 0.4613071\ttotal: 9.92s\tremaining: 17.1s\n",
            "367:\tlearn: 0.4612750\ttotal: 9.94s\tremaining: 17.1s\n",
            "368:\tlearn: 0.4612208\ttotal: 9.97s\tremaining: 17s\n",
            "369:\tlearn: 0.4611708\ttotal: 9.99s\tremaining: 17s\n",
            "370:\tlearn: 0.4611239\ttotal: 10s\tremaining: 17s\n",
            "371:\tlearn: 0.4610663\ttotal: 10s\tremaining: 17s\n",
            "372:\tlearn: 0.4610093\ttotal: 10.1s\tremaining: 16.9s\n",
            "373:\tlearn: 0.4609749\ttotal: 10.1s\tremaining: 16.9s\n",
            "374:\tlearn: 0.4609134\ttotal: 10.1s\tremaining: 16.9s\n",
            "375:\tlearn: 0.4609117\ttotal: 10.2s\tremaining: 16.8s\n",
            "376:\tlearn: 0.4608591\ttotal: 10.2s\tremaining: 16.8s\n",
            "377:\tlearn: 0.4608104\ttotal: 10.2s\tremaining: 16.8s\n",
            "378:\tlearn: 0.4607534\ttotal: 10.2s\tremaining: 16.8s\n",
            "379:\tlearn: 0.4606768\ttotal: 10.3s\tremaining: 16.7s\n",
            "380:\tlearn: 0.4606294\ttotal: 10.3s\tremaining: 16.7s\n",
            "381:\tlearn: 0.4606056\ttotal: 10.3s\tremaining: 16.7s\n",
            "382:\tlearn: 0.4605578\ttotal: 10.3s\tremaining: 16.6s\n",
            "383:\tlearn: 0.4605174\ttotal: 10.4s\tremaining: 16.6s\n",
            "384:\tlearn: 0.4604800\ttotal: 10.4s\tremaining: 16.6s\n",
            "385:\tlearn: 0.4604253\ttotal: 10.4s\tremaining: 16.6s\n",
            "386:\tlearn: 0.4603825\ttotal: 10.4s\tremaining: 16.5s\n",
            "387:\tlearn: 0.4603385\ttotal: 10.5s\tremaining: 16.5s\n",
            "388:\tlearn: 0.4603064\ttotal: 10.5s\tremaining: 16.5s\n",
            "389:\tlearn: 0.4602420\ttotal: 10.5s\tremaining: 16.4s\n",
            "390:\tlearn: 0.4602080\ttotal: 10.5s\tremaining: 16.4s\n",
            "391:\tlearn: 0.4601680\ttotal: 10.6s\tremaining: 16.4s\n",
            "392:\tlearn: 0.4601307\ttotal: 10.6s\tremaining: 16.4s\n",
            "393:\tlearn: 0.4600778\ttotal: 10.6s\tremaining: 16.3s\n",
            "394:\tlearn: 0.4600211\ttotal: 10.6s\tremaining: 16.3s\n",
            "395:\tlearn: 0.4599946\ttotal: 10.7s\tremaining: 16.3s\n",
            "396:\tlearn: 0.4599474\ttotal: 10.7s\tremaining: 16.3s\n",
            "397:\tlearn: 0.4598968\ttotal: 10.7s\tremaining: 16.2s\n",
            "398:\tlearn: 0.4598514\ttotal: 10.8s\tremaining: 16.2s\n",
            "399:\tlearn: 0.4598068\ttotal: 10.8s\tremaining: 16.2s\n",
            "400:\tlearn: 0.4597702\ttotal: 10.8s\tremaining: 16.2s\n",
            "401:\tlearn: 0.4597233\ttotal: 10.8s\tremaining: 16.1s\n",
            "402:\tlearn: 0.4596905\ttotal: 10.9s\tremaining: 16.1s\n",
            "403:\tlearn: 0.4596452\ttotal: 10.9s\tremaining: 16.1s\n",
            "404:\tlearn: 0.4595861\ttotal: 10.9s\tremaining: 16s\n",
            "405:\tlearn: 0.4595331\ttotal: 10.9s\tremaining: 16s\n",
            "406:\tlearn: 0.4594777\ttotal: 11s\tremaining: 16s\n",
            "407:\tlearn: 0.4594754\ttotal: 11s\tremaining: 16s\n",
            "408:\tlearn: 0.4594219\ttotal: 11s\tremaining: 15.9s\n",
            "409:\tlearn: 0.4593760\ttotal: 11.1s\tremaining: 15.9s\n",
            "410:\tlearn: 0.4593349\ttotal: 11.1s\tremaining: 15.9s\n",
            "411:\tlearn: 0.4593329\ttotal: 11.1s\tremaining: 15.9s\n",
            "412:\tlearn: 0.4592713\ttotal: 11.1s\tremaining: 15.8s\n",
            "413:\tlearn: 0.4591914\ttotal: 11.2s\tremaining: 15.8s\n",
            "414:\tlearn: 0.4591423\ttotal: 11.2s\tremaining: 15.8s\n",
            "415:\tlearn: 0.4591102\ttotal: 11.2s\tremaining: 15.7s\n",
            "416:\tlearn: 0.4590666\ttotal: 11.2s\tremaining: 15.7s\n",
            "417:\tlearn: 0.4590180\ttotal: 11.3s\tremaining: 15.7s\n",
            "418:\tlearn: 0.4589641\ttotal: 11.3s\tremaining: 15.7s\n",
            "419:\tlearn: 0.4589369\ttotal: 11.3s\tremaining: 15.6s\n",
            "420:\tlearn: 0.4589023\ttotal: 11.3s\tremaining: 15.6s\n",
            "421:\tlearn: 0.4588618\ttotal: 11.4s\tremaining: 15.6s\n",
            "422:\tlearn: 0.4588091\ttotal: 11.4s\tremaining: 15.5s\n",
            "423:\tlearn: 0.4587743\ttotal: 11.4s\tremaining: 15.5s\n",
            "424:\tlearn: 0.4587292\ttotal: 11.4s\tremaining: 15.5s\n",
            "425:\tlearn: 0.4586910\ttotal: 11.5s\tremaining: 15.5s\n",
            "426:\tlearn: 0.4586367\ttotal: 11.5s\tremaining: 15.4s\n",
            "427:\tlearn: 0.4586040\ttotal: 11.5s\tremaining: 15.4s\n",
            "428:\tlearn: 0.4585678\ttotal: 11.6s\tremaining: 15.4s\n",
            "429:\tlearn: 0.4585294\ttotal: 11.6s\tremaining: 15.4s\n",
            "430:\tlearn: 0.4585002\ttotal: 11.6s\tremaining: 15.3s\n",
            "431:\tlearn: 0.4584596\ttotal: 11.6s\tremaining: 15.3s\n",
            "432:\tlearn: 0.4584059\ttotal: 11.7s\tremaining: 15.3s\n",
            "433:\tlearn: 0.4583609\ttotal: 11.7s\tremaining: 15.2s\n",
            "434:\tlearn: 0.4583044\ttotal: 11.7s\tremaining: 15.2s\n",
            "435:\tlearn: 0.4582490\ttotal: 11.7s\tremaining: 15.2s\n",
            "436:\tlearn: 0.4581959\ttotal: 11.8s\tremaining: 15.2s\n",
            "437:\tlearn: 0.4581578\ttotal: 11.8s\tremaining: 15.1s\n",
            "438:\tlearn: 0.4581088\ttotal: 11.8s\tremaining: 15.1s\n",
            "439:\tlearn: 0.4580747\ttotal: 11.9s\tremaining: 15.1s\n",
            "440:\tlearn: 0.4580211\ttotal: 11.9s\tremaining: 15.1s\n",
            "441:\tlearn: 0.4579720\ttotal: 11.9s\tremaining: 15s\n",
            "442:\tlearn: 0.4579401\ttotal: 11.9s\tremaining: 15s\n",
            "443:\tlearn: 0.4578869\ttotal: 12s\tremaining: 15s\n",
            "444:\tlearn: 0.4578560\ttotal: 12s\tremaining: 15s\n",
            "445:\tlearn: 0.4578116\ttotal: 12s\tremaining: 14.9s\n",
            "446:\tlearn: 0.4577751\ttotal: 12s\tremaining: 14.9s\n",
            "447:\tlearn: 0.4577051\ttotal: 12.1s\tremaining: 14.9s\n",
            "448:\tlearn: 0.4576511\ttotal: 12.1s\tremaining: 14.8s\n",
            "449:\tlearn: 0.4576013\ttotal: 12.1s\tremaining: 14.8s\n",
            "450:\tlearn: 0.4575566\ttotal: 12.1s\tremaining: 14.8s\n",
            "451:\tlearn: 0.4575086\ttotal: 12.2s\tremaining: 14.8s\n",
            "452:\tlearn: 0.4574364\ttotal: 12.2s\tremaining: 14.7s\n",
            "453:\tlearn: 0.4573907\ttotal: 12.2s\tremaining: 14.7s\n",
            "454:\tlearn: 0.4573680\ttotal: 12.2s\tremaining: 14.7s\n",
            "455:\tlearn: 0.4573256\ttotal: 12.3s\tremaining: 14.6s\n",
            "456:\tlearn: 0.4572641\ttotal: 12.3s\tremaining: 14.6s\n",
            "457:\tlearn: 0.4571953\ttotal: 12.3s\tremaining: 14.6s\n",
            "458:\tlearn: 0.4571734\ttotal: 12.3s\tremaining: 14.6s\n",
            "459:\tlearn: 0.4571113\ttotal: 12.4s\tremaining: 14.5s\n",
            "460:\tlearn: 0.4570841\ttotal: 12.4s\tremaining: 14.5s\n",
            "461:\tlearn: 0.4570437\ttotal: 12.4s\tremaining: 14.5s\n",
            "462:\tlearn: 0.4569974\ttotal: 12.5s\tremaining: 14.4s\n",
            "463:\tlearn: 0.4569529\ttotal: 12.5s\tremaining: 14.4s\n",
            "464:\tlearn: 0.4569241\ttotal: 12.5s\tremaining: 14.4s\n",
            "465:\tlearn: 0.4569222\ttotal: 12.5s\tremaining: 14.4s\n",
            "466:\tlearn: 0.4569085\ttotal: 12.6s\tremaining: 14.3s\n",
            "467:\tlearn: 0.4568828\ttotal: 12.6s\tremaining: 14.3s\n",
            "468:\tlearn: 0.4568811\ttotal: 12.6s\tremaining: 14.3s\n",
            "469:\tlearn: 0.4568431\ttotal: 12.6s\tremaining: 14.3s\n",
            "470:\tlearn: 0.4567954\ttotal: 12.7s\tremaining: 14.2s\n",
            "471:\tlearn: 0.4567560\ttotal: 12.7s\tremaining: 14.2s\n",
            "472:\tlearn: 0.4567364\ttotal: 12.7s\tremaining: 14.2s\n",
            "473:\tlearn: 0.4566835\ttotal: 12.7s\tremaining: 14.1s\n",
            "474:\tlearn: 0.4566448\ttotal: 12.8s\tremaining: 14.1s\n",
            "475:\tlearn: 0.4566271\ttotal: 12.8s\tremaining: 14.1s\n",
            "476:\tlearn: 0.4565919\ttotal: 12.8s\tremaining: 14.1s\n",
            "477:\tlearn: 0.4565489\ttotal: 12.9s\tremaining: 14s\n",
            "478:\tlearn: 0.4565124\ttotal: 12.9s\tremaining: 14s\n",
            "479:\tlearn: 0.4564811\ttotal: 12.9s\tremaining: 14s\n",
            "480:\tlearn: 0.4564441\ttotal: 12.9s\tremaining: 13.9s\n",
            "481:\tlearn: 0.4564021\ttotal: 12.9s\tremaining: 13.9s\n",
            "482:\tlearn: 0.4563554\ttotal: 13s\tremaining: 13.9s\n",
            "483:\tlearn: 0.4563201\ttotal: 13s\tremaining: 13.9s\n",
            "484:\tlearn: 0.4562735\ttotal: 13s\tremaining: 13.8s\n",
            "485:\tlearn: 0.4562124\ttotal: 13.1s\tremaining: 13.8s\n",
            "486:\tlearn: 0.4561589\ttotal: 13.1s\tremaining: 13.8s\n",
            "487:\tlearn: 0.4561269\ttotal: 13.1s\tremaining: 13.8s\n",
            "488:\tlearn: 0.4560787\ttotal: 13.1s\tremaining: 13.7s\n",
            "489:\tlearn: 0.4560474\ttotal: 13.2s\tremaining: 13.7s\n",
            "490:\tlearn: 0.4560151\ttotal: 13.2s\tremaining: 13.7s\n",
            "491:\tlearn: 0.4559673\ttotal: 13.2s\tremaining: 13.6s\n",
            "492:\tlearn: 0.4559092\ttotal: 13.2s\tremaining: 13.6s\n",
            "493:\tlearn: 0.4558513\ttotal: 13.3s\tremaining: 13.6s\n",
            "494:\tlearn: 0.4557997\ttotal: 13.3s\tremaining: 13.6s\n",
            "495:\tlearn: 0.4557446\ttotal: 13.3s\tremaining: 13.5s\n",
            "496:\tlearn: 0.4557060\ttotal: 13.3s\tremaining: 13.5s\n",
            "497:\tlearn: 0.4556474\ttotal: 13.4s\tremaining: 13.5s\n",
            "498:\tlearn: 0.4556094\ttotal: 13.4s\tremaining: 13.4s\n",
            "499:\tlearn: 0.4555586\ttotal: 13.4s\tremaining: 13.4s\n",
            "500:\tlearn: 0.4555310\ttotal: 13.4s\tremaining: 13.4s\n",
            "501:\tlearn: 0.4554904\ttotal: 13.5s\tremaining: 13.4s\n",
            "502:\tlearn: 0.4554404\ttotal: 13.5s\tremaining: 13.3s\n",
            "503:\tlearn: 0.4553939\ttotal: 13.5s\tremaining: 13.3s\n",
            "504:\tlearn: 0.4553543\ttotal: 13.6s\tremaining: 13.3s\n",
            "505:\tlearn: 0.4553195\ttotal: 13.6s\tremaining: 13.3s\n",
            "506:\tlearn: 0.4552752\ttotal: 13.6s\tremaining: 13.2s\n",
            "507:\tlearn: 0.4552734\ttotal: 13.6s\tremaining: 13.2s\n",
            "508:\tlearn: 0.4552267\ttotal: 13.7s\tremaining: 13.2s\n",
            "509:\tlearn: 0.4551783\ttotal: 13.7s\tremaining: 13.2s\n",
            "510:\tlearn: 0.4551473\ttotal: 13.7s\tremaining: 13.1s\n",
            "511:\tlearn: 0.4551184\ttotal: 13.7s\tremaining: 13.1s\n",
            "512:\tlearn: 0.4550652\ttotal: 13.8s\tremaining: 13.1s\n",
            "513:\tlearn: 0.4550095\ttotal: 13.8s\tremaining: 13s\n",
            "514:\tlearn: 0.4549720\ttotal: 13.8s\tremaining: 13s\n",
            "515:\tlearn: 0.4549313\ttotal: 13.8s\tremaining: 13s\n",
            "516:\tlearn: 0.4548989\ttotal: 13.9s\tremaining: 13s\n",
            "517:\tlearn: 0.4548380\ttotal: 13.9s\tremaining: 12.9s\n",
            "518:\tlearn: 0.4547920\ttotal: 13.9s\tremaining: 12.9s\n",
            "519:\tlearn: 0.4547563\ttotal: 14s\tremaining: 12.9s\n",
            "520:\tlearn: 0.4547252\ttotal: 14s\tremaining: 12.8s\n",
            "521:\tlearn: 0.4546930\ttotal: 14s\tremaining: 12.8s\n",
            "522:\tlearn: 0.4546652\ttotal: 14s\tremaining: 12.8s\n",
            "523:\tlearn: 0.4546410\ttotal: 14.1s\tremaining: 12.8s\n",
            "524:\tlearn: 0.4546024\ttotal: 14.1s\tremaining: 12.7s\n",
            "525:\tlearn: 0.4545452\ttotal: 14.1s\tremaining: 12.7s\n",
            "526:\tlearn: 0.4545133\ttotal: 14.1s\tremaining: 12.7s\n",
            "527:\tlearn: 0.4544504\ttotal: 14.2s\tremaining: 12.7s\n",
            "528:\tlearn: 0.4544212\ttotal: 14.2s\tremaining: 12.6s\n",
            "529:\tlearn: 0.4543792\ttotal: 14.2s\tremaining: 12.6s\n",
            "530:\tlearn: 0.4543199\ttotal: 14.2s\tremaining: 12.6s\n",
            "531:\tlearn: 0.4542764\ttotal: 14.3s\tremaining: 12.6s\n",
            "532:\tlearn: 0.4542274\ttotal: 14.3s\tremaining: 12.5s\n",
            "533:\tlearn: 0.4541813\ttotal: 14.3s\tremaining: 12.5s\n",
            "534:\tlearn: 0.4541036\ttotal: 14.3s\tremaining: 12.5s\n",
            "535:\tlearn: 0.4540520\ttotal: 14.4s\tremaining: 12.4s\n",
            "536:\tlearn: 0.4540171\ttotal: 14.4s\tremaining: 12.4s\n",
            "537:\tlearn: 0.4539516\ttotal: 14.4s\tremaining: 12.4s\n",
            "538:\tlearn: 0.4539032\ttotal: 14.4s\tremaining: 12.4s\n",
            "539:\tlearn: 0.4538786\ttotal: 14.5s\tremaining: 12.3s\n",
            "540:\tlearn: 0.4538337\ttotal: 14.5s\tremaining: 12.3s\n",
            "541:\tlearn: 0.4537948\ttotal: 14.5s\tremaining: 12.3s\n",
            "542:\tlearn: 0.4537819\ttotal: 14.6s\tremaining: 12.3s\n",
            "543:\tlearn: 0.4537548\ttotal: 14.6s\tremaining: 12.2s\n",
            "544:\tlearn: 0.4537192\ttotal: 14.6s\tremaining: 12.2s\n",
            "545:\tlearn: 0.4536886\ttotal: 14.6s\tremaining: 12.2s\n",
            "546:\tlearn: 0.4536872\ttotal: 14.7s\tremaining: 12.1s\n",
            "547:\tlearn: 0.4536385\ttotal: 14.7s\tremaining: 12.1s\n",
            "548:\tlearn: 0.4535937\ttotal: 14.7s\tremaining: 12.1s\n",
            "549:\tlearn: 0.4535527\ttotal: 14.7s\tremaining: 12.1s\n",
            "550:\tlearn: 0.4535094\ttotal: 14.8s\tremaining: 12s\n",
            "551:\tlearn: 0.4534830\ttotal: 14.8s\tremaining: 12s\n",
            "552:\tlearn: 0.4534111\ttotal: 14.8s\tremaining: 12s\n",
            "553:\tlearn: 0.4533882\ttotal: 14.9s\tremaining: 12s\n",
            "554:\tlearn: 0.4533500\ttotal: 14.9s\tremaining: 11.9s\n",
            "555:\tlearn: 0.4533221\ttotal: 14.9s\tremaining: 11.9s\n",
            "556:\tlearn: 0.4533007\ttotal: 14.9s\tremaining: 11.9s\n",
            "557:\tlearn: 0.4532433\ttotal: 15s\tremaining: 11.8s\n",
            "558:\tlearn: 0.4531884\ttotal: 15s\tremaining: 11.8s\n",
            "559:\tlearn: 0.4531443\ttotal: 15s\tremaining: 11.8s\n",
            "560:\tlearn: 0.4530833\ttotal: 15s\tremaining: 11.8s\n",
            "561:\tlearn: 0.4530458\ttotal: 15.1s\tremaining: 11.7s\n",
            "562:\tlearn: 0.4529989\ttotal: 15.1s\tremaining: 11.7s\n",
            "563:\tlearn: 0.4529496\ttotal: 15.1s\tremaining: 11.7s\n",
            "564:\tlearn: 0.4529082\ttotal: 15.1s\tremaining: 11.7s\n",
            "565:\tlearn: 0.4528851\ttotal: 15.2s\tremaining: 11.6s\n",
            "566:\tlearn: 0.4528616\ttotal: 15.2s\tremaining: 11.6s\n",
            "567:\tlearn: 0.4528396\ttotal: 15.2s\tremaining: 11.6s\n",
            "568:\tlearn: 0.4527859\ttotal: 15.2s\tremaining: 11.5s\n",
            "569:\tlearn: 0.4527362\ttotal: 15.3s\tremaining: 11.5s\n",
            "570:\tlearn: 0.4526838\ttotal: 15.3s\tremaining: 11.5s\n",
            "571:\tlearn: 0.4526550\ttotal: 15.3s\tremaining: 11.5s\n",
            "572:\tlearn: 0.4526032\ttotal: 15.3s\tremaining: 11.4s\n",
            "573:\tlearn: 0.4525594\ttotal: 15.4s\tremaining: 11.4s\n",
            "574:\tlearn: 0.4525205\ttotal: 15.4s\tremaining: 11.4s\n",
            "575:\tlearn: 0.4524807\ttotal: 15.4s\tremaining: 11.3s\n",
            "576:\tlearn: 0.4524335\ttotal: 15.4s\tremaining: 11.3s\n",
            "577:\tlearn: 0.4524003\ttotal: 15.5s\tremaining: 11.3s\n",
            "578:\tlearn: 0.4523509\ttotal: 15.5s\tremaining: 11.3s\n",
            "579:\tlearn: 0.4522842\ttotal: 15.5s\tremaining: 11.2s\n",
            "580:\tlearn: 0.4522464\ttotal: 15.6s\tremaining: 11.2s\n",
            "581:\tlearn: 0.4522011\ttotal: 15.6s\tremaining: 11.2s\n",
            "582:\tlearn: 0.4521629\ttotal: 15.6s\tremaining: 11.2s\n",
            "583:\tlearn: 0.4521144\ttotal: 15.6s\tremaining: 11.1s\n",
            "584:\tlearn: 0.4520716\ttotal: 15.7s\tremaining: 11.1s\n",
            "585:\tlearn: 0.4520334\ttotal: 15.7s\tremaining: 11.1s\n",
            "586:\tlearn: 0.4519809\ttotal: 15.7s\tremaining: 11.1s\n",
            "587:\tlearn: 0.4519539\ttotal: 15.7s\tremaining: 11s\n",
            "588:\tlearn: 0.4519278\ttotal: 15.8s\tremaining: 11s\n",
            "589:\tlearn: 0.4518735\ttotal: 15.8s\tremaining: 11s\n",
            "590:\tlearn: 0.4518302\ttotal: 15.8s\tremaining: 10.9s\n",
            "591:\tlearn: 0.4518188\ttotal: 15.8s\tremaining: 10.9s\n",
            "592:\tlearn: 0.4517631\ttotal: 15.9s\tremaining: 10.9s\n",
            "593:\tlearn: 0.4517110\ttotal: 15.9s\tremaining: 10.9s\n",
            "594:\tlearn: 0.4516828\ttotal: 15.9s\tremaining: 10.8s\n",
            "595:\tlearn: 0.4516419\ttotal: 15.9s\tremaining: 10.8s\n",
            "596:\tlearn: 0.4516091\ttotal: 16s\tremaining: 10.8s\n",
            "597:\tlearn: 0.4515594\ttotal: 16s\tremaining: 10.8s\n",
            "598:\tlearn: 0.4515183\ttotal: 16s\tremaining: 10.7s\n",
            "599:\tlearn: 0.4514644\ttotal: 16.1s\tremaining: 10.7s\n",
            "600:\tlearn: 0.4514188\ttotal: 16.1s\tremaining: 10.7s\n",
            "601:\tlearn: 0.4513911\ttotal: 16.1s\tremaining: 10.6s\n",
            "602:\tlearn: 0.4513236\ttotal: 16.1s\tremaining: 10.6s\n",
            "603:\tlearn: 0.4512758\ttotal: 16.2s\tremaining: 10.6s\n",
            "604:\tlearn: 0.4512343\ttotal: 16.2s\tremaining: 10.6s\n",
            "605:\tlearn: 0.4511894\ttotal: 16.2s\tremaining: 10.5s\n",
            "606:\tlearn: 0.4511553\ttotal: 16.2s\tremaining: 10.5s\n",
            "607:\tlearn: 0.4511354\ttotal: 16.3s\tremaining: 10.5s\n",
            "608:\tlearn: 0.4511064\ttotal: 16.3s\tremaining: 10.5s\n",
            "609:\tlearn: 0.4510731\ttotal: 16.3s\tremaining: 10.4s\n",
            "610:\tlearn: 0.4510294\ttotal: 16.3s\tremaining: 10.4s\n",
            "611:\tlearn: 0.4509690\ttotal: 16.4s\tremaining: 10.4s\n",
            "612:\tlearn: 0.4509476\ttotal: 16.4s\tremaining: 10.3s\n",
            "613:\tlearn: 0.4509111\ttotal: 16.4s\tremaining: 10.3s\n",
            "614:\tlearn: 0.4508926\ttotal: 16.4s\tremaining: 10.3s\n",
            "615:\tlearn: 0.4508438\ttotal: 16.5s\tremaining: 10.3s\n",
            "616:\tlearn: 0.4508123\ttotal: 16.5s\tremaining: 10.2s\n",
            "617:\tlearn: 0.4507660\ttotal: 16.5s\tremaining: 10.2s\n",
            "618:\tlearn: 0.4507386\ttotal: 16.6s\tremaining: 10.2s\n",
            "619:\tlearn: 0.4507164\ttotal: 16.6s\tremaining: 10.2s\n",
            "620:\tlearn: 0.4506679\ttotal: 16.6s\tremaining: 10.1s\n",
            "621:\tlearn: 0.4506299\ttotal: 16.6s\tremaining: 10.1s\n",
            "622:\tlearn: 0.4505874\ttotal: 16.7s\tremaining: 10.1s\n",
            "623:\tlearn: 0.4505556\ttotal: 16.7s\tremaining: 10.1s\n",
            "624:\tlearn: 0.4505159\ttotal: 16.7s\tremaining: 10s\n",
            "625:\tlearn: 0.4504896\ttotal: 16.7s\tremaining: 10s\n",
            "626:\tlearn: 0.4504572\ttotal: 16.8s\tremaining: 9.97s\n",
            "627:\tlearn: 0.4504276\ttotal: 16.8s\tremaining: 9.94s\n",
            "628:\tlearn: 0.4503848\ttotal: 16.8s\tremaining: 9.92s\n",
            "629:\tlearn: 0.4503556\ttotal: 16.8s\tremaining: 9.89s\n",
            "630:\tlearn: 0.4503160\ttotal: 16.9s\tremaining: 9.86s\n",
            "631:\tlearn: 0.4502798\ttotal: 16.9s\tremaining: 9.84s\n",
            "632:\tlearn: 0.4502461\ttotal: 16.9s\tremaining: 9.81s\n",
            "633:\tlearn: 0.4502146\ttotal: 16.9s\tremaining: 9.78s\n",
            "634:\tlearn: 0.4501707\ttotal: 17s\tremaining: 9.75s\n",
            "635:\tlearn: 0.4501347\ttotal: 17s\tremaining: 9.73s\n",
            "636:\tlearn: 0.4500990\ttotal: 17s\tremaining: 9.7s\n",
            "637:\tlearn: 0.4500391\ttotal: 17.1s\tremaining: 9.67s\n",
            "638:\tlearn: 0.4499935\ttotal: 17.1s\tremaining: 9.65s\n",
            "639:\tlearn: 0.4499335\ttotal: 17.1s\tremaining: 9.62s\n",
            "640:\tlearn: 0.4498974\ttotal: 17.1s\tremaining: 9.59s\n",
            "641:\tlearn: 0.4498642\ttotal: 17.2s\tremaining: 9.56s\n",
            "642:\tlearn: 0.4498580\ttotal: 17.2s\tremaining: 9.54s\n",
            "643:\tlearn: 0.4498093\ttotal: 17.2s\tremaining: 9.51s\n",
            "644:\tlearn: 0.4497835\ttotal: 17.2s\tremaining: 9.48s\n",
            "645:\tlearn: 0.4497504\ttotal: 17.3s\tremaining: 9.46s\n",
            "646:\tlearn: 0.4497020\ttotal: 17.3s\tremaining: 9.43s\n",
            "647:\tlearn: 0.4496638\ttotal: 17.3s\tremaining: 9.4s\n",
            "648:\tlearn: 0.4496335\ttotal: 17.3s\tremaining: 9.37s\n",
            "649:\tlearn: 0.4495788\ttotal: 17.4s\tremaining: 9.35s\n",
            "650:\tlearn: 0.4495775\ttotal: 17.4s\tremaining: 9.32s\n",
            "651:\tlearn: 0.4495387\ttotal: 17.4s\tremaining: 9.29s\n",
            "652:\tlearn: 0.4495000\ttotal: 17.4s\tremaining: 9.27s\n",
            "653:\tlearn: 0.4494534\ttotal: 17.5s\tremaining: 9.24s\n",
            "654:\tlearn: 0.4494185\ttotal: 17.5s\tremaining: 9.21s\n",
            "655:\tlearn: 0.4493717\ttotal: 17.5s\tremaining: 9.18s\n",
            "656:\tlearn: 0.4493337\ttotal: 17.5s\tremaining: 9.16s\n",
            "657:\tlearn: 0.4493120\ttotal: 17.6s\tremaining: 9.13s\n",
            "658:\tlearn: 0.4492732\ttotal: 17.6s\tremaining: 9.11s\n",
            "659:\tlearn: 0.4492168\ttotal: 17.6s\tremaining: 9.08s\n",
            "660:\tlearn: 0.4491734\ttotal: 17.7s\tremaining: 9.05s\n",
            "661:\tlearn: 0.4491268\ttotal: 17.7s\tremaining: 9.03s\n",
            "662:\tlearn: 0.4491098\ttotal: 17.7s\tremaining: 9s\n",
            "663:\tlearn: 0.4490702\ttotal: 17.7s\tremaining: 8.97s\n",
            "664:\tlearn: 0.4490199\ttotal: 17.8s\tremaining: 8.95s\n",
            "665:\tlearn: 0.4489610\ttotal: 17.8s\tremaining: 8.92s\n",
            "666:\tlearn: 0.4489322\ttotal: 17.8s\tremaining: 8.89s\n",
            "667:\tlearn: 0.4489064\ttotal: 17.8s\tremaining: 8.87s\n",
            "668:\tlearn: 0.4488691\ttotal: 17.9s\tremaining: 8.84s\n",
            "669:\tlearn: 0.4488122\ttotal: 17.9s\tremaining: 8.81s\n",
            "670:\tlearn: 0.4487936\ttotal: 17.9s\tremaining: 8.79s\n",
            "671:\tlearn: 0.4487681\ttotal: 17.9s\tremaining: 8.76s\n",
            "672:\tlearn: 0.4487263\ttotal: 18s\tremaining: 8.73s\n",
            "673:\tlearn: 0.4486685\ttotal: 18s\tremaining: 8.7s\n",
            "674:\tlearn: 0.4486421\ttotal: 18s\tremaining: 8.68s\n",
            "675:\tlearn: 0.4486030\ttotal: 18.1s\tremaining: 8.66s\n",
            "676:\tlearn: 0.4485674\ttotal: 18.1s\tremaining: 8.63s\n",
            "677:\tlearn: 0.4485326\ttotal: 18.1s\tremaining: 8.6s\n",
            "678:\tlearn: 0.4485315\ttotal: 18.1s\tremaining: 8.57s\n",
            "679:\tlearn: 0.4484967\ttotal: 18.2s\tremaining: 8.55s\n",
            "680:\tlearn: 0.4484720\ttotal: 18.2s\tremaining: 8.52s\n",
            "681:\tlearn: 0.4484379\ttotal: 18.2s\tremaining: 8.49s\n",
            "682:\tlearn: 0.4484024\ttotal: 18.2s\tremaining: 8.46s\n",
            "683:\tlearn: 0.4483805\ttotal: 18.3s\tremaining: 8.44s\n",
            "684:\tlearn: 0.4483417\ttotal: 18.3s\tremaining: 8.41s\n",
            "685:\tlearn: 0.4482947\ttotal: 18.3s\tremaining: 8.39s\n",
            "686:\tlearn: 0.4482669\ttotal: 18.3s\tremaining: 8.36s\n",
            "687:\tlearn: 0.4482223\ttotal: 18.4s\tremaining: 8.33s\n",
            "688:\tlearn: 0.4481938\ttotal: 18.4s\tremaining: 8.3s\n",
            "689:\tlearn: 0.4481465\ttotal: 18.4s\tremaining: 8.28s\n",
            "690:\tlearn: 0.4481045\ttotal: 18.5s\tremaining: 8.25s\n",
            "691:\tlearn: 0.4480736\ttotal: 18.5s\tremaining: 8.23s\n",
            "692:\tlearn: 0.4480370\ttotal: 18.5s\tremaining: 8.2s\n",
            "693:\tlearn: 0.4479895\ttotal: 18.5s\tremaining: 8.17s\n",
            "694:\tlearn: 0.4479432\ttotal: 18.6s\tremaining: 8.15s\n",
            "695:\tlearn: 0.4478993\ttotal: 18.6s\tremaining: 8.12s\n",
            "696:\tlearn: 0.4478674\ttotal: 18.6s\tremaining: 8.1s\n",
            "697:\tlearn: 0.4478259\ttotal: 18.6s\tremaining: 8.07s\n",
            "698:\tlearn: 0.4477995\ttotal: 18.7s\tremaining: 8.04s\n",
            "699:\tlearn: 0.4477517\ttotal: 18.7s\tremaining: 8.02s\n",
            "700:\tlearn: 0.4477134\ttotal: 18.7s\tremaining: 7.99s\n",
            "701:\tlearn: 0.4476806\ttotal: 18.8s\tremaining: 7.96s\n",
            "702:\tlearn: 0.4476537\ttotal: 18.8s\tremaining: 7.94s\n",
            "703:\tlearn: 0.4476366\ttotal: 18.8s\tremaining: 7.91s\n",
            "704:\tlearn: 0.4475962\ttotal: 18.8s\tremaining: 7.89s\n",
            "705:\tlearn: 0.4475546\ttotal: 18.9s\tremaining: 7.86s\n",
            "706:\tlearn: 0.4475366\ttotal: 18.9s\tremaining: 7.83s\n",
            "707:\tlearn: 0.4475011\ttotal: 18.9s\tremaining: 7.81s\n",
            "708:\tlearn: 0.4474418\ttotal: 19s\tremaining: 7.78s\n",
            "709:\tlearn: 0.4473932\ttotal: 19s\tremaining: 7.75s\n",
            "710:\tlearn: 0.4473704\ttotal: 19s\tremaining: 7.72s\n",
            "711:\tlearn: 0.4473549\ttotal: 19s\tremaining: 7.7s\n",
            "712:\tlearn: 0.4473350\ttotal: 19.1s\tremaining: 7.67s\n",
            "713:\tlearn: 0.4472920\ttotal: 19.1s\tremaining: 7.64s\n",
            "714:\tlearn: 0.4472496\ttotal: 19.1s\tremaining: 7.62s\n",
            "715:\tlearn: 0.4472219\ttotal: 19.1s\tremaining: 7.59s\n",
            "716:\tlearn: 0.4471943\ttotal: 19.2s\tremaining: 7.56s\n",
            "717:\tlearn: 0.4471393\ttotal: 19.2s\tremaining: 7.54s\n",
            "718:\tlearn: 0.4471070\ttotal: 19.2s\tremaining: 7.51s\n",
            "719:\tlearn: 0.4470687\ttotal: 19.2s\tremaining: 7.48s\n",
            "720:\tlearn: 0.4470232\ttotal: 19.3s\tremaining: 7.45s\n",
            "721:\tlearn: 0.4469988\ttotal: 19.3s\tremaining: 7.43s\n",
            "722:\tlearn: 0.4469631\ttotal: 19.3s\tremaining: 7.4s\n",
            "723:\tlearn: 0.4469216\ttotal: 19.3s\tremaining: 7.37s\n",
            "724:\tlearn: 0.4468850\ttotal: 19.4s\tremaining: 7.34s\n",
            "725:\tlearn: 0.4468602\ttotal: 19.4s\tremaining: 7.32s\n",
            "726:\tlearn: 0.4468592\ttotal: 19.4s\tremaining: 7.29s\n",
            "727:\tlearn: 0.4468219\ttotal: 19.4s\tremaining: 7.26s\n",
            "728:\tlearn: 0.4467743\ttotal: 19.5s\tremaining: 7.24s\n",
            "729:\tlearn: 0.4467581\ttotal: 19.5s\tremaining: 7.21s\n",
            "730:\tlearn: 0.4467147\ttotal: 19.5s\tremaining: 7.18s\n",
            "731:\tlearn: 0.4466701\ttotal: 19.6s\tremaining: 7.16s\n",
            "732:\tlearn: 0.4466482\ttotal: 19.6s\tremaining: 7.13s\n",
            "733:\tlearn: 0.4465999\ttotal: 19.6s\tremaining: 7.1s\n",
            "734:\tlearn: 0.4465748\ttotal: 19.6s\tremaining: 7.08s\n",
            "735:\tlearn: 0.4465176\ttotal: 19.7s\tremaining: 7.05s\n",
            "736:\tlearn: 0.4464963\ttotal: 19.7s\tremaining: 7.02s\n",
            "737:\tlearn: 0.4464622\ttotal: 19.7s\tremaining: 7s\n",
            "738:\tlearn: 0.4464200\ttotal: 19.7s\tremaining: 6.97s\n",
            "739:\tlearn: 0.4463812\ttotal: 19.8s\tremaining: 6.94s\n",
            "740:\tlearn: 0.4463476\ttotal: 19.8s\tremaining: 6.92s\n",
            "741:\tlearn: 0.4463289\ttotal: 19.8s\tremaining: 6.89s\n",
            "742:\tlearn: 0.4463042\ttotal: 19.8s\tremaining: 6.87s\n",
            "743:\tlearn: 0.4462819\ttotal: 19.9s\tremaining: 6.84s\n",
            "744:\tlearn: 0.4462278\ttotal: 19.9s\tremaining: 6.81s\n",
            "745:\tlearn: 0.4462120\ttotal: 19.9s\tremaining: 6.78s\n",
            "746:\tlearn: 0.4461739\ttotal: 19.9s\tremaining: 6.75s\n",
            "747:\tlearn: 0.4461437\ttotal: 20s\tremaining: 6.73s\n",
            "748:\tlearn: 0.4461185\ttotal: 20s\tremaining: 6.7s\n",
            "749:\tlearn: 0.4460926\ttotal: 20s\tremaining: 6.67s\n",
            "750:\tlearn: 0.4460546\ttotal: 20.1s\tremaining: 6.65s\n",
            "751:\tlearn: 0.4460216\ttotal: 20.1s\tremaining: 6.62s\n",
            "752:\tlearn: 0.4459767\ttotal: 20.1s\tremaining: 6.59s\n",
            "753:\tlearn: 0.4459288\ttotal: 20.1s\tremaining: 6.57s\n",
            "754:\tlearn: 0.4459128\ttotal: 20.2s\tremaining: 6.54s\n",
            "755:\tlearn: 0.4459117\ttotal: 20.2s\tremaining: 6.51s\n",
            "756:\tlearn: 0.4458885\ttotal: 20.2s\tremaining: 6.49s\n",
            "757:\tlearn: 0.4458487\ttotal: 20.2s\tremaining: 6.46s\n",
            "758:\tlearn: 0.4458088\ttotal: 20.3s\tremaining: 6.43s\n",
            "759:\tlearn: 0.4457671\ttotal: 20.3s\tremaining: 6.41s\n",
            "760:\tlearn: 0.4457272\ttotal: 20.3s\tremaining: 6.38s\n",
            "761:\tlearn: 0.4456999\ttotal: 20.3s\tremaining: 6.35s\n",
            "762:\tlearn: 0.4456723\ttotal: 20.4s\tremaining: 6.33s\n",
            "763:\tlearn: 0.4456289\ttotal: 20.4s\tremaining: 6.3s\n",
            "764:\tlearn: 0.4456006\ttotal: 20.4s\tremaining: 6.27s\n",
            "765:\tlearn: 0.4455621\ttotal: 20.4s\tremaining: 6.25s\n",
            "766:\tlearn: 0.4455409\ttotal: 20.5s\tremaining: 6.22s\n",
            "767:\tlearn: 0.4455189\ttotal: 20.5s\tremaining: 6.19s\n",
            "768:\tlearn: 0.4454864\ttotal: 20.5s\tremaining: 6.17s\n",
            "769:\tlearn: 0.4454332\ttotal: 20.6s\tremaining: 6.14s\n",
            "770:\tlearn: 0.4453865\ttotal: 20.6s\tremaining: 6.12s\n",
            "771:\tlearn: 0.4453730\ttotal: 20.6s\tremaining: 6.09s\n",
            "772:\tlearn: 0.4453222\ttotal: 20.7s\tremaining: 6.06s\n",
            "773:\tlearn: 0.4452693\ttotal: 20.7s\tremaining: 6.04s\n",
            "774:\tlearn: 0.4452363\ttotal: 20.7s\tremaining: 6.01s\n",
            "775:\tlearn: 0.4451912\ttotal: 20.7s\tremaining: 5.99s\n",
            "776:\tlearn: 0.4451679\ttotal: 20.8s\tremaining: 5.96s\n",
            "777:\tlearn: 0.4451376\ttotal: 20.8s\tremaining: 5.93s\n",
            "778:\tlearn: 0.4450910\ttotal: 20.8s\tremaining: 5.91s\n",
            "779:\tlearn: 0.4450510\ttotal: 20.9s\tremaining: 5.88s\n",
            "780:\tlearn: 0.4450085\ttotal: 20.9s\tremaining: 5.85s\n",
            "781:\tlearn: 0.4449838\ttotal: 20.9s\tremaining: 5.83s\n",
            "782:\tlearn: 0.4449682\ttotal: 20.9s\tremaining: 5.8s\n",
            "783:\tlearn: 0.4449674\ttotal: 21s\tremaining: 5.77s\n",
            "784:\tlearn: 0.4449239\ttotal: 21s\tremaining: 5.75s\n",
            "785:\tlearn: 0.4448997\ttotal: 21s\tremaining: 5.72s\n",
            "786:\tlearn: 0.4448619\ttotal: 21s\tremaining: 5.69s\n",
            "787:\tlearn: 0.4448423\ttotal: 21.1s\tremaining: 5.67s\n",
            "788:\tlearn: 0.4448067\ttotal: 21.1s\tremaining: 5.64s\n",
            "789:\tlearn: 0.4447763\ttotal: 21.1s\tremaining: 5.61s\n",
            "790:\tlearn: 0.4447289\ttotal: 21.1s\tremaining: 5.59s\n",
            "791:\tlearn: 0.4447201\ttotal: 21.2s\tremaining: 5.56s\n",
            "792:\tlearn: 0.4446888\ttotal: 21.2s\tremaining: 5.53s\n",
            "793:\tlearn: 0.4446457\ttotal: 21.2s\tremaining: 5.5s\n",
            "794:\tlearn: 0.4446289\ttotal: 21.2s\tremaining: 5.48s\n",
            "795:\tlearn: 0.4446013\ttotal: 21.3s\tremaining: 5.45s\n",
            "796:\tlearn: 0.4445710\ttotal: 21.3s\tremaining: 5.42s\n",
            "797:\tlearn: 0.4445248\ttotal: 21.3s\tremaining: 5.4s\n",
            "798:\tlearn: 0.4444912\ttotal: 21.4s\tremaining: 5.37s\n",
            "799:\tlearn: 0.4444574\ttotal: 21.4s\tremaining: 5.35s\n",
            "800:\tlearn: 0.4444332\ttotal: 21.4s\tremaining: 5.32s\n",
            "801:\tlearn: 0.4443881\ttotal: 21.4s\tremaining: 5.29s\n",
            "802:\tlearn: 0.4443870\ttotal: 21.5s\tremaining: 5.27s\n",
            "803:\tlearn: 0.4443356\ttotal: 21.5s\tremaining: 5.24s\n",
            "804:\tlearn: 0.4442966\ttotal: 21.5s\tremaining: 5.21s\n",
            "805:\tlearn: 0.4442739\ttotal: 21.6s\tremaining: 5.19s\n",
            "806:\tlearn: 0.4442253\ttotal: 21.6s\tremaining: 5.16s\n",
            "807:\tlearn: 0.4441787\ttotal: 21.6s\tremaining: 5.13s\n",
            "808:\tlearn: 0.4441387\ttotal: 21.6s\tremaining: 5.11s\n",
            "809:\tlearn: 0.4441077\ttotal: 21.7s\tremaining: 5.08s\n",
            "810:\tlearn: 0.4440753\ttotal: 21.7s\tremaining: 5.05s\n",
            "811:\tlearn: 0.4440359\ttotal: 21.7s\tremaining: 5.03s\n",
            "812:\tlearn: 0.4440191\ttotal: 21.7s\tremaining: 5s\n",
            "813:\tlearn: 0.4439830\ttotal: 21.8s\tremaining: 4.97s\n",
            "814:\tlearn: 0.4439450\ttotal: 21.8s\tremaining: 4.95s\n",
            "815:\tlearn: 0.4439027\ttotal: 21.8s\tremaining: 4.92s\n",
            "816:\tlearn: 0.4438606\ttotal: 21.8s\tremaining: 4.89s\n",
            "817:\tlearn: 0.4438418\ttotal: 21.9s\tremaining: 4.87s\n",
            "818:\tlearn: 0.4438048\ttotal: 21.9s\tremaining: 4.84s\n",
            "819:\tlearn: 0.4437836\ttotal: 21.9s\tremaining: 4.81s\n",
            "820:\tlearn: 0.4437550\ttotal: 22s\tremaining: 4.79s\n",
            "821:\tlearn: 0.4437194\ttotal: 22s\tremaining: 4.76s\n",
            "822:\tlearn: 0.4436704\ttotal: 22s\tremaining: 4.74s\n",
            "823:\tlearn: 0.4436104\ttotal: 22s\tremaining: 4.71s\n",
            "824:\tlearn: 0.4435811\ttotal: 22.1s\tremaining: 4.68s\n",
            "825:\tlearn: 0.4435714\ttotal: 22.1s\tremaining: 4.66s\n",
            "826:\tlearn: 0.4435134\ttotal: 22.1s\tremaining: 4.63s\n",
            "827:\tlearn: 0.4434835\ttotal: 22.2s\tremaining: 4.6s\n",
            "828:\tlearn: 0.4434407\ttotal: 22.2s\tremaining: 4.58s\n",
            "829:\tlearn: 0.4434035\ttotal: 22.2s\tremaining: 4.55s\n",
            "830:\tlearn: 0.4433708\ttotal: 22.2s\tremaining: 4.52s\n",
            "831:\tlearn: 0.4433329\ttotal: 22.3s\tremaining: 4.5s\n",
            "832:\tlearn: 0.4432909\ttotal: 22.3s\tremaining: 4.47s\n",
            "833:\tlearn: 0.4432765\ttotal: 22.3s\tremaining: 4.44s\n",
            "834:\tlearn: 0.4432489\ttotal: 22.4s\tremaining: 4.42s\n",
            "835:\tlearn: 0.4432214\ttotal: 22.4s\tremaining: 4.39s\n",
            "836:\tlearn: 0.4431921\ttotal: 22.4s\tremaining: 4.36s\n",
            "837:\tlearn: 0.4431407\ttotal: 22.4s\tremaining: 4.34s\n",
            "838:\tlearn: 0.4431138\ttotal: 22.5s\tremaining: 4.31s\n",
            "839:\tlearn: 0.4430781\ttotal: 22.5s\tremaining: 4.29s\n",
            "840:\tlearn: 0.4430454\ttotal: 22.5s\tremaining: 4.26s\n",
            "841:\tlearn: 0.4430109\ttotal: 22.6s\tremaining: 4.23s\n",
            "842:\tlearn: 0.4429728\ttotal: 22.6s\tremaining: 4.21s\n",
            "843:\tlearn: 0.4429457\ttotal: 22.6s\tremaining: 4.18s\n",
            "844:\tlearn: 0.4429216\ttotal: 22.6s\tremaining: 4.15s\n",
            "845:\tlearn: 0.4428849\ttotal: 22.7s\tremaining: 4.13s\n",
            "846:\tlearn: 0.4428609\ttotal: 22.7s\tremaining: 4.1s\n",
            "847:\tlearn: 0.4428023\ttotal: 22.7s\tremaining: 4.07s\n",
            "848:\tlearn: 0.4427671\ttotal: 22.7s\tremaining: 4.04s\n",
            "849:\tlearn: 0.4427434\ttotal: 22.8s\tremaining: 4.02s\n",
            "850:\tlearn: 0.4427167\ttotal: 22.8s\tremaining: 3.99s\n",
            "851:\tlearn: 0.4426911\ttotal: 22.8s\tremaining: 3.96s\n",
            "852:\tlearn: 0.4426458\ttotal: 22.8s\tremaining: 3.94s\n",
            "853:\tlearn: 0.4426275\ttotal: 22.9s\tremaining: 3.91s\n",
            "854:\tlearn: 0.4426001\ttotal: 22.9s\tremaining: 3.88s\n",
            "855:\tlearn: 0.4425648\ttotal: 22.9s\tremaining: 3.85s\n",
            "856:\tlearn: 0.4425313\ttotal: 22.9s\tremaining: 3.83s\n",
            "857:\tlearn: 0.4424818\ttotal: 23s\tremaining: 3.8s\n",
            "858:\tlearn: 0.4424489\ttotal: 23s\tremaining: 3.77s\n",
            "859:\tlearn: 0.4424208\ttotal: 23s\tremaining: 3.75s\n",
            "860:\tlearn: 0.4424117\ttotal: 23.1s\tremaining: 3.72s\n",
            "861:\tlearn: 0.4423864\ttotal: 23.1s\tremaining: 3.69s\n",
            "862:\tlearn: 0.4423536\ttotal: 23.1s\tremaining: 3.67s\n",
            "863:\tlearn: 0.4423526\ttotal: 23.1s\tremaining: 3.64s\n",
            "864:\tlearn: 0.4423117\ttotal: 23.2s\tremaining: 3.61s\n",
            "865:\tlearn: 0.4422732\ttotal: 23.2s\tremaining: 3.59s\n",
            "866:\tlearn: 0.4422264\ttotal: 23.2s\tremaining: 3.56s\n",
            "867:\tlearn: 0.4421951\ttotal: 23.2s\tremaining: 3.53s\n",
            "868:\tlearn: 0.4421546\ttotal: 23.3s\tremaining: 3.51s\n",
            "869:\tlearn: 0.4421223\ttotal: 23.3s\tremaining: 3.48s\n",
            "870:\tlearn: 0.4420922\ttotal: 23.3s\tremaining: 3.45s\n",
            "871:\tlearn: 0.4420496\ttotal: 23.3s\tremaining: 3.42s\n",
            "872:\tlearn: 0.4420057\ttotal: 23.4s\tremaining: 3.4s\n",
            "873:\tlearn: 0.4419459\ttotal: 23.4s\tremaining: 3.37s\n",
            "874:\tlearn: 0.4419151\ttotal: 23.4s\tremaining: 3.35s\n",
            "875:\tlearn: 0.4418984\ttotal: 23.4s\tremaining: 3.32s\n",
            "876:\tlearn: 0.4418715\ttotal: 23.5s\tremaining: 3.29s\n",
            "877:\tlearn: 0.4418175\ttotal: 23.5s\tremaining: 3.27s\n",
            "878:\tlearn: 0.4417905\ttotal: 23.5s\tremaining: 3.24s\n",
            "879:\tlearn: 0.4417571\ttotal: 23.6s\tremaining: 3.21s\n",
            "880:\tlearn: 0.4417115\ttotal: 23.6s\tremaining: 3.19s\n",
            "881:\tlearn: 0.4416917\ttotal: 23.6s\tremaining: 3.16s\n",
            "882:\tlearn: 0.4416485\ttotal: 23.6s\tremaining: 3.13s\n",
            "883:\tlearn: 0.4416162\ttotal: 23.7s\tremaining: 3.11s\n",
            "884:\tlearn: 0.4415899\ttotal: 23.7s\tremaining: 3.08s\n",
            "885:\tlearn: 0.4415553\ttotal: 23.7s\tremaining: 3.05s\n",
            "886:\tlearn: 0.4415084\ttotal: 23.8s\tremaining: 3.03s\n",
            "887:\tlearn: 0.4414712\ttotal: 23.8s\tremaining: 3s\n",
            "888:\tlearn: 0.4414557\ttotal: 23.8s\tremaining: 2.97s\n",
            "889:\tlearn: 0.4414476\ttotal: 23.8s\tremaining: 2.95s\n",
            "890:\tlearn: 0.4413980\ttotal: 23.9s\tremaining: 2.92s\n",
            "891:\tlearn: 0.4413489\ttotal: 23.9s\tremaining: 2.89s\n",
            "892:\tlearn: 0.4413210\ttotal: 23.9s\tremaining: 2.87s\n",
            "893:\tlearn: 0.4412822\ttotal: 23.9s\tremaining: 2.84s\n",
            "894:\tlearn: 0.4412443\ttotal: 24s\tremaining: 2.81s\n",
            "895:\tlearn: 0.4412436\ttotal: 24s\tremaining: 2.79s\n",
            "896:\tlearn: 0.4411910\ttotal: 24s\tremaining: 2.76s\n",
            "897:\tlearn: 0.4411593\ttotal: 24.1s\tremaining: 2.73s\n",
            "898:\tlearn: 0.4411398\ttotal: 24.1s\tremaining: 2.71s\n",
            "899:\tlearn: 0.4411198\ttotal: 24.1s\tremaining: 2.68s\n",
            "900:\tlearn: 0.4411191\ttotal: 24.1s\tremaining: 2.65s\n",
            "901:\tlearn: 0.4410696\ttotal: 24.2s\tremaining: 2.62s\n",
            "902:\tlearn: 0.4410401\ttotal: 24.2s\tremaining: 2.6s\n",
            "903:\tlearn: 0.4410258\ttotal: 24.2s\tremaining: 2.57s\n",
            "904:\tlearn: 0.4409852\ttotal: 24.2s\tremaining: 2.54s\n",
            "905:\tlearn: 0.4409247\ttotal: 24.3s\tremaining: 2.52s\n",
            "906:\tlearn: 0.4409075\ttotal: 24.3s\tremaining: 2.49s\n",
            "907:\tlearn: 0.4408754\ttotal: 24.3s\tremaining: 2.46s\n",
            "908:\tlearn: 0.4408478\ttotal: 24.3s\tremaining: 2.44s\n",
            "909:\tlearn: 0.4408159\ttotal: 24.4s\tremaining: 2.41s\n",
            "910:\tlearn: 0.4407717\ttotal: 24.4s\tremaining: 2.38s\n",
            "911:\tlearn: 0.4407338\ttotal: 24.4s\tremaining: 2.35s\n",
            "912:\tlearn: 0.4407147\ttotal: 24.4s\tremaining: 2.33s\n",
            "913:\tlearn: 0.4406781\ttotal: 24.5s\tremaining: 2.3s\n",
            "914:\tlearn: 0.4406343\ttotal: 24.5s\tremaining: 2.27s\n",
            "915:\tlearn: 0.4405960\ttotal: 24.5s\tremaining: 2.25s\n",
            "916:\tlearn: 0.4405644\ttotal: 24.5s\tremaining: 2.22s\n",
            "917:\tlearn: 0.4405434\ttotal: 24.6s\tremaining: 2.19s\n",
            "918:\tlearn: 0.4405168\ttotal: 24.6s\tremaining: 2.17s\n",
            "919:\tlearn: 0.4404704\ttotal: 24.6s\tremaining: 2.14s\n",
            "920:\tlearn: 0.4404600\ttotal: 24.7s\tremaining: 2.11s\n",
            "921:\tlearn: 0.4404232\ttotal: 24.7s\tremaining: 2.09s\n",
            "922:\tlearn: 0.4403749\ttotal: 24.7s\tremaining: 2.06s\n",
            "923:\tlearn: 0.4403430\ttotal: 24.7s\tremaining: 2.03s\n",
            "924:\tlearn: 0.4403051\ttotal: 24.8s\tremaining: 2.01s\n",
            "925:\tlearn: 0.4402785\ttotal: 24.8s\tremaining: 1.98s\n",
            "926:\tlearn: 0.4402509\ttotal: 24.8s\tremaining: 1.95s\n",
            "927:\tlearn: 0.4402082\ttotal: 24.8s\tremaining: 1.93s\n",
            "928:\tlearn: 0.4401817\ttotal: 24.9s\tremaining: 1.9s\n",
            "929:\tlearn: 0.4401651\ttotal: 24.9s\tremaining: 1.87s\n",
            "930:\tlearn: 0.4401352\ttotal: 24.9s\tremaining: 1.85s\n",
            "931:\tlearn: 0.4400856\ttotal: 24.9s\tremaining: 1.82s\n",
            "932:\tlearn: 0.4400510\ttotal: 25s\tremaining: 1.79s\n",
            "933:\tlearn: 0.4400190\ttotal: 25s\tremaining: 1.77s\n",
            "934:\tlearn: 0.4399902\ttotal: 25s\tremaining: 1.74s\n",
            "935:\tlearn: 0.4399607\ttotal: 25s\tremaining: 1.71s\n",
            "936:\tlearn: 0.4399353\ttotal: 25.1s\tremaining: 1.69s\n",
            "937:\tlearn: 0.4398965\ttotal: 25.1s\tremaining: 1.66s\n",
            "938:\tlearn: 0.4398662\ttotal: 25.1s\tremaining: 1.63s\n",
            "939:\tlearn: 0.4398229\ttotal: 25.2s\tremaining: 1.6s\n",
            "940:\tlearn: 0.4397948\ttotal: 25.2s\tremaining: 1.58s\n",
            "941:\tlearn: 0.4397448\ttotal: 25.2s\tremaining: 1.55s\n",
            "942:\tlearn: 0.4397201\ttotal: 25.2s\tremaining: 1.52s\n",
            "943:\tlearn: 0.4396916\ttotal: 25.3s\tremaining: 1.5s\n",
            "944:\tlearn: 0.4396640\ttotal: 25.3s\tremaining: 1.47s\n",
            "945:\tlearn: 0.4396589\ttotal: 25.3s\tremaining: 1.45s\n",
            "946:\tlearn: 0.4395990\ttotal: 25.3s\tremaining: 1.42s\n",
            "947:\tlearn: 0.4395746\ttotal: 25.4s\tremaining: 1.39s\n",
            "948:\tlearn: 0.4395473\ttotal: 25.4s\tremaining: 1.36s\n",
            "949:\tlearn: 0.4395012\ttotal: 25.4s\tremaining: 1.34s\n",
            "950:\tlearn: 0.4395005\ttotal: 25.5s\tremaining: 1.31s\n",
            "951:\tlearn: 0.4394767\ttotal: 25.5s\tremaining: 1.28s\n",
            "952:\tlearn: 0.4394590\ttotal: 25.5s\tremaining: 1.26s\n",
            "953:\tlearn: 0.4394296\ttotal: 25.5s\tremaining: 1.23s\n",
            "954:\tlearn: 0.4393807\ttotal: 25.6s\tremaining: 1.2s\n",
            "955:\tlearn: 0.4393627\ttotal: 25.6s\tremaining: 1.18s\n",
            "956:\tlearn: 0.4393271\ttotal: 25.6s\tremaining: 1.15s\n",
            "957:\tlearn: 0.4392840\ttotal: 25.7s\tremaining: 1.12s\n",
            "958:\tlearn: 0.4392417\ttotal: 25.7s\tremaining: 1.1s\n",
            "959:\tlearn: 0.4392147\ttotal: 25.7s\tremaining: 1.07s\n",
            "960:\tlearn: 0.4391816\ttotal: 25.7s\tremaining: 1.04s\n",
            "961:\tlearn: 0.4391496\ttotal: 25.8s\tremaining: 1.02s\n",
            "962:\tlearn: 0.4391293\ttotal: 25.8s\tremaining: 991ms\n",
            "963:\tlearn: 0.4390893\ttotal: 25.8s\tremaining: 964ms\n",
            "964:\tlearn: 0.4390590\ttotal: 25.8s\tremaining: 937ms\n",
            "965:\tlearn: 0.4390168\ttotal: 25.9s\tremaining: 910ms\n",
            "966:\tlearn: 0.4389796\ttotal: 25.9s\tremaining: 884ms\n",
            "967:\tlearn: 0.4389507\ttotal: 25.9s\tremaining: 857ms\n",
            "968:\tlearn: 0.4389182\ttotal: 25.9s\tremaining: 830ms\n",
            "969:\tlearn: 0.4388937\ttotal: 26s\tremaining: 803ms\n",
            "970:\tlearn: 0.4388622\ttotal: 26s\tremaining: 777ms\n",
            "971:\tlearn: 0.4388350\ttotal: 26s\tremaining: 750ms\n",
            "972:\tlearn: 0.4388084\ttotal: 26.1s\tremaining: 723ms\n",
            "973:\tlearn: 0.4387963\ttotal: 26.1s\tremaining: 696ms\n",
            "974:\tlearn: 0.4387542\ttotal: 26.1s\tremaining: 669ms\n",
            "975:\tlearn: 0.4387222\ttotal: 26.1s\tremaining: 643ms\n",
            "976:\tlearn: 0.4386909\ttotal: 26.2s\tremaining: 616ms\n",
            "977:\tlearn: 0.4386620\ttotal: 26.2s\tremaining: 589ms\n",
            "978:\tlearn: 0.4386205\ttotal: 26.2s\tremaining: 562ms\n",
            "979:\tlearn: 0.4385860\ttotal: 26.2s\tremaining: 535ms\n",
            "980:\tlearn: 0.4385446\ttotal: 26.3s\tremaining: 509ms\n",
            "981:\tlearn: 0.4384709\ttotal: 26.3s\tremaining: 482ms\n",
            "982:\tlearn: 0.4384196\ttotal: 26.3s\tremaining: 455ms\n",
            "983:\tlearn: 0.4383976\ttotal: 26.3s\tremaining: 428ms\n",
            "984:\tlearn: 0.4383656\ttotal: 26.4s\tremaining: 402ms\n",
            "985:\tlearn: 0.4383200\ttotal: 26.4s\tremaining: 375ms\n",
            "986:\tlearn: 0.4382916\ttotal: 26.4s\tremaining: 348ms\n",
            "987:\tlearn: 0.4382736\ttotal: 26.4s\tremaining: 321ms\n",
            "988:\tlearn: 0.4382491\ttotal: 26.5s\tremaining: 294ms\n",
            "989:\tlearn: 0.4382195\ttotal: 26.5s\tremaining: 268ms\n",
            "990:\tlearn: 0.4381792\ttotal: 26.5s\tremaining: 241ms\n",
            "991:\tlearn: 0.4381515\ttotal: 26.6s\tremaining: 214ms\n",
            "992:\tlearn: 0.4381225\ttotal: 26.6s\tremaining: 187ms\n",
            "993:\tlearn: 0.4380970\ttotal: 26.6s\tremaining: 161ms\n",
            "994:\tlearn: 0.4380515\ttotal: 26.6s\tremaining: 134ms\n",
            "995:\tlearn: 0.4380242\ttotal: 26.7s\tremaining: 107ms\n",
            "996:\tlearn: 0.4380096\ttotal: 26.7s\tremaining: 80.3ms\n",
            "997:\tlearn: 0.4380002\ttotal: 26.7s\tremaining: 53.5ms\n",
            "998:\tlearn: 0.4379694\ttotal: 26.7s\tremaining: 26.8ms\n",
            "999:\tlearn: 0.4379447\ttotal: 26.8s\tremaining: 0us\n"
          ],
          "name": "stdout"
        }
      ]
    },
    {
      "cell_type": "code",
      "metadata": {
        "id": "pNgdBKYQzIil"
      },
      "source": [
        "pipeline_5 = Pipeline(steps=[\n",
        "    ('tr', column_transformer),\n",
        "    ('lgbm', LGBMClassifier())\n",
        "])\n",
        "\n",
        "m_5 = pipeline_5.fit(X_train, y_train)\n",
        "pred_5_t = m_5.predict(X_test)\n",
        "pred_5_tr = m_5.predict(X_train)\n",
        "pred_5_pr_tr = m_5.predict_proba(X_train)[:, 1]"
      ],
      "execution_count": null,
      "outputs": []
    },
    {
      "cell_type": "code",
      "metadata": {
        "id": "eOFHyugnzInH"
      },
      "source": [
        "def GINI(y_true, y_pred):\n",
        "    AUC = roc_auc_score(y_true, y_pred)\n",
        "    return 2 * AUC - 1"
      ],
      "execution_count": null,
      "outputs": []
    },
    {
      "cell_type": "code",
      "metadata": {
        "colab": {
          "base_uri": "https://localhost:8080/",
          "height": 174
        },
        "id": "V6UJvQBCzIuW",
        "outputId": "66d2e99f-4df4-42c2-c681-aef31ca26480"
      },
      "source": [
        "models = ['DecisionTreeClassifier', 'RandomForestClassifier', 'XGBClassifier', 'CatBoostClassifier', 'LGBMClassifier']\n",
        "\n",
        "pred_train = [pred_1_tr, pred_2_tr, pred_3_tr, pred_4_tr, pred_5_tr]\n",
        "pred_pr_train = [pred_1_pr_tr, pred_2_pr_tr, pred_3_pr_tr, pred_4_pr_tr, pred_5_pr_tr]\n",
        "\n",
        "def fill_result(models, pred_train, pred_pr_train):\n",
        "    result = pd.DataFrame(columns=models)\n",
        "    for i in range(len(models)):\n",
        "        result.loc['F1 score train', models[i]] = f1_score(y_train, pred_train[i]) \n",
        "        result.loc['Accuracy train', models[i]] = accuracy_score(y_train, pred_train[i])\n",
        "        result.loc['ROC-AUC train', models[i]] = roc_auc_score(y_train, pred_pr_train[i])\n",
        "        result.loc['GINI train', models[i]] = GINI(y_train, pred_pr_train[i])\n",
        "    \n",
        "    return result\n",
        "\n",
        "result_metrics = fill_result(models, pred_train, pred_pr_train)\n",
        "result_metrics"
      ],
      "execution_count": null,
      "outputs": [
        {
          "output_type": "execute_result",
          "data": {
            "text/html": [
              "<div>\n",
              "<style scoped>\n",
              "    .dataframe tbody tr th:only-of-type {\n",
              "        vertical-align: middle;\n",
              "    }\n",
              "\n",
              "    .dataframe tbody tr th {\n",
              "        vertical-align: top;\n",
              "    }\n",
              "\n",
              "    .dataframe thead th {\n",
              "        text-align: right;\n",
              "    }\n",
              "</style>\n",
              "<table border=\"1\" class=\"dataframe\">\n",
              "  <thead>\n",
              "    <tr style=\"text-align: right;\">\n",
              "      <th></th>\n",
              "      <th>DecisionTreeClassifier</th>\n",
              "      <th>RandomForestClassifier</th>\n",
              "      <th>XGBClassifier</th>\n",
              "      <th>CatBoostClassifier</th>\n",
              "      <th>LGBMClassifier</th>\n",
              "    </tr>\n",
              "  </thead>\n",
              "  <tbody>\n",
              "    <tr>\n",
              "      <th>F1 score train</th>\n",
              "      <td>0.829563</td>\n",
              "      <td>0.831082</td>\n",
              "      <td>0.196515</td>\n",
              "      <td>0.310467</td>\n",
              "      <td>0.248575</td>\n",
              "    </tr>\n",
              "    <tr>\n",
              "      <th>Accuracy train</th>\n",
              "      <td>0.937046</td>\n",
              "      <td>0.937029</td>\n",
              "      <td>0.795431</td>\n",
              "      <td>0.817387</td>\n",
              "      <td>0.803624</td>\n",
              "    </tr>\n",
              "    <tr>\n",
              "      <th>ROC-AUC train</th>\n",
              "      <td>0.962799</td>\n",
              "      <td>0.938965</td>\n",
              "      <td>0.700852</td>\n",
              "      <td>0.755877</td>\n",
              "      <td>0.734606</td>\n",
              "    </tr>\n",
              "    <tr>\n",
              "      <th>GINI train</th>\n",
              "      <td>0.925598</td>\n",
              "      <td>0.877931</td>\n",
              "      <td>0.401705</td>\n",
              "      <td>0.511754</td>\n",
              "      <td>0.469212</td>\n",
              "    </tr>\n",
              "  </tbody>\n",
              "</table>\n",
              "</div>"
            ],
            "text/plain": [
              "               DecisionTreeClassifier  ... LGBMClassifier\n",
              "F1 score train               0.829563  ...       0.248575\n",
              "Accuracy train               0.937046  ...       0.803624\n",
              "ROC-AUC train                0.962799  ...       0.734606\n",
              "GINI train                   0.925598  ...       0.469212\n",
              "\n",
              "[4 rows x 5 columns]"
            ]
          },
          "metadata": {
            "tags": []
          },
          "execution_count": 136
        }
      ]
    },
    {
      "cell_type": "code",
      "metadata": {
        "colab": {
          "base_uri": "https://localhost:8080/"
        },
        "id": "n0pwtOzJ_WiV",
        "outputId": "235eda5b-1f75-4d34-c8a2-11978ec86113"
      },
      "source": [
        "rep_1 = classification_report(y_train, pred_3_tr)\n",
        "print(rep_1)"
      ],
      "execution_count": null,
      "outputs": [
        {
          "output_type": "stream",
          "text": [
            "              precision    recall  f1-score   support\n",
            "\n",
            "         0.0       0.80      0.98      0.88     48489\n",
            "         1.0       0.63      0.12      0.20     13270\n",
            "\n",
            "    accuracy                           0.80     61759\n",
            "   macro avg       0.72      0.55      0.54     61759\n",
            "weighted avg       0.77      0.80      0.74     61759\n",
            "\n"
          ],
          "name": "stdout"
        }
      ]
    },
    {
      "cell_type": "markdown",
      "metadata": {
        "id": "5rtw0J8v8NkJ"
      },
      "source": [
        "Сохраним отдельно прогнозы модели на следующий месяц"
      ]
    },
    {
      "cell_type": "code",
      "metadata": {
        "id": "E7dTjMTN8M-5"
      },
      "source": [
        "predict = pd.DataFrame(columns=models)\n",
        "predict['DecisionTreeClassifier'] = pred_1_t\n",
        "predict['RandomForestClassifier'] = pred_2_t\n",
        "predict['XGBClassifier'] = pred_3_t\n",
        "predict['CatBoostClassifier'] = pred_4_t\n",
        "predict['LGBMClassifier'] = pred_5_t"
      ],
      "execution_count": null,
      "outputs": []
    },
    {
      "cell_type": "code",
      "metadata": {
        "colab": {
          "base_uri": "https://localhost:8080/",
          "height": 17
        },
        "id": "1rlV6ewczcdW",
        "outputId": "bb41ac4f-0b8c-463b-cf1e-7ba58b1fc16d"
      },
      "source": [
        "predict.to_csv('predict_aug.csv', index=False)\n",
        "files.download(\"predict_aug.csv\")"
      ],
      "execution_count": null,
      "outputs": [
        {
          "output_type": "display_data",
          "data": {
            "application/javascript": [
              "\n",
              "    async function download(id, filename, size) {\n",
              "      if (!google.colab.kernel.accessAllowed) {\n",
              "        return;\n",
              "      }\n",
              "      const div = document.createElement('div');\n",
              "      const label = document.createElement('label');\n",
              "      label.textContent = `Downloading \"${filename}\": `;\n",
              "      div.appendChild(label);\n",
              "      const progress = document.createElement('progress');\n",
              "      progress.max = size;\n",
              "      div.appendChild(progress);\n",
              "      document.body.appendChild(div);\n",
              "\n",
              "      const buffers = [];\n",
              "      let downloaded = 0;\n",
              "\n",
              "      const channel = await google.colab.kernel.comms.open(id);\n",
              "      // Send a message to notify the kernel that we're ready.\n",
              "      channel.send({})\n",
              "\n",
              "      for await (const message of channel.messages) {\n",
              "        // Send a message to notify the kernel that we're ready.\n",
              "        channel.send({})\n",
              "        if (message.buffers) {\n",
              "          for (const buffer of message.buffers) {\n",
              "            buffers.push(buffer);\n",
              "            downloaded += buffer.byteLength;\n",
              "            progress.value = downloaded;\n",
              "          }\n",
              "        }\n",
              "      }\n",
              "      const blob = new Blob(buffers, {type: 'application/binary'});\n",
              "      const a = document.createElement('a');\n",
              "      a.href = window.URL.createObjectURL(blob);\n",
              "      a.download = filename;\n",
              "      div.appendChild(a);\n",
              "      a.click();\n",
              "      div.remove();\n",
              "    }\n",
              "  "
            ],
            "text/plain": [
              "<IPython.core.display.Javascript object>"
            ]
          },
          "metadata": {
            "tags": []
          }
        },
        {
          "output_type": "display_data",
          "data": {
            "application/javascript": [
              "download(\"download_5aab66fd-fdd0-4eed-b14a-a0d97ec6e0e0\", \"predict_aug.csv\", 1363334)"
            ],
            "text/plain": [
              "<IPython.core.display.Javascript object>"
            ]
          },
          "metadata": {
            "tags": []
          }
        }
      ]
    }
  ]
}